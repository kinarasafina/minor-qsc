{
 "cells": [
  {
   "cell_type": "code",
   "execution_count": 15,
   "id": "86a3e6ea",
   "metadata": {},
   "outputs": [],
   "source": [
    "from Crypto.Cipher import AES, DES3\n",
    "from Crypto.Random import get_random_bytes\n",
    "from Crypto.Util.Padding import pad, unpad\n",
    "from Crypto.Util import Counter\n",
    "from base64 import b64decode, b64encode"
   ]
  },
  {
   "cell_type": "markdown",
   "id": "4c5c8e0e",
   "metadata": {},
   "source": [
    "# Triple DES\n",
    "\n",
    "We will be using the key generation method of choosing 3 distict keys as it is the strongest algorithm against brute force attacks. Each key is 8-bytes, so with 3 keys the total is 24 bytes. Accounting for 24 parity bits, the key length would be 168 bits. But due to \"meet-in-the-middle\" attack, the effective key length is 112 bits (https://en.wikipedia.org/wiki/Meet-in-the-middle_attack) (https://en.wikipedia.org/wiki/Triple_DES) (https://pycryptodome.readthedocs.io/en/latest/src/cipher/des3.html)"
   ]
  },
  {
   "cell_type": "markdown",
   "id": "65b6777f",
   "metadata": {},
   "source": [
    "## Key generation"
   ]
  },
  {
   "cell_type": "markdown",
   "id": "49fa8e69",
   "metadata": {},
   "source": [
    "We are generating 3 distinct keys by checking if each part of the key is not equal"
   ]
  },
  {
   "cell_type": "code",
   "execution_count": 16,
   "id": "ab2c8efc",
   "metadata": {},
   "outputs": [
    {
     "name": "stdout",
     "output_type": "stream",
     "text": [
      "0d58028ab5e001800d43268c23251a975b4c315d64c14f3d\n",
      "0d58028ab5e00180\n",
      "0d43268c23251a97\n",
      "5b4c315d64c14f3d\n"
     ]
    }
   ],
   "source": [
    "\n",
    "def generate_key():\n",
    "    while True:\n",
    "        key = get_random_bytes(24)\n",
    "        try:\n",
    "            key = DES3.adjust_key_parity(key)\n",
    "            break\n",
    "        except ValueError:\n",
    "            pass\n",
    "\n",
    "    k1, k2, k3 = key[0: 8], key[8:16], key[16:]\n",
    "\n",
    "    if k1 != k2 and k2 != k3 and k1 != k3:\n",
    "        return key, (k1, k2, k3)\n",
    "\n",
    "key, (k1, k2, k3) = generate_key()\n",
    "print(key.hex())\n",
    "print(k1.hex())\n",
    "print(k2.hex())\n",
    "print(k3.hex())"
   ]
  },
  {
   "cell_type": "code",
   "execution_count": null,
   "id": "10794e63",
   "metadata": {},
   "outputs": [],
   "source": [
    "cipher = DES3.new(key, DES3.MO)\n"
   ]
  }
 ],
 "metadata": {
  "kernelspec": {
   "display_name": "Python (minor-qsc)",
   "language": "python",
   "name": "minor-qsc"
  },
  "language_info": {
   "codemirror_mode": {
    "name": "ipython",
    "version": 3
   },
   "file_extension": ".py",
   "mimetype": "text/x-python",
   "name": "python",
   "nbconvert_exporter": "python",
   "pygments_lexer": "ipython3",
   "version": "3.11.13"
  }
 },
 "nbformat": 4,
 "nbformat_minor": 5
}
