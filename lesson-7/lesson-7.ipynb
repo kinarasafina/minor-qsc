{
 "cells": [
  {
   "cell_type": "code",
   "execution_count": 1,
   "id": "86a3e6ea",
   "metadata": {},
   "outputs": [],
   "source": [
    "from Crypto.Cipher import AES, DES3\n",
    "from Crypto.Random import get_random_bytes\n",
    "from Crypto.Util.Padding import pad, unpad\n",
    "from Crypto.Util import Counter\n",
    "from base64 import b64decode, b64encode"
   ]
  },
  {
   "cell_type": "markdown",
   "id": "4c5c8e0e",
   "metadata": {},
   "source": [
    "# Triple DES"
   ]
  },
  {
   "cell_type": "markdown",
   "id": "65b6777f",
   "metadata": {},
   "source": [
    "## Key generation"
   ]
  },
  {
   "cell_type": "code",
   "execution_count": 2,
   "id": "ab2c8efc",
   "metadata": {},
   "outputs": [
    {
     "name": "stdout",
     "output_type": "stream",
     "text": [
      "3DES key (hex): 46d60dc8a7b3373470e340041c891f2f610b0da2ea982cf8\n",
      "K1: 46d60dc8a7b33734\n",
      "K2: 70e340041c891f2f\n",
      "K3: 610b0da2ea982cf8\n"
     ]
    }
   ],
   "source": [
    "def generate_3des_key():\n",
    "    while True:\n",
    "        key = get_random_bytes(24)\n",
    "        try:\n",
    "            key = DES3.adjust_key_parity(key)\n",
    "        except ValueError:\n",
    "            continue\n",
    "        \n",
    "        k1, k2, k3 = key[:8], key[8:16], key[16:]\n",
    "        \n",
    "        if k1 != k2 and k2 != k3 and k1 != k3:\n",
    "            return key, (k1, k2, k3)\n",
    "\n",
    "key, (k1, k2, k3) = generate_3des_key()\n",
    "\n",
    "print(\"3DES key (hex):\", key.hex())\n",
    "print(\"K1:\", k1.hex())\n",
    "print(\"K2:\", k2.hex())\n",
    "print(\"K3:\", k3.hex())"
   ]
  },
  {
   "cell_type": "markdown",
   "id": "d648b1f1",
   "metadata": {},
   "source": [
    "## Encryption"
   ]
  },
  {
   "cell_type": "code",
   "execution_count": 3,
   "id": "10794e63",
   "metadata": {},
   "outputs": [
    {
     "name": "stdout",
     "output_type": "stream",
     "text": [
      "Sly9Npn+th/q/rfm7YhL8NscOIHLJWqaOoiQ4EVJyZj5Xx8NVCuUcEQ8gb7aHwN5/9vGx1n4YBvQdFOHnBil+6JeP1tGthtS5XYKyG7JSiwq3+aM7SidsdmIDcdogzVfKJbwNutkVtZtdudlYCr7rje7g0NjCNLAZTGwd8YHTFbXmzXXS1iq4Vo4VHXf/CX+CGOQR/Qrnz1OsrT7oD0kjC/73ZGxNJGw8aVvTNm7I58xNg81jHH9dhgrxTwCpYOJ7l4CwXJ0Ccu1qCDbvBGCrwBMhOTWQIZcSesaqp01reTZbQ8JWG58JnufzAYXBMIjjmskg7mKB+ClqahEDF3ff9rPtNIYGnUclZMVdmYTvaUbg5kZat6fr2hONdm1YUQzWPNAJ85TaDbcPP21HPaBdqQ2SjcwjpmBtoT/CtULxyIhNzLIO8nMFo5lS70KxvfLX3QJbu+9muyM87AYSSi+FWQwEszgy3QTP1O9beMgn5AqBMriLfnrWhOhis7nXmrClz6t7Y2xuD9rjAqbItcphTfLVsKyAXPZK7vkBD2QaaY+hCFJ2Y6I4xZMeLpIHDmIST4W2NmINt+0HVgsz/n6mQ==\n"
     ]
    }
   ],
   "source": [
    "def encypt_3DES(plaintext, key):\n",
    "    cipher = DES3.new(key, DES3.MODE_CBC)\n",
    "    ct_bytes = cipher.encrypt(pad(plaintext, DES3.block_size)) \n",
    "    initial_vector = b64encode(cipher.iv).decode('utf-8') #initialization vector -> probabilistic method\n",
    "    ct = b64encode(ct_bytes).decode('utf-8') #cipher text\n",
    "    return initial_vector, ct\n",
    "\n",
    "data = 'Lorem ipsum dolor sit amet, consectetur adipiscing elit,' \\\n",
    "'sed do eiusmod tempor incididunt ut labore et dolore magna aliqua. ' \\\n",
    "'Ut enim ad minim veniam, quis nostrud exercitation ullamco laboris nisi ' \\\n",
    "'ut aliquip ex ea commodo consequat. Duis aute irure dolor in reprehenderit in voluptate ' \\\n",
    "'velit esse cillum dolore eu fugiat nulla pariatur. Excepteur sint occaecat cupidatat non proident, ' \\\n",
    "'sunt in culpa qui officia deserunt mollit anim id est laborum.'.encode('utf_8')\n",
    "iv, ct = encypt_3DES(plaintext=data, key=key)\n",
    "print(ct)"
   ]
  },
  {
   "cell_type": "markdown",
   "id": "4c2f062d",
   "metadata": {},
   "source": [
    "## Decryption"
   ]
  },
  {
   "cell_type": "code",
   "execution_count": 4,
   "id": "02a1212f",
   "metadata": {},
   "outputs": [
    {
     "name": "stdout",
     "output_type": "stream",
     "text": [
      "The message was:  b'Lorem ipsum dolor sit amet, consectetur adipiscing elit,sed do eiusmod tempor incididunt ut labore et dolore magna aliqua. Ut enim ad minim veniam, quis nostrud exercitation ullamco laboris nisi ut aliquip ex ea commodo consequat. Duis aute irure dolor in reprehenderit in voluptate velit esse cillum dolore eu fugiat nulla pariatur. Excepteur sint occaecat cupidatat non proident, sunt in culpa qui officia deserunt mollit anim id est laborum.'\n"
     ]
    }
   ],
   "source": [
    "def decrypt_3DES(iv, ct, key):\n",
    "    try:\n",
    "        cipher = DES3.new(key, DES3.MODE_CBC, iv= b64decode(iv))\n",
    "        pt = unpad(cipher.decrypt(b64decode(ct)), DES3.block_size)\n",
    "        print(\"The message was: \", pt)\n",
    "    except (ValueError, KeyError):\n",
    "        print(\"Incorrect decryption\")\n",
    "\n",
    "decrypt_3DES(iv, ct, key)"
   ]
  },
  {
   "cell_type": "markdown",
   "id": "4d5620e5",
   "metadata": {},
   "source": [
    "# AES"
   ]
  },
  {
   "cell_type": "markdown",
   "id": "4b2c4779",
   "metadata": {},
   "source": [
    "## Encryption"
   ]
  },
  {
   "cell_type": "code",
   "execution_count": 5,
   "id": "d5c95e39",
   "metadata": {},
   "outputs": [
    {
     "name": "stdout",
     "output_type": "stream",
     "text": [
      "Ciphertext (Base64): o7PHGAUK6dNPVAg35mBqJA9fGBkZMOGy7aAlVIPaWza1GPjqDkY4PSOAF3Zlyl1lzFVtfRXAd3TLUaEBAxC6H5bX8wY2lVgNc7oX5vaNCRZdLcQZx1tTQOvE1dxmUOf0Yy974snG1shZFA2tGz7LWH1mVq9YhOL0ylaSE83DzX439fCyfVjbdMPY8IaxNeKPvaMVxmE69ztLSUTZOGNWOXrn1DE3Un7zlB5Z9IbGydrEPD5H9OF17JpU+4iFHJ/2BYEgLPxlN5cQzGXt1wJ3ElLIAN2bIqeLRXw9013IDPI1iVPUXJqQRwzesBNQXVz257wSHXeq9j47uKzEWSSvxnNhja54WWR8MzndF7u37Igk5Ycwz9OsaqkX/jOSuNcr9wtDN/q0TJKmDL4EflHsNqszu+wmd9Jr6uDKe0ld2N5viIpG7h4tg6UXhxZ4aukgblyvRbZBQ221xHczioyeKHxi+EB7KMGUt7zcOHLdw4J7EVUvBOJyAa5Ca5G0RQuMNx8esswwOnVWehXPic3NbtwegNB0Ln/KZhYQQfLL867Qzam8svwQf6HzwKrbOC6kPPu1QPNFtOZhf/9/\n"
     ]
    }
   ],
   "source": [
    "nonce = get_random_bytes(8)    # 8-byte nonce (64 bits)\n",
    "key = get_random_bytes(32)     # AES-256 key\n",
    "\n",
    "ctr_encrypt = Counter.new(64, prefix=nonce)   # 64-bit counter, prefixed with nonce\n",
    "aes_cipher_encrypt = AES.new(key, AES.MODE_CTR, counter=ctr_encrypt)\n",
    "ciphertext = aes_cipher_encrypt.encrypt(data)\n",
    "\n",
    "encoded_ciphertext = b64encode(ciphertext).decode(\"utf-8\")\n",
    "print(\"Ciphertext (Base64):\", encoded_ciphertext)"
   ]
  },
  {
   "cell_type": "markdown",
   "id": "33e0ba5a",
   "metadata": {},
   "source": [
    "## Decryption"
   ]
  },
  {
   "cell_type": "code",
   "execution_count": 6,
   "id": "4b396035",
   "metadata": {},
   "outputs": [
    {
     "name": "stdout",
     "output_type": "stream",
     "text": [
      "Decrypted (readable): Lorem ipsum dolor sit amet, consectetur adipiscing elit,sed do eiusmod tempor incididunt ut labore et dolore magna aliqua. Ut enim ad minim veniam, quis nostrud exercitation ullamco laboris nisi ut aliquip ex ea commodo consequat. Duis aute irure dolor in reprehenderit in voluptate velit esse cillum dolore eu fugiat nulla pariatur. Excepteur sint occaecat cupidatat non proident, sunt in culpa qui officia deserunt mollit anim id est laborum.\n"
     ]
    }
   ],
   "source": [
    "ctr_dec = Counter.new(64, prefix=nonce)\n",
    "aes_decipher = AES.new(key, AES.MODE_CTR, counter=ctr_dec)\n",
    "decrypted_bytes = aes_decipher.decrypt(b64decode(encoded_ciphertext))\n",
    "\n",
    "decrypted_text = decrypted_bytes.decode('utf-8')\n",
    "print(\"Decrypted (readable):\", decrypted_text)\n"
   ]
  }
 ],
 "metadata": {
  "kernelspec": {
   "display_name": "Python (minor-qsc)",
   "language": "python",
   "name": "minor-qsc"
  },
  "language_info": {
   "codemirror_mode": {
    "name": "ipython",
    "version": 3
   },
   "file_extension": ".py",
   "mimetype": "text/x-python",
   "name": "python",
   "nbconvert_exporter": "python",
   "pygments_lexer": "ipython3",
   "version": "3.11.13"
  }
 },
 "nbformat": 4,
 "nbformat_minor": 5
}
