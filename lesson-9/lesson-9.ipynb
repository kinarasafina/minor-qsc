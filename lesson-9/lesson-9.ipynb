{
 "cells": [
  {
<<<<<<< HEAD
   "cell_type": "code",
   "execution_count": 108,
   "id": "8f144af6",
   "metadata": {},
   "outputs": [],
   "source": [
    "import secrets\n",
    "from Crypto.Cipher import AES\n",
    "from Crypto.Util.Padding import pad, unpad\n",
    "from Crypto.Random import get_random_bytes\n",
    "from hashlib import sha256"
   ]
  },
  {
   "cell_type": "markdown",
   "id": "cf5f93c4",
   "metadata": {},
   "source": [
    "# Diffie-Hellman Set up\n",
    "\n",
    "\n",
    "1. A and B agree on two large prime numbers 𝑝 and 𝑔, with 𝑔 a primitive root of 𝑝. We will choose a group from https://datatracker.ietf.org/doc/html/rfc3526#section-3. which has predefined primes and generators that have been researched before and proven secure. For demo purposes we will choose the 2048-bit MODP Group\n"
=======
   "cell_type": "markdown",
   "id": "377495b6",
   "metadata": {},
   "source": [
    "# Diffie-Hellman Key Exchange"
   ]
  },
  {
   "cell_type": "markdown",
   "id": "7193a7d6",
   "metadata": {},
   "source": [
    "## Imports"
   ]
  },
  {
   "cell_type": "code",
   "execution_count": 2,
   "id": "fb7664d1",
   "metadata": {},
   "outputs": [],
   "source": [
    "import numpy as np\n",
    "from Crypto.Util.number import getPrime, inverse\n",
    "import math"
>>>>>>> b7a3bff8d1536fddf7503ea63dac569d99405c5a
   ]
  },
  {
   "cell_type": "code",
<<<<<<< HEAD
   "execution_count": 109,
   "id": "f22dacbb",
   "metadata": {},
   "outputs": [
    {
     "name": "stdout",
     "output_type": "stream",
     "text": [
      "Using standardized DH group (2048-bit MODP from RFC 3526)\n",
      "p = 32317006071311007300338913926423828248817941241140239112842009751400741706634354222619689417363569347117901737909704191754605873209195028853758986185622153212175412514901774520270235796078236248884246189477587641105928646099411723245426622522193230540919037680524235519125679715870117001058055877651038861847280257976054903569732561526167081339361799541336476559160368317896729073178384589680639671900977202194168647225871031411336429319536193471636533209717077448227988588565369208645296636077250268955505928362751121174096972998068410554359584866583291642136218231078990999448652468262416972035911852507045361090559\n",
      "g = 2\n"
     ]
    }
   ],
   "source": [
    "# Use standardized 2048-bit MODP group from RFC 3526 (Group 14)\n",
    "\n",
    "p_value = int(\n",
    "    \"\"\"FFFFFFFF FFFFFFFF C90FDAA2 2168C234 C4C6628B 80DC1CD1\n",
    "      29024E08 8A67CC74 020BBEA6 3B139B22 514A0879 8E3404DD\n",
    "      EF9519B3 CD3A431B 302B0A6D F25F1437 4FE1356D 6D51C245\n",
    "      E485B576 625E7EC6 F44C42E9 A637ED6B 0BFF5CB6 F406B7ED\n",
    "      EE386BFB 5A899FA5 AE9F2411 7C4B1FE6 49286651 ECE45B3D\n",
    "      C2007CB8 A163BF05 98DA4836 1C55D39A 69163FA8 FD24CF5F\n",
    "      83655D23 DCA3AD96 1C62F356 208552BB 9ED52907 7096966D\n",
    "      670C354E 4ABC9804 F1746C08 CA18217C 32905E46 2E36CE3B\n",
    "      E39E772C 180E8603 9B2783A2 EC07A28F B5C55DF0 6F4C52C9\n",
    "      DE2BCBF6 95581718 3995497C EA956AE5 15D22618 98FA0510\n",
    "      15728E5A 8AACAA68 FFFFFFFF FFFFFFFF\"\"\".replace(\"\\n\", \"\").replace(\" \", \"\"), 16\n",
    ")\n",
    "\n",
    "g_value = 2  # always 2 for MODP groups\n",
    "\n",
    "print(\"Using standardized DH group (2048-bit MODP from RFC 3526)\")\n",
    "print(\"p =\", p_value)\n",
    "print(\"g =\", g_value)\n"
   ]
  },
  {
   "cell_type": "markdown",
   "id": "14d1f569",
   "metadata": {},
   "source": [
    "2. Both A and B generate a random number (say 𝑎 and 𝑏). Those need to be kept secret!! a and b ∈ {2,..., p−2} (from textbook)"
   ]
  },
  {
   "cell_type": "code",
   "execution_count": 110,
   "id": "cce54850",
   "metadata": {},
   "outputs": [
    {
     "name": "stdout",
     "output_type": "stream",
     "text": [
      "Alice's secret (a): 26954773505502569718132190233398103861305377698556051576883147128976789179682564550530605311080082789838087029239046853803616330621097933136716923026995193071277403462565419742593447202151666292264314727017467720717439740922836399683778379122038067927694709243073613815848394395299525310271745561942807306286779501154035036016507100531286570926004718229469641481820670099120191370164928839032140896088284620714896663353195253831842045893546807573187023979172976156895479528115649335932247750805903725932893234672506609718605466275936235016997024829167579258299309869963466253165666724886084521322966822924159924054529\n",
      "Bob's secret (b): 22206830821350200323264879525895266337809036080807955722944766633669787513343659633252046523752065168623270529054529676241269232505428406341974054861625699043495497251183915688236568022930973541041797233527657284456507811253933547589786158567400755062983902331259103960985372519940590205082718635872308802549352282506945874990817164920947276628330114367785556942893235565581582955278766358522521900994467637333943900506388610269548286863856839112397913027356294600073269588652823434657037665595671623970235096923323021136642111324817974611101095021406181839040271535841036252953720050487688452276926640826965059530009\n"
     ]
    }
   ],
   "source": [
    "def generate_secret(p):\n",
    "    \"\"\"\n",
    "    Generate a random secret integer in [2, p-2].\n",
    "    \"\"\"\n",
    "    return secrets.randbelow(p - 3) + 2  # shift range to [2, p-2]\n",
    "\n",
    "alice_secret = generate_secret(p_value)\n",
    "bob_secret   = generate_secret(p_value)\n",
    "\n",
    "print(\"Alice's secret (a):\", alice_secret)\n",
    "print(\"Bob's secret (b):\", bob_secret)"
   ]
  },
  {
   "cell_type": "markdown",
   "id": "80fe0806",
   "metadata": {},
   "source": [
    "3. A sends 𝑔^𝑎 mod 𝑝 to B via a public insecure channel\n",
    "4. B sends 𝑔^𝑏 mod 𝑝 to A via a public insecure channel"
   ]
  },
  {
   "cell_type": "code",
   "execution_count": 111,
   "id": "451694db",
   "metadata": {},
   "outputs": [
    {
     "name": "stdout",
     "output_type": "stream",
     "text": [
      "Alice's public value (A): 11948591921233827367205051212470319779521180094694097805349084776705712751858173655948547354471829932028524669335827922364434260437119443731768928571871255273839073445947405179549508465736572222137491894642968887902572676239857377295522313034784052581975335149415039773681661472873284804458870145484661103029931106982684317895964105480366011586548808760444657652728916929129284006865868409425321619074601005369217896861954886346766920448599752444032606533002940961234864352212839713181182153753363203769623438010926464758760152626051222302889297376352151572898249849774043465887381972513046507634477119018278241916998\n",
      "Bob's public value (B): 2297740598701187363749161253549528354477687130575868461104788435835072788098645954268446870397281579124080803254378639241505357879718630877451244402336195773686132966283237847118905230233350099322084255795613492128588318346043593758218060755594116657115200848496291233653192796188317186267797289072243021418926541877258498412166220362995727182736022251629855301440984014972301921081430227093972396398250738574516738758257942603164367302436059553484314193490933382488322625653176692646155072270551507801360628905868986437194293042823656775974491521748455823979495669321743815228197749381700660422694771579670030375205\n"
     ]
    }
   ],
   "source": [
    "alice_public = pow(g_value, alice_secret, p_value)  # g^a mod p\n",
    "bob_public   = pow(g_value, bob_secret, p_value)    # g^b mod p\n",
    "\n",
    "print(\"Alice's public value (A):\", alice_public)\n",
    "print(\"Bob's public value (B):\", bob_public)"
   ]
  },
  {
   "cell_type": "markdown",
   "id": "c61d1de5",
   "metadata": {},
   "source": [
    "5. A calculates (𝑔^𝑏 )^𝑎≡𝑔^𝑎𝑏 mod 𝑝 and 𝐵 calculates (𝑔^𝑎 )^𝑏≡𝑔^𝑎𝑏 mod 𝑝. The result can now be used as a shared secret key "
   ]
  },
  {
   "cell_type": "code",
   "execution_count": 112,
   "id": "a8f506d6",
   "metadata": {},
   "outputs": [
    {
     "name": "stdout",
     "output_type": "stream",
     "text": [
      "Alice's shared secret: 5820580382824595084379315333102684637006923442337204133928199582422934252902635223977072544236954536588529119554861403741714221300420724928739399571230864036125863542851800953156001234251580035615507938503313642081821239618564812759938073262704546476326975532298627434487306407453906440053731819062055301055444433481618993068283006903694768057225551403512811796673569324807047608030782122500878223732709128196890363208177833550450343424297884635929000447418029097840512145378683451179178345492175349313934893910733305422255671215470279494331622288503855431998749840621060034520437267850106227462203811188983231983369\n",
      "Bob's shared secret:   5820580382824595084379315333102684637006923442337204133928199582422934252902635223977072544236954536588529119554861403741714221300420724928739399571230864036125863542851800953156001234251580035615507938503313642081821239618564812759938073262704546476326975532298627434487306407453906440053731819062055301055444433481618993068283006903694768057225551403512811796673569324807047608030782122500878223732709128196890363208177833550450343424297884635929000447418029097840512145378683451179178345492175349313934893910733305422255671215470279494331622288503855431998749840621060034520437267850106227462203811188983231983369\n",
      "Do they match?         True\n"
     ]
    }
   ],
   "source": [
    "alice_shared = pow(bob_public, alice_secret, p_value)  # (g^b)^a mod p\n",
    "bob_shared   = pow(alice_public, bob_secret, p_value)  # (g^a)^b mod p\n",
    "\n",
    "print(\"Alice's shared secret:\", alice_shared)\n",
    "print(\"Bob's shared secret:  \", bob_shared)\n",
    "print(\"Do they match?        \", alice_shared == bob_shared)"
   ]
  },
  {
   "cell_type": "code",
   "execution_count": 113,
   "id": "4bf814dc",
   "metadata": {},
   "outputs": [
    {
     "name": "stdout",
     "output_type": "stream",
     "text": [
      "Derived 256-bit AES key: 055613a23772eb95b7feb32b2b8d0b73146a5c28fe53a8973b9a6c4ba82c67b1\n"
     ]
    }
   ],
   "source": [
    "shared_key = sha256(alice_shared.to_bytes((alice_shared.bit_length() + 7) // 8, 'big')).digest()\n",
    "print(\"Derived 256-bit AES key:\", shared_key.hex())"
   ]
  },
  {
   "cell_type": "markdown",
   "id": "ebf47444",
   "metadata": {},
   "source": [
    "# AES"
   ]
  },
  {
   "cell_type": "code",
   "execution_count": 114,
   "id": "00d522f9",
   "metadata": {},
   "outputs": [],
   "source": [
    "from base64 import b64encode\n",
    "\n",
    "\n",
    "data = 'Lorem ipsum dolor sit amet, consectetur adipiscing elit,' \\\n",
    "'sed do eiusmod tempor incididunt ut labore et dolore magna aliqua. ' \\\n",
    "'Ut enim ad minim veniam, quis nostrud exercitation ullamco laboris nisi ' \\\n",
    "'ut aliquip ex ea commodo consequat. Duis aute irure dolor in reprehenderit in voluptate ' \\\n",
    "'velit esse cillum dolore eu fugiat nulla pariatur. Excepteur sint occaecat cupidatat non proident, ' \\\n",
    "'sunt in culpa qui officia deserunt mollit anim id est laborum.'.encode('utf_8')\n",
    "\n",
    "custom_iv = get_random_bytes(AES.block_size)"
   ]
  },
  {
   "cell_type": "code",
   "execution_count": 115,
   "id": "a870c4b4",
   "metadata": {},
   "outputs": [
    {
     "name": "stdout",
     "output_type": "stream",
     "text": [
      "ciphertext: V/mrG6f92yx1i7bqgDgTcLjsYf2THfRQPgmHo2k/2bCLqNefWpmFuDtA2fXgaQWwGj+tGpP+NpolO6/MHj5FBIQ5y2PzQY8T/fGPuV26rGuUGrcVHye12+LQdyJqICOg099zduNlgIFFNjNaM0BPv9adpyLWC7gU65n36dhqLeRBCvzeMgG0MNjaOVsU77r+wIWYqkXM6HeDmiFEp16AXsokNJTGIYMRuwov+DSDxL5E/GX07zTUjbSc9yn+WWJeU84BZvx6284xD1J3wS7gGgTcVie3iyi6YDu0ziAH+2MmhG0wOAoWXYVtfwatgJZpExRd3ceNQ47nOKNYk1KiZ1hZi4EgN/bnkztU7QlhcCOQRJ8q7pl6Gl5OtO1Cs92ZnEKLQDFahJY+HLqW7/9pDiV+UD95MYAYxn6+CYo8N95bkww2fHIR23eMEHKEzo3NF5+Z9zWvaSPDplKBuwi7X8Iw/Jz2GwjHY4Dl3ULR5CtjZl+K+L7ImkZ2W+UCxmEqeCvpqmDs7zZE+bHmbhEJ6BkQBC8TYP1L+ExUl64R3MHQFHpPGNd7n/hYkzEt/1suTMIIx6K/zSzg4COVCVn9KA==\n"
     ]
    }
   ],
   "source": [
    "def encypt_AES(plaintext, key, iv):\n",
    "    cipher = AES.new(key, AES.MODE_CBC, iv=custom_iv)\n",
    "    ct_bytes = cipher.encrypt(pad(plaintext, AES.block_size)) \n",
    "    initial_vector = b64encode(cipher.iv).decode('utf-8') #initialization vector -> probabilistic method\n",
    "    ct = b64encode(ct_bytes).decode('utf-8') #cipher text\n",
    "    return initial_vector, ct\n",
    "\n",
    "\n",
    "iv, ct = encypt_AES(plaintext=data, key=shared_key, iv=custom_iv)\n",
    "print(f\"ciphertext: {ct}\")"
   ]
  },
  {
   "cell_type": "code",
   "execution_count": 116,
   "id": "fa3857cb",
   "metadata": {},
   "outputs": [
    {
     "name": "stdout",
     "output_type": "stream",
     "text": [
      "The message was:  b'Lorem ipsum dolor sit amet, consectetur adipiscing elit,sed do eiusmod tempor incididunt ut labore et dolore magna aliqua. Ut enim ad minim veniam, quis nostrud exercitation ullamco laboris nisi ut aliquip ex ea commodo consequat. Duis aute irure dolor in reprehenderit in voluptate velit esse cillum dolore eu fugiat nulla pariatur. Excepteur sint occaecat cupidatat non proident, sunt in culpa qui officia deserunt mollit anim id est laborum.'\n"
     ]
    }
   ],
   "source": [
    "from base64 import b64decode\n",
    "\n",
    "def decrypt_AES(iv, ct, key):\n",
    "    try:\n",
    "        cipher = AES.new(key, AES.MODE_CBC, iv= b64decode(iv))\n",
    "        pt = unpad(cipher.decrypt(b64decode(ct)), AES.block_size)\n",
    "        print(\"The message was: \", pt)\n",
    "    except (ValueError, KeyError):\n",
    "        print(\"Incorrect decryption\")\n",
    "\n",
    "decrypt_AES(iv, ct, shared_key)"
   ]
=======
   "execution_count": null,
   "id": "9badde93",
   "metadata": {},
   "outputs": [],
   "source": []
>>>>>>> b7a3bff8d1536fddf7503ea63dac569d99405c5a
  }
 ],
 "metadata": {
  "kernelspec": {
<<<<<<< HEAD
   "display_name": "Python (minor-qsc)",
   "language": "python",
   "name": "minor-qsc"
=======
   "display_name": "Python 3",
   "language": "python",
   "name": "python3"
>>>>>>> b7a3bff8d1536fddf7503ea63dac569d99405c5a
  },
  "language_info": {
   "codemirror_mode": {
    "name": "ipython",
    "version": 3
   },
   "file_extension": ".py",
   "mimetype": "text/x-python",
   "name": "python",
   "nbconvert_exporter": "python",
   "pygments_lexer": "ipython3",
<<<<<<< HEAD
   "version": "3.11.13"
=======
   "version": "3.13.2"
>>>>>>> b7a3bff8d1536fddf7503ea63dac569d99405c5a
  }
 },
 "nbformat": 4,
 "nbformat_minor": 5
}
