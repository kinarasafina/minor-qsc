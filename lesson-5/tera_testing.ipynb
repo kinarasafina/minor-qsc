{
 "cells": [
  {
   "cell_type": "code",
   "execution_count": 83,
   "id": "fbd55df9",
   "metadata": {},
   "outputs": [],
   "source": [
    "import numpy as np\n",
    "from Crypto.Util.number import getPrime, inverse\n",
    "from hashlib import sha256\n",
    "from random import randint\n",
    "from Crypto.PublicKey import RSA\n",
    "import math as m"
   ]
  },
  {
   "cell_type": "markdown",
   "id": "cb185c06",
   "metadata": {},
   "source": [
    "# Generate a keypair for both the sender and receiver"
   ]
  },
  {
   "cell_type": "code",
   "execution_count": 84,
   "id": "285be773",
   "metadata": {},
   "outputs": [],
   "source": [
    "# sender_keypair = RSA.generate(2048) #recommended 2048 key length\n",
    "# receiver_keypair = RSA.generate(2048)\n",
    "\n",
    "# pwd = b'secure_password'\n",
    "# with open(\"sender_privkey.pem\", \"wb\") as f:\n",
    "#     data = sender_keypair.export_key(passphrase=pwd,\n",
    "#                                 pkcs=8,\n",
    "#                                 protection='PBKDF2WithHMAC-SHA512AndAES256-CBC',\n",
    "#                                 prot_params={'iteration_count':131072})\n",
    "#     f.write(data)"
   ]
  },
  {
   "cell_type": "code",
   "execution_count": 85,
   "id": "6fb34276",
   "metadata": {},
   "outputs": [],
   "source": [
    "# pwd = b'secure_password_receiver'\n",
    "# with open(\"receiver_privkey.pem\", \"wb\") as f:\n",
    "#     data = receiver_keypair.export_key(passphrase=pwd,\n",
    "#                                 pkcs=8,\n",
    "#                                 protection='PBKDF2WithHMAC-SHA512AndAES256-CBC',\n",
    "#                                 prot_params={'iteration_count':131072})\n",
    "#     f.write(data)"
   ]
  },
  {
   "cell_type": "code",
   "execution_count": 86,
   "id": "31ae33d2",
   "metadata": {},
   "outputs": [],
   "source": [
    "# with open(\"receiver_pubkey.pem\", \"wb\") as f:\n",
    "#     data = receiver_keypair.public_key().export_key()\n",
    "#     f.write(data)"
   ]
  },
  {
   "cell_type": "code",
   "execution_count": 87,
   "id": "9d227448",
   "metadata": {},
   "outputs": [],
   "source": [
    "# with open(\"sender_pubkey.pem\", \"wb\") as f:\n",
    "#     data = sender_keypair.public_key().export_key()\n",
    "#     f.write(data)"
   ]
  },
  {
   "cell_type": "markdown",
   "id": "91a50719",
   "metadata": {},
   "source": [
    "# Message (m) and Encryption -> M"
   ]
  },
  {
   "cell_type": "code",
   "execution_count": 88,
   "id": "e9351b9d",
   "metadata": {},
   "outputs": [
    {
     "data": {
      "text/plain": [
       "b'secret message'"
      ]
     },
     "execution_count": 88,
     "metadata": {},
     "output_type": "execute_result"
    }
   ],
   "source": [
    "msg = 'secret message'.encode('utf-8')\n",
    "msg"
   ]
  },
  {
   "cell_type": "markdown",
   "id": "fcab1f93",
   "metadata": {},
   "source": [
    "# Key generation"
   ]
  },
  {
   "cell_type": "code",
   "execution_count": 89,
   "id": "e4123f30",
   "metadata": {},
   "outputs": [],
   "source": [
    "def generate_keypair():\n",
    "    p = getPrime(1024)\n",
    "    q = getPrime(1024)\n",
    "    n = p * q\n",
    "    phi_n = (p - 1) * (q - 1)\n",
    "\n",
    "    while True:\n",
    "        e = randint(2, phi_n - 1)\n",
    "        if m.gcd(e, phi_n) == 1:\n",
    "            break\n",
    "    \n",
    "    d = inverse(e, phi_n)\n",
    "\n",
    "    public_key = (n, e)\n",
    "    private_key = (n, d)\n",
    "\n",
    "    return public_key, private_key"
   ]
  },
  {
   "cell_type": "code",
   "execution_count": 90,
   "id": "a6db0b6a",
   "metadata": {},
   "outputs": [
    {
     "name": "stdout",
     "output_type": "stream",
     "text": [
      "((13874686323787543361091696000387236446188902559048182992734722888776856560982370375294260376125850384500292496243997679200376812917786306734144467502546486894558519819106826301668401887331705179428218952007150300633487449796372524077560263194506732140363628212592780095666724352461745255856321670632364708301610595612255580881476713091757132129260136509733315607675797664824511321159343453074376949246094869597011260705456957770889549797109310717272897657061901295347926732923948003699028844785086632677960669977428561707270931892848986549983132877221044049358065434628027492479658781095974828965131704017043039439503, 5928313193013404403700754606864666090583056722247360017529973971509585147968532431005491521832783008670751438608720819522203990992484518021035819260964184124128128302098817467779479525138184202973532895529969985617750203141159568840649055313085687789381276496989921897825384930499192696441305498509751385771316041124168030139358100858556230310306882976509121454548650920852114512195976125596994447182782658999342342133792163752022588489608665692102896429671957344062833261490304000508472349362859161192774068510658021833167488946488961207559918278998139785667755497339952264292612450507044127647086912003621600382967), (13874686323787543361091696000387236446188902559048182992734722888776856560982370375294260376125850384500292496243997679200376812917786306734144467502546486894558519819106826301668401887331705179428218952007150300633487449796372524077560263194506732140363628212592780095666724352461745255856321670632364708301610595612255580881476713091757132129260136509733315607675797664824511321159343453074376949246094869597011260705456957770889549797109310717272897657061901295347926732923948003699028844785086632677960669977428561707270931892848986549983132877221044049358065434628027492479658781095974828965131704017043039439503, 5139762068775267716241631519111724453552943646915106696503859373220678125502362143900439968553704801161258179702336358192029197413278478008197504226431690613603472075513587951392454013977953792709910491412853864678813910996244393250731891109867767641322869389893411889537938191416102331456627883977727876564124683649152819452432889100362353561435019767918314629349997291851975834429357442792664804602447089440776143228812862415559080353068343586832324285915285465831850292375033721158959638449859989701558936735687765510623188686273423933567858912795743998673959554651346824047225009555281994874465271690118670372831)) \n",
      " ((18904166914090654452409318287805050905867735474804906786102161729593892812491383191673891708903517633386451617186782575070412487327044702448674104845978062237389839003803556494322598838808684525278011376356220905695429725461605344502090487541699992989144313361873271200221589218500310859638471888183289625188101574863032989353928037838512053771783073406068064617880167714597627140090687940668315873087064078144125318271012970654792865317602456941083321326247640707569503962870784124635123282180792467132284027295667076874497724634164351265178352821549333958633795196991872849439318959384548215641227514779110036595853, 8092902206752557089091120532030584321784024030955903436704024396609242392956722597179489498621904227965950535783403218173056678226057218241125952593293388879336767802962655422736404065979458070832661098443207282011742465066328416865046357696470751386789278251446070949258447150949255068880646397866142183514606137900681544204737861735605480062790598340193003770579015952771782566505758480532759517293743603506751397529105502829384624557326750086900726075472539369740878526598782732306535898227666230592946028212061622554244389229833431991549710651815089535275557982388998914088174321266109229178085307655747342367777), (18904166914090654452409318287805050905867735474804906786102161729593892812491383191673891708903517633386451617186782575070412487327044702448674104845978062237389839003803556494322598838808684525278011376356220905695429725461605344502090487541699992989144313361873271200221589218500310859638471888183289625188101574863032989353928037838512053771783073406068064617880167714597627140090687940668315873087064078144125318271012970654792865317602456941083321326247640707569503962870784124635123282180792467132284027295667076874497724634164351265178352821549333958633795196991872849439318959384548215641227514779110036595853, 13044809250257662123649891517220217542699867637447751297883223324295199424624512469264929324977198541050071420148925766199954461320363180506930391390861889838446174516746378455093884684144018446869745844740414338097743337781794001353546744864478650228995818795845400325501595670948839642796753608201379794218472556285615372765470103193694346625762350646615602488570998340320319279842254688358665988421420358224799805508168266629079325459754832356061097834015432346118258622291815523108054696378367539690986796560272396947610442403181366257680744009279246623381632846711443653574588500595998550904222005076036391278813))\n"
     ]
    }
   ],
   "source": [
    "sender_keypair = generate_keypair()\n",
    "receiver_keypair = generate_keypair()\n",
    "print(sender_keypair, '\\n', receiver_keypair)"
   ]
  },
  {
   "cell_type": "markdown",
   "id": "1479ca6a",
   "metadata": {},
   "source": [
    "x -> encoded plaintext\n",
    "y -> encrypted plaintext\n",
    "h -> hashed x"
   ]
  },
  {
   "cell_type": "markdown",
   "id": "1ab8598c",
   "metadata": {},
   "source": [
    "# Encoding Message"
   ]
  },
  {
   "cell_type": "code",
   "execution_count": 91,
   "id": "eae791af",
   "metadata": {},
   "outputs": [
    {
     "data": {
      "text/plain": [
       "2340509926146499719798124187838309"
      ]
     },
     "execution_count": 91,
     "metadata": {},
     "output_type": "execute_result"
    }
   ],
   "source": [
    "msg = 'secret message'.encode('utf-8')\n",
    "x = int.from_bytes(msg, 'big')\n",
    "x"
   ]
  },
  {
   "cell_type": "code",
   "execution_count": 92,
   "id": "f1543b15",
   "metadata": {},
   "outputs": [
    {
     "data": {
      "text/plain": [
       "521516269522829685450100"
      ]
     },
     "execution_count": 92,
     "metadata": {},
     "output_type": "execute_result"
    }
   ],
   "source": [
    "hacker_msg = 'not secret'.encode('utf-8')\n",
    "x_hack = int.from_bytes(hacker_msg, 'big')\n",
    "x_hack"
   ]
  },
  {
   "cell_type": "markdown",
   "id": "85eb427d",
   "metadata": {},
   "source": [
    "# Encryption"
   ]
  },
  {
   "cell_type": "code",
   "execution_count": 93,
   "id": "a93fa938",
   "metadata": {},
   "outputs": [
    {
     "data": {
      "text/plain": [
       "1844533313139321824226653650811985318782945628865538471097598424213983243966275771346151131941896201128104633437903350882418029969595368759349626259605922954084274069689273476649757589751214359690914682754053153131217016591738976018989346499844987801602596774444677870429981106863110930610546003484331568515027551162107480773280884940364346265826949246920739777831188612872459910617115175481988979345563291292815233608267978869620430162215494727199094641633535140510825583862415402168587708556686918584233773643598174753429390381855404086957062824617077314713830293315095625000814576443737946186309165058884622143166"
      ]
     },
     "execution_count": 93,
     "metadata": {},
     "output_type": "execute_result"
    }
   ],
   "source": [
    "receiver_pub, receiver_priv = receiver_keypair\n",
    "n, e = receiver_pub\n",
    "y = pow(x, e, n)\n",
    "y"
   ]
  },
  {
   "cell_type": "code",
   "execution_count": 94,
   "id": "2e06bbef",
   "metadata": {},
   "outputs": [
    {
     "data": {
      "text/plain": [
       "6945779932734575239917278514443242751849346430436073077953020390195427174388207445513040132381177628856131544829207296320642962919698385600538577192971509492133293240628918212553746033103126439484494411657484816159579969507042865670922971526404080954509308512356449037712603562931542245937907175326335089285287719185222564275747999885223422933876773127715565913671423097346517973663985151343206001455100209865008457358526105362170246205192735037832548301707398070130709071314363118150005783178531412100196051781668132586383828809082731548054444893508749346789750081211430547612423940884224177297589537714461724500668"
      ]
     },
     "execution_count": 94,
     "metadata": {},
     "output_type": "execute_result"
    }
   ],
   "source": [
    "y_hack = pow(x_hack, e, n)\n",
    "y_hack"
   ]
  },
  {
   "cell_type": "markdown",
   "id": "5c9caf15",
   "metadata": {},
   "source": [
    "# Hash"
   ]
  },
  {
   "cell_type": "code",
   "execution_count": 95,
   "id": "25ea622e",
   "metadata": {},
   "outputs": [
    {
     "data": {
      "text/plain": [
       "84602538464720629197225614477881030577157746024133459066183585119910221554977"
      ]
     },
     "execution_count": 95,
     "metadata": {},
     "output_type": "execute_result"
    }
   ],
   "source": [
    "hash = sha256(msg)\n",
    "h = int.from_bytes(hash.digest(),'big')\n",
    "h"
   ]
  },
  {
   "cell_type": "markdown",
   "id": "12e30ce7",
   "metadata": {},
   "source": [
    "# Signing"
   ]
  },
  {
   "cell_type": "code",
   "execution_count": 96,
   "id": "cd779165",
   "metadata": {},
   "outputs": [
    {
     "data": {
      "text/plain": [
       "729609642748714020919367270356076965203063172431559256470744819111912585936620274820521493503569055176462010434807742459874686757259560050566163920143348340842064304787016582704769172856541757903266003593999620984680207767733508910520223395234516806019394081624959871415040588519564883803875464484767495185604016218034975886462587009837780389357969836648730413646178025609451132359671736194877986960018006511738253794296213603622258327505824799566493427327639795888153141078504539791717703838271325540849209955652098957548422330861121331438658646014056045075195225257474986487422068191949393409241924379614453961060"
      ]
     },
     "execution_count": 96,
     "metadata": {},
     "output_type": "execute_result"
    }
   ],
   "source": [
    "sender_pub, sender_priv = sender_keypair\n",
    "n, d = sender_priv\n",
    "sign = pow(h, d, n)\n",
    "sign "
   ]
  },
  {
   "cell_type": "markdown",
   "id": "fde16986",
   "metadata": {},
   "source": [
    "# Decryption of hash (sign) with Sender pub key"
   ]
  },
  {
   "cell_type": "code",
   "execution_count": 97,
   "id": "7d9ab67c",
   "metadata": {},
   "outputs": [
    {
     "data": {
      "text/plain": [
       "84602538464720629197225614477881030577157746024133459066183585119910221554977"
      ]
     },
     "execution_count": 97,
     "metadata": {},
     "output_type": "execute_result"
    }
   ],
   "source": [
    "n, e = sender_pub\n",
    "decrypt_to_hash = pow(sign, e, n)\n",
    "decrypt_to_hash"
   ]
  },
  {
   "cell_type": "markdown",
   "id": "6341780b",
   "metadata": {},
   "source": [
    "# Decryption of message"
   ]
  },
  {
   "cell_type": "code",
   "execution_count": 98,
   "id": "17d230f2",
   "metadata": {},
   "outputs": [
    {
     "data": {
      "text/plain": [
       "2340509926146499719798124187838309"
      ]
     },
     "execution_count": 98,
     "metadata": {},
     "output_type": "execute_result"
    }
   ],
   "source": [
    "n, d = receiver_priv\n",
    "decrypt_to_msg = pow(y, d, n)\n",
    "decrypt_to_msg"
   ]
  },
  {
   "cell_type": "markdown",
   "id": "7ff71b13",
   "metadata": {},
   "source": [
    "# Hash verification "
   ]
  },
  {
   "cell_type": "code",
   "execution_count": 99,
   "id": "6e2c6807",
   "metadata": {},
   "outputs": [
    {
     "name": "stdout",
     "output_type": "stream",
     "text": [
      "True\n"
     ]
    }
   ],
   "source": [
    "msg_bytes = decrypt_to_msg.to_bytes((decrypt_to_msg.bit_length() + 7) // 8, 'big')\n",
    "final_h = sha256(msg_bytes)\n",
    "print(int.from_bytes(final_h.digest()) == decrypt_to_hash)\n",
    "#print(final_h.digest() == decrypt_to_hash)"
   ]
  },
  {
   "cell_type": "markdown",
   "id": "0b4870e1",
   "metadata": {},
   "source": [
    "# Get plaintext"
   ]
  },
  {
   "cell_type": "code",
   "execution_count": 100,
   "id": "ad273fc4",
   "metadata": {},
   "outputs": [
    {
     "data": {
      "text/plain": [
       "'secret message'"
      ]
     },
     "execution_count": 100,
     "metadata": {},
     "output_type": "execute_result"
    }
   ],
   "source": [
    "decrypt_to_msg.to_bytes((decrypt_to_msg.bit_length() + 7) // 8, 'big').decode('utf-8')"
   ]
  },
  {
   "cell_type": "code",
   "execution_count": 101,
   "id": "ecb86d77",
   "metadata": {},
   "outputs": [
    {
     "name": "stdout",
     "output_type": "stream",
     "text": [
      "((14475856830261544067947428119414447155984451687003678122026832208690254364514264722290571531569495419711535117417167043682701929254210512513037333278882640215153547514948763018187147499362628365214087263429668842793406268769379854735785711932375835870357398001562263355049543989009079988186709199267424938220839028862772483026728563884497233321085159216571024398840812240234796027054838874976419735235580273552143880897364989350071632124715371973634421774375220009611928383741000610749398892467980788942504163472492879131051913078955142856750909299677607529546171764835954451387790299574292125176389545133839863375477, 1160561791565537470385835164639702376100288159423206719049003909239004533297571079504319755214911677403209571255629856404971315168992043682614110127773943111723479044662522974004419188459556733456181524620278205449596274831725522746003665359393035219656530984877837340128701680123539538294423774868640694860186073115938357014843106528018012351286633599366415101899770369575396145366057992634840891491035403301881986015725197322420681614909671951765504329769304107287540054302157365976080739755248506280979301140822782824342229962823862058362504913249375995386743665012169186756941898704666589165443164016701070111355), (14475856830261544067947428119414447155984451687003678122026832208690254364514264722290571531569495419711535117417167043682701929254210512513037333278882640215153547514948763018187147499362628365214087263429668842793406268769379854735785711932375835870357398001562263355049543989009079988186709199267424938220839028862772483026728563884497233321085159216571024398840812240234796027054838874976419735235580273552143880897364989350071632124715371973634421774375220009611928383741000610749398892467980788942504163472492879131051913078955142856750909299677607529546171764835954451387790299574292125176389545133839863375477, 13797806168123391471135216366799794022715504515463792631526997948541901506134171664048035660400581064733205528076249544521146812477193808209202272425326372144347189757162821458380860263560614833907881970340449712869055650741188762741242964724448245830964948329176590667548507303906957049228608546775747636304882937273250343817250352666876260116690697804425678678314417024593310916636731753030932911096501575419157616525219210305923645875462293011944815517426387169162142075148074753940092731057653848388975816678215220709389909332037286631025906354202473279518287687927094987811535806466682078468873947029849972671307)) \n",
      " ((18256898828175240497887589419701048372605591608595260770948487916565614157924833608643520588082431936816652080178273414744949819431159733088574727178097071555503339010100052694253579714249856532184785489131668381115575996247982665133203474906915125758637651218833308043047766787461589439310259929849383083177099747005595377380742073212740458632420775603734061017878016826409163052110845453707394289851017717177687571356809779492039587956076736437325837037057100103619443264438130101491373500309480678362118306881467646786209158314259373956072127194364607155872533436708595710623469936959343874927246234192337294817743, 10204012608884151081410674797142007282223076716369687408441735780535003363334771381056799338764590885752722489311544935165727030704164855924082298726499388784202669972305590281619017073080226942717458404129799130920626702022975736503869036646180262205204136357868625011429187609036003716828170381372483327666788692895864706367836622440016693308180482623081503615184886783899061050639448171209920273516282945011218193522356056495265938475702937146392688103163210382977362414308975940378591505670745060491027270523004366458670924045339873230784088610747054009343290317533839650672738366902343812389615623711066096428031), (18256898828175240497887589419701048372605591608595260770948487916565614157924833608643520588082431936816652080178273414744949819431159733088574727178097071555503339010100052694253579714249856532184785489131668381115575996247982665133203474906915125758637651218833308043047766787461589439310259929849383083177099747005595377380742073212740458632420775603734061017878016826409163052110845453707394289851017717177687571356809779492039587956076736437325837037057100103619443264438130101491373500309480678362118306881467646786209158314259373956072127194364607155872533436708595710623469936959343874927246234192337294817743, 8670846430896990096862674643639592005739544534741777449689331546311258731038413909225157272542869213206081308045166504771745398301483077035483334684846051869728797275075697817725890964397342907257972744253394779110537215839972286152897904633869841991062137726100454609251031701346656916165899319115822709882056449771647200680247907215348576234610407113152131690076508116320241817267737990115006690147231323561015455020681218403473721162696803042382310774144895321027951442410824817637488636195060007039429680661347472029133260101449830990301022874042542401205748557536621341078448511239790513127159370716139264713631))\n"
     ]
    }
   ],
   "source": [
    "def generate_keypair():\n",
    "    p = getPrime(1024)\n",
    "    q = getPrime(1024)\n",
    "    n = p * q\n",
    "    phi_n = (p - 1) * (q - 1)\n",
    "\n",
    "    while True:\n",
    "        e = randint(2, phi_n - 1)\n",
    "        if m.gcd(e, phi_n) == 1:\n",
    "            break\n",
    "    \n",
    "    d = inverse(e, phi_n)\n",
    "\n",
    "    public_key = (n, e)\n",
    "    private_key = (n, d)\n",
    "\n",
    "    return public_key, private_key\n",
    "\n",
    "# Generating keypairs\n",
    "sender_keypair = generate_keypair() #generate sender keypair\n",
    "receiver_keypair = generate_keypair() #generate receiver keypair\n",
    "print(sender_keypair, '\\n', receiver_keypair)\n",
    "\n",
    "#Define message x\n",
    "msg = 'secret message'.encode('utf-8') #secret message\n",
    "x = int.from_bytes(msg, 'big') #turn bytes to integer\n",
    "\n",
    "# Encrypt message x with receiver public key -> ciphertext y\n",
    "receiver_pub, receiver_priv = receiver_keypair\n",
    "n, e = receiver_pub\n",
    "y = pow(x, e, n) \n",
    "\n",
    "# Compute hash\n",
    "hash = sha256(msg)\n",
    "h = int.from_bytes(hash.digest(),'big')\n",
    "\n",
    "#Signing \n",
    "sender_pub, sender_priv = sender_keypair\n",
    "n, d = sender_priv\n",
    "sign = pow(h, d, n) #signing hash with sender private key"
   ]
  },
  {
   "cell_type": "code",
   "execution_count": 102,
   "id": "8cf18c7a",
   "metadata": {},
   "outputs": [
    {
     "name": "stdout",
     "output_type": "stream",
     "text": [
      "Signature valid? True\n"
     ]
    },
    {
     "data": {
      "text/plain": [
       "'secret message'"
      ]
     },
     "execution_count": 102,
     "metadata": {},
     "output_type": "execute_result"
    }
   ],
   "source": [
    "n, e = sender_pub\n",
    "decrypt_to_hash = pow(sign, e, n)\n",
    "\n",
    "n, d = receiver_priv\n",
    "decrypt_to_msg = pow(y, d, n)\n",
    "\n",
    "msg_bytes = decrypt_to_msg.to_bytes((decrypt_to_msg.bit_length() + 7) // 8, 'big')\n",
    "final_h = sha256(msg_bytes)\n",
    "final_h_int = int.from_bytes(final_h.digest(), 'big')  \n",
    "\n",
    "valid_signature = decrypt_to_hash == final_h_int\n",
    "print(\"Signature valid?\", valid_signature)\n",
    "\n",
    "decrypt_to_msg.to_bytes((decrypt_to_msg.bit_length() + 7) // 8, 'big').decode('utf-8')"
   ]
  },
  {
   "cell_type": "markdown",
   "id": "3ec9185a",
   "metadata": {},
   "source": [
    "# 3DES"
   ]
  },
  {
   "cell_type": "code",
   "execution_count": 103,
   "id": "c79a7acf",
   "metadata": {},
   "outputs": [
    {
     "name": "stdout",
     "output_type": "stream",
     "text": [
      "3DES key (hex): 928c04a792b0ef439bced37c760b7ce51502a46737f74a1c\n",
      "K1: 928c04a792b0ef43\n",
      "K2: 9bced37c760b7ce5\n",
      "K3: 1502a46737f74a1c\n"
     ]
    }
   ],
   "source": [
    "from Crypto.Cipher import DES3, AES\n",
    "from Crypto.Random import get_random_bytes\n",
    "\n",
    "def generate_3des_key():\n",
    "    while True:\n",
    "        key = get_random_bytes(24)\n",
    "        try:\n",
    "            key = DES3.adjust_key_parity(key)\n",
    "        except ValueError:\n",
    "            continue\n",
    "        \n",
    "        k1, k2, k3 = key[:8], key[8:16], key[16:]\n",
    "        \n",
    "        if k1 != k2 and k2 != k3 and k1 != k3:\n",
    "            return key, (k1, k2, k3)\n",
    "\n",
    "key, (k1, k2, k3) = generate_3des_key()\n",
    "\n",
    "print(\"3DES key (hex):\", key.hex())\n",
    "print(\"K1:\", k1.hex())\n",
    "print(\"K2:\", k2.hex())\n",
    "print(\"K3:\", k3.hex())\n"
   ]
  },
  {
   "cell_type": "code",
   "execution_count": 104,
   "id": "5adef34d",
   "metadata": {},
   "outputs": [],
   "source": [
    "from base64 import b64encode, b64decode\n",
    "from Crypto.Util.Padding import pad, unpad\n",
    "\n",
    "def encypt_3DES(plaintext, key):\n",
    "    cipher = DES3.new(key, DES3.MODE_CBC)\n",
    "    ct_bytes = cipher.encrypt(pad(plaintext, DES3.block_size)) \n",
    "    initial_vector = b64encode(cipher.iv).decode('utf-8') #initialization vector -> probabilistic method\n",
    "    ct = b64encode(ct_bytes).decode('utf-8') #cipher text\n",
    "    return initial_vector, ct"
   ]
  },
  {
   "cell_type": "code",
   "execution_count": 105,
   "id": "aeb07809",
   "metadata": {},
   "outputs": [
    {
     "name": "stdout",
     "output_type": "stream",
     "text": [
      "9DylsPct8KL5fkO5jgHudm+PJI1wtZ8aat3HijHL3RkkXkXNuiPOcm7UqU85gtIFTgcf/CVTQBQxqQ4O8fuDnqUY5ssB9kZUVw8k0T8S3qGH4BfzOOaTU7sppbHiqujOU0mPADnm2YdmtxNdzColJZL+LQ8FMiBRhYLmHs3XU8FSd/U5fiGyapP079QcUdrs9idqP10NNsKtW+j+PHkTVmE9SmvHDBV32A+u3Dk8L07ez9flCHNYLrcL6BKz14MevbIZ4mju8bWlZYh4UUBKYOST9c+XrgZ3AwcsHFdQ1vvEtkAmGWMwBJJuPqAwovLVuc8NeUjNEbqov1fOC4oMIY/ZJzNyQlWe+mVrc/OpC+38dpvN8A215pY77vyp2xiJ2mfk2SVUHXQ48IazkR2RnrADJLZ5xOKQ8yySYN/LbR0qmpGTn45nZjpqophSItvsUpMm1/vRlXbmPCPHBt0ihIzIXuoF3GV5jqlyzDyed6+hd2/dHqFk/Np7Dx/DHPW33+DmWauy54JmwRj6buXUcF7BZvNxfMFX+e+TxT8tIswzTjOg1L4lx32IklDj4fcLgnlui3uubBulKKIqWu3srA==\n"
     ]
    }
   ],
   "source": [
    "data = 'Lorem ipsum dolor sit amet, consectetur adipiscing elit,' \\\n",
    "'sed do eiusmod tempor incididunt ut labore et dolore magna aliqua. ' \\\n",
    "'Ut enim ad minim veniam, quis nostrud exercitation ullamco laboris nisi ' \\\n",
    "'ut aliquip ex ea commodo consequat. Duis aute irure dolor in reprehenderit in voluptate ' \\\n",
    "'velit esse cillum dolore eu fugiat nulla pariatur. Excepteur sint occaecat cupidatat non proident, ' \\\n",
    "'sunt in culpa qui officia deserunt mollit anim id est laborum.'.encode('utf_8')\n",
    "iv, ct = encypt_3DES(plaintext=data, key=key)\n",
    "print(ct)"
   ]
  },
  {
   "cell_type": "code",
   "execution_count": 106,
   "id": "6c16d6d4",
   "metadata": {},
   "outputs": [],
   "source": [
    "def decrypt_3DES(iv, ct, key):\n",
    "    try:\n",
    "        cipher = DES3.new(key, DES3.MODE_CBC, iv= b64decode(iv))\n",
    "        pt = unpad(cipher.decrypt(b64decode(ct)), DES3.block_size)\n",
    "        print(\"The message was: \", pt)\n",
    "    except (ValueError, KeyError):\n",
    "        print(\"Incorrect decryption\")"
   ]
  },
  {
   "cell_type": "code",
   "execution_count": 107,
   "id": "e935c596",
   "metadata": {},
   "outputs": [
    {
     "name": "stdout",
     "output_type": "stream",
     "text": [
      "The message was:  b'Lorem ipsum dolor sit amet, consectetur adipiscing elit,sed do eiusmod tempor incididunt ut labore et dolore magna aliqua. Ut enim ad minim veniam, quis nostrud exercitation ullamco laboris nisi ut aliquip ex ea commodo consequat. Duis aute irure dolor in reprehenderit in voluptate velit esse cillum dolore eu fugiat nulla pariatur. Excepteur sint occaecat cupidatat non proident, sunt in culpa qui officia deserunt mollit anim id est laborum.'\n"
     ]
    }
   ],
   "source": [
    "decrypt_3DES(iv, ct, key)"
   ]
  },
  {
   "cell_type": "markdown",
   "id": "429a014a",
   "metadata": {},
   "source": [
    "# AES encryption"
   ]
  },
  {
   "cell_type": "code",
   "execution_count": 108,
   "id": "745d1909",
   "metadata": {},
   "outputs": [
    {
     "name": "stdout",
     "output_type": "stream",
     "text": [
      "Ciphertext (Base64): 2KG0EVM01lofNlr14JcZCy8wsfGGo5icavQydA3dnvtEmOVvxL60/VCOS46F7sCe+GkOViW3tftKL52edX/hDdzVixKvOjWmiQl1B2IEOKbwOvBe+PyiYf9i1S+73N4OVG1ohiOr6BqdC6R0gjmXVqHnNmt0qwaHCW/Bo8KSxuWxcoxkreAvsgmyx+BwmoI1Rpci8a+/QC9D8psBloP6kK0c7Pw2VtOjyPF/q+lY5CZTPhJHbtXNYCc48B/iIx5uKLIXKc99jZyPpf4CGNYGtkyCtKGblTZKPAZL/46cnMftRIZPD5qqbJwfyinY19OXdUX56y4GnE3ygqZCTuE8+3uGiAlynN8WPlTA17pa/AaXrmsL1obTcjTPH8SkJ7Kc+wB/5hBrWPGLVlcymvvhbOM/595X1Ne/r2ZX8JDqBRgig28tt5rv9oxYpAsENVh3gLx8LZB3hgcIfwYV7WDSvVml/b7geyQ43WPgxnq3APOBxN3JXCi2ORYf5WqgVt8TOBF9yM02o3YOejz1f2DfAyzO/7U3wgJed7vYtX9vUr2rgQGk+Fe6fh8KOPZZsP6V/mJ+lJu5rgC1bPRM\n"
     ]
    }
   ],
   "source": [
    "from Crypto.Cipher import AES\n",
    "from Crypto.Util import Counter\n",
    "\n",
    "nonce = get_random_bytes(8)    # 8-byte nonce (64 bits)\n",
    "key = get_random_bytes(32)     # AES-256 key\n",
    "\n",
    "ctr_encrypt = Counter.new(64, prefix=nonce)   # 64-bit counter, prefixed with nonce\n",
    "aes_cipher_encrypt = AES.new(key, AES.MODE_CTR, counter=ctr_encrypt)\n",
    "ciphertext = aes_cipher_encrypt.encrypt(data)\n",
    "\n",
    "encoded_ciphertext = b64encode(ciphertext).decode(\"utf-8\")\n",
    "print(\"Ciphertext (Base64):\", encoded_ciphertext)\n",
    "\n"
   ]
  },
  {
   "cell_type": "markdown",
   "id": "8454117d",
   "metadata": {},
   "source": [
    "## AES Decryption"
   ]
  },
  {
   "cell_type": "code",
   "execution_count": 109,
   "id": "88631ba6",
   "metadata": {},
   "outputs": [
    {
     "name": "stdout",
     "output_type": "stream",
     "text": [
      "Decrypted (readable): Lorem ipsum dolor sit amet, consectetur adipiscing elit,sed do eiusmod tempor incididunt ut labore et dolore magna aliqua. Ut enim ad minim veniam, quis nostrud exercitation ullamco laboris nisi ut aliquip ex ea commodo consequat. Duis aute irure dolor in reprehenderit in voluptate velit esse cillum dolore eu fugiat nulla pariatur. Excepteur sint occaecat cupidatat non proident, sunt in culpa qui officia deserunt mollit anim id est laborum.\n"
     ]
    }
   ],
   "source": [
    "\n",
    "ctr_dec = Counter.new(64, prefix=nonce)\n",
    "aes_decipher = AES.new(key, AES.MODE_CTR, counter=ctr_dec)\n",
    "decrypted_bytes = aes_decipher.decrypt(b64decode(encoded_ciphertext))\n",
    "\n",
    "decrypted_text = decrypted_bytes.decode('utf-8')\n",
    "print(\"Decrypted (readable):\", decrypted_text)\n"
   ]
  },
  {
   "cell_type": "markdown",
   "id": "e5805705",
   "metadata": {},
   "source": [
    "## Lesson 7 Python Qs"
   ]
  },
  {
   "cell_type": "markdown",
   "id": "d2a9c0ce",
   "metadata": {},
   "source": [
    "1. Why must you follow the algorithm steps exactly as prescribed? What happens if you skip some step or apply it in different order?\n",
    "- ????\n",
    "2. How did you securely obtain the keys for encryption? How would you exchange these keys to the receiver of you message? How long should the key be considered valid (expiration)? How can you estimate/decide when a key is no longer secure enough?\n",
    "- For DES, we check if k1 not equal to k2 and k3 \n",
    "- For AES, it is just a random 256 bit key\n",
    "- We would exchange using public key encryption like RSA\n",
    "- 1 message session??? like every reply?? verify with source\n",
    "- Compute moore's law yaaa research lg\n",
    "\n",
    "3. Why do we use tripple DES and not a double DES? Is double DES stronger than single DES? Would quadrouple DES be safer to use than tripple DES? Explain.\n",
    "- if double DES, the key length is only 80 bits effective. yes? because key is longer but idk about computer power HRS SEARCH\n",
    "\n",
    "4. Why is it advised to have a plain text longer than block size? You encrypted a lorem impsum, which is a clear text with a pattern. Why does your encrypted cipher text has no visible patterns in it? Compare what extra steps in AES are taken to ensure that the plain text pattern is concealed (vs. simple substitution cipher).\n",
    "\n",
    "BACA LG ANJGGG\n",
    "\n",
    "5. Can encryption of two different texts result in the same cipher text? How this can be done and what implications does it have on security?\n",
    "\n",
    "NO?? bcs of iv?? or because of ctr block???? GATAUU WOI\n",
    "\n",
    "\n"
   ]
  }
 ],
 "metadata": {
  "kernelspec": {
   "display_name": "Python (minor-qsc)",
   "language": "python",
   "name": "minor-qsc"
  },
  "language_info": {
   "codemirror_mode": {
    "name": "ipython",
    "version": 3
   },
   "file_extension": ".py",
   "mimetype": "text/x-python",
   "name": "python",
   "nbconvert_exporter": "python",
   "pygments_lexer": "ipython3",
   "version": "3.11.13"
  }
 },
 "nbformat": 4,
 "nbformat_minor": 5
}
