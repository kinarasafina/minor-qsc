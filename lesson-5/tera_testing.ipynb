{
 "cells": [
  {
   "cell_type": "code",
   "execution_count": 20,
   "id": "fbd55df9",
   "metadata": {},
   "outputs": [],
   "source": [
    "import numpy as np\n",
    "from Crypto.Util.number import getPrime, inverse\n",
    "from hashlib import sha256\n",
    "from random import randint\n",
    "from Crypto.PublicKey import RSA\n",
    "import math as m"
   ]
  },
  {
   "cell_type": "markdown",
   "id": "cb185c06",
   "metadata": {},
   "source": [
    "# Generate a keypair for both the sender and receiver"
   ]
  },
  {
   "cell_type": "code",
   "execution_count": 21,
   "id": "285be773",
   "metadata": {},
   "outputs": [],
   "source": [
    "# sender_keypair = RSA.generate(2048) #recommended 2048 key length\n",
    "# receiver_keypair = RSA.generate(2048)\n",
    "\n",
    "# pwd = b'secure_password'\n",
    "# with open(\"sender_privkey.pem\", \"wb\") as f:\n",
    "#     data = sender_keypair.export_key(passphrase=pwd,\n",
    "#                                 pkcs=8,\n",
    "#                                 protection='PBKDF2WithHMAC-SHA512AndAES256-CBC',\n",
    "#                                 prot_params={'iteration_count':131072})\n",
    "#     f.write(data)"
   ]
  },
  {
   "cell_type": "code",
   "execution_count": 22,
   "id": "6fb34276",
   "metadata": {},
   "outputs": [],
   "source": [
    "# pwd = b'secure_password_receiver'\n",
    "# with open(\"receiver_privkey.pem\", \"wb\") as f:\n",
    "#     data = receiver_keypair.export_key(passphrase=pwd,\n",
    "#                                 pkcs=8,\n",
    "#                                 protection='PBKDF2WithHMAC-SHA512AndAES256-CBC',\n",
    "#                                 prot_params={'iteration_count':131072})\n",
    "#     f.write(data)"
   ]
  },
  {
   "cell_type": "code",
   "execution_count": 23,
   "id": "31ae33d2",
   "metadata": {},
   "outputs": [],
   "source": [
    "# with open(\"receiver_pubkey.pem\", \"wb\") as f:\n",
    "#     data = receiver_keypair.public_key().export_key()\n",
    "#     f.write(data)"
   ]
  },
  {
   "cell_type": "code",
   "execution_count": 24,
   "id": "9d227448",
   "metadata": {},
   "outputs": [],
   "source": [
    "# with open(\"sender_pubkey.pem\", \"wb\") as f:\n",
    "#     data = sender_keypair.public_key().export_key()\n",
    "#     f.write(data)"
   ]
  },
  {
   "cell_type": "markdown",
   "id": "91a50719",
   "metadata": {},
   "source": [
    "# Message (m) and Encryption -> M"
   ]
  },
  {
   "cell_type": "code",
   "execution_count": 25,
   "id": "e9351b9d",
   "metadata": {},
   "outputs": [
    {
     "data": {
      "text/plain": [
       "b'secret message'"
      ]
     },
     "execution_count": 25,
     "metadata": {},
     "output_type": "execute_result"
    }
   ],
   "source": [
    "msg = 'secret message'.encode('utf-8')\n",
    "msg"
   ]
  },
  {
   "cell_type": "markdown",
   "id": "fcab1f93",
   "metadata": {},
   "source": [
    "# Key generation"
   ]
  },
  {
   "cell_type": "code",
   "execution_count": 26,
   "id": "e4123f30",
   "metadata": {},
   "outputs": [],
   "source": [
    "def generate_keypair():\n",
    "    p = getPrime(1024)\n",
    "    q = getPrime(1024)\n",
    "    n = p * q\n",
    "    phi_n = (p - 1) * (q - 1)\n",
    "\n",
    "    while True:\n",
    "        e = randint(2, phi_n - 1)\n",
    "        if m.gcd(e, phi_n) == 1:\n",
    "            break\n",
    "    \n",
    "    d = inverse(e, phi_n)\n",
    "\n",
    "    public_key = (n, e)\n",
    "    private_key = (n, d)\n",
    "\n",
    "    return public_key, private_key"
   ]
  },
  {
   "cell_type": "code",
   "execution_count": 27,
   "id": "a6db0b6a",
   "metadata": {},
   "outputs": [
    {
     "name": "stdout",
     "output_type": "stream",
     "text": [
      "((17163117661735096795825544959140860990484184819747499872751542734731962848009861513981359655264675664973250406205789278507875727258673165305625756076971930752235439560538470113009427557548495557153999715174013374285330533525717036938661166203969056550780667700571940122296913690174032748759729655684595443947346465414671869909851509521621528870947769329228069068636586854142790097712861406401580961507360900056931844014684678629392751647704270088566165508484427237871684268331749749063773916567180318088273523906352236190017598756587302126929152104907724004369251052186097084056454212457059414305162307058155021479967, 974586240982653978891993506653723979628094255057434940332851991444540687700410534192826482454565033521712424931075364417502956485666467061752541331485067688029229146712691607601228281928465535227973246179220205061299107559783123887126432458991937847809164240243337240683692730983328833808519100165448106874368419559286210014797754236346588889837038698515943379249404205137168564021185281635529537015665364215131197882377797279636769867227816111300653326071850197034470062760075174786515576628309143243046413087539560809097398109748573943899845459150284679258137830143736095140448334131205379702503224292640022926415), (17163117661735096795825544959140860990484184819747499872751542734731962848009861513981359655264675664973250406205789278507875727258673165305625756076971930752235439560538470113009427557548495557153999715174013374285330533525717036938661166203969056550780667700571940122296913690174032748759729655684595443947346465414671869909851509521621528870947769329228069068636586854142790097712861406401580961507360900056931844014684678629392751647704270088566165508484427237871684268331749749063773916567180318088273523906352236190017598756587302126929152104907724004369251052186097084056454212457059414305162307058155021479967, 758874950029761829773373704724240033287351500792786237674173700564303498074939171574032893350107657076300700378888045702727878230340942988977138873570956645087965873014349469365882495168979105274156258772929127439570748539190152057409936061144392935309629274126339929243892454472345473974632572035913416455480352923298811507352730586697886388066420225064808246576613042974029327474565208858252205403911970874514133517871500495315013582659002664910033010613078448938746579768396802957773039931924939093663711826785653607586590231774761635298854993220689640997671423337495530813475037283236639008173566079746717609359)) \n",
      " ((20934544916385015895666222846666529199168213770365882367698279423739026501162048713048329175984335620754266806121921235522677448890572420122230190082472283087910002551555615532731845543147423498896646957025691731232919299026584765732169110501249025126250323953197715206326875862242326955802232153939661872585021573113960899041294532244304455039972451630722772590024326729245392483464190843907178609176702946253404790300619154290195762563924563516469978125352375566869222512254585256359906541845879838558789831256010235209747797972138692688808367743230989149123907278625375195273919815477929784229393823391830640731629, 1351149844273260064694233278324477114191831956233445707251581950306938568673964016342212137880140665332835771919953478315977199254877551586245558139293397737502637911022843411602110781766049864395999551796125553887406380193925645283469309548732425424282784844796115994393176855213612661964120683147086523176509528754440087060694944978651064778362619634675355146222797564971658028089475778643891843801552488986559001910649202407318905681310837076975119008985522679084532779883573707445522391148610271502729716603098523609760875312780072420298915436446274997580540089485862586357819620450376537680425716322033417299019), (20934544916385015895666222846666529199168213770365882367698279423739026501162048713048329175984335620754266806121921235522677448890572420122230190082472283087910002551555615532731845543147423498896646957025691731232919299026584765732169110501249025126250323953197715206326875862242326955802232153939661872585021573113960899041294532244304455039972451630722772590024326729245392483464190843907178609176702946253404790300619154290195762563924563516469978125352375566869222512254585256359906541845879838558789831256010235209747797972138692688808367743230989149123907278625375195273919815477929784229393823391830640731629, 17362724102995307866427926074432665378805747958496527869502043326826124105750791423490944950164716821267131404432765394664057131351182030294868386289972551764776269153804037324501389666893284565398754563795845316214598938254031265533135526254751037840201283185173375330697911962790993255452853154094314092657356089408925047254011109081089700644781121436397062896139393515060808542800421538347979925355325804606164054409279930697108617493656200420268669026644607825107196612695045125633498072568596302251850221213760615371497978208007915106232779111377313282302924848358968647281355143448592819832251648744589806422819))\n"
     ]
    }
   ],
   "source": [
    "sender_keypair = generate_keypair()\n",
    "receiver_keypair = generate_keypair()\n",
    "print(sender_keypair, '\\n', receiver_keypair)"
   ]
  },
  {
   "cell_type": "markdown",
   "id": "1479ca6a",
   "metadata": {},
   "source": [
    "x -> encoded plaintext\n",
    "y -> encrypted plaintext\n",
    "h -> hashed x"
   ]
  },
  {
   "cell_type": "markdown",
   "id": "1ab8598c",
   "metadata": {},
   "source": [
    "# Encoding Message"
   ]
  },
  {
   "cell_type": "code",
   "execution_count": 28,
   "id": "eae791af",
   "metadata": {},
   "outputs": [
    {
     "data": {
      "text/plain": [
       "2340509926146499719798124187838309"
      ]
     },
     "execution_count": 28,
     "metadata": {},
     "output_type": "execute_result"
    }
   ],
   "source": [
    "msg = 'secret message'.encode('utf-8')\n",
    "x = int.from_bytes(msg, 'big')\n",
    "x"
   ]
  },
  {
   "cell_type": "code",
   "execution_count": 29,
   "id": "f1543b15",
   "metadata": {},
   "outputs": [
    {
     "data": {
      "text/plain": [
       "521516269522829685450100"
      ]
     },
     "execution_count": 29,
     "metadata": {},
     "output_type": "execute_result"
    }
   ],
   "source": [
    "hacker_msg = 'not secret'.encode('utf-8')\n",
    "x_hack = int.from_bytes(hacker_msg, 'big')\n",
    "x_hack"
   ]
  },
  {
   "cell_type": "markdown",
   "id": "85eb427d",
   "metadata": {},
   "source": [
    "# Encryption"
   ]
  },
  {
   "cell_type": "code",
   "execution_count": 30,
   "id": "a93fa938",
   "metadata": {},
   "outputs": [
    {
     "data": {
      "text/plain": [
       "17095226430846445495387267174306250956262054574823331523317215999560141626485437938143119253771023600079158488606331687127372551925956352965919418314861251869964185096214290039494607958184359351304683482504619430509411093056958536251572863456675697393263011787379335211831905393467804460885025375962953074359931268653969295196308021146820391001621753859999886649248798943377962071609576985659207961786102869969096007331821668998725092549837481450513626263751127328782754570991968966365506392913425742995101201645473321358571249478557599666849111660159922509975291390570200325884557982138977509270799003883038341238603"
      ]
     },
     "execution_count": 30,
     "metadata": {},
     "output_type": "execute_result"
    }
   ],
   "source": [
    "receiver_pub, receiver_priv = receiver_keypair\n",
    "n, e = receiver_pub\n",
    "y = pow(x, e, n)\n",
    "y"
   ]
  },
  {
   "cell_type": "code",
   "execution_count": 31,
   "id": "2e06bbef",
   "metadata": {},
   "outputs": [
    {
     "data": {
      "text/plain": [
       "7442157370935249150826186022125639232719006421071047041933341019901689318346335525258947812502178931344579611707835721422143615663884265834990485495038537877754220379659575429030846138823151444249387887081136197895148084389883545150559905386541545642756011967200076198512016752831933096840329527738641483971317410579098242862649915559386327274696195626977904877248337739553852072511554266353190281242443775082980780379684333871194304994917175094254877195116294050666371531440802164297456553790435370776949223558155982627022934781897947750886499968713222454855512813571664146436962732185098602302540691197638995526600"
      ]
     },
     "execution_count": 31,
     "metadata": {},
     "output_type": "execute_result"
    }
   ],
   "source": [
    "y_hack = pow(x_hack, e, n)\n",
    "y_hack"
   ]
  },
  {
   "cell_type": "markdown",
   "id": "5c9caf15",
   "metadata": {},
   "source": [
    "# Hash"
   ]
  },
  {
   "cell_type": "code",
   "execution_count": 32,
   "id": "25ea622e",
   "metadata": {},
   "outputs": [
    {
     "data": {
      "text/plain": [
       "84602538464720629197225614477881030577157746024133459066183585119910221554977"
      ]
     },
     "execution_count": 32,
     "metadata": {},
     "output_type": "execute_result"
    }
   ],
   "source": [
    "hash = sha256(msg)\n",
    "h = int.from_bytes(hash.digest(),'big')\n",
    "h"
   ]
  },
  {
   "cell_type": "markdown",
   "id": "12e30ce7",
   "metadata": {},
   "source": [
    "# Signing"
   ]
  },
  {
   "cell_type": "code",
   "execution_count": 33,
   "id": "cd779165",
   "metadata": {},
   "outputs": [
    {
     "data": {
      "text/plain": [
       "490551860375347504812594246456075954140730050836887102974309871542976641480393445282935278027993821937591425291520428751252690021741795888251871067790500362418715905585501189359141261565653104524072711443979720327196679882978348232070314474370826895890814327074398793804460754595868408800626525628073297996108359295731417405068811137757685262429086041869943320161054801517354215955506645706731120099203358391979073257670056557724447021136038549871836020459058467426231881100676952373227518381994425747599670225809605416165523813128822277095711696255569182328885376578139722456889415324886565768543774795326694051282"
      ]
     },
     "execution_count": 33,
     "metadata": {},
     "output_type": "execute_result"
    }
   ],
   "source": [
    "sender_pub, sender_priv = sender_keypair\n",
    "n, d = sender_priv\n",
    "sign = pow(h, d, n)\n",
    "sign "
   ]
  },
  {
   "cell_type": "markdown",
   "id": "fde16986",
   "metadata": {},
   "source": [
    "# Decryption of hash (sign) with Sender pub key"
   ]
  },
  {
   "cell_type": "code",
   "execution_count": 34,
   "id": "7d9ab67c",
   "metadata": {},
   "outputs": [
    {
     "data": {
      "text/plain": [
       "84602538464720629197225614477881030577157746024133459066183585119910221554977"
      ]
     },
     "execution_count": 34,
     "metadata": {},
     "output_type": "execute_result"
    }
   ],
   "source": [
    "n, e = sender_pub\n",
    "decrypt_to_hash = pow(sign, e, n)\n",
    "decrypt_to_hash"
   ]
  },
  {
   "cell_type": "markdown",
   "id": "6341780b",
   "metadata": {},
   "source": [
    "# Decryption of message"
   ]
  },
  {
   "cell_type": "code",
   "execution_count": 35,
   "id": "17d230f2",
   "metadata": {},
   "outputs": [
    {
     "data": {
      "text/plain": [
       "(2340509926146499719798124187838309, int)"
      ]
     },
     "execution_count": 35,
     "metadata": {},
     "output_type": "execute_result"
    }
   ],
   "source": [
    "n, d = receiver_priv\n",
    "decrypt_to_msg = pow(y, d, n)\n",
    "decrypt_to_msg, type(decrypt_to_msg)"
   ]
  },
  {
   "cell_type": "markdown",
   "id": "7ff71b13",
   "metadata": {},
   "source": [
    "# Hash verification "
   ]
  },
  {
   "cell_type": "code",
   "execution_count": 36,
   "id": "6e2c6807",
   "metadata": {},
   "outputs": [
    {
     "name": "stdout",
     "output_type": "stream",
     "text": [
      "True\n"
     ]
    }
   ],
   "source": [
    "msg_bytes = decrypt_to_msg.to_bytes((decrypt_to_msg.bit_length() + 7) // 8, 'big')\n",
    "final_h = sha256(msg_bytes)\n",
    "print(int.from_bytes(final_h.digest()) == decrypt_to_hash)\n",
    "#print(final_h.digest() == decrypt_to_hash)"
   ]
  },
  {
   "cell_type": "markdown",
   "id": "0b4870e1",
   "metadata": {},
   "source": [
    "# Get plaintext"
   ]
  },
  {
   "cell_type": "code",
   "execution_count": 37,
   "id": "ad273fc4",
   "metadata": {},
   "outputs": [
    {
     "data": {
      "text/plain": [
       "'secret message'"
      ]
     },
     "execution_count": 37,
     "metadata": {},
     "output_type": "execute_result"
    }
   ],
   "source": [
    "decrypt_to_msg.to_bytes((decrypt_to_msg.bit_length() + 7) // 8, 'big').decode('utf-8')"
   ]
  },
  {
   "cell_type": "markdown",
   "id": "e8036252",
   "metadata": {},
   "source": [
    "### Testing bitwise operator :(("
   ]
  },
  {
   "cell_type": "code",
   "execution_count": 38,
   "id": "89e726e4",
   "metadata": {},
   "outputs": [
    {
     "name": "stdout",
     "output_type": "stream",
     "text": [
      "0b11111111 0 0b11111110\n",
      "0b11111111 1 0b11111101\n",
      "0b11111111 2 0b11111011\n",
      "0b11111111 3 0b11110111\n",
      "0b11111111 4 0b11101111\n",
      "0b11111111 5 0b11011111\n",
      "0b11111111 6 0b10111111\n",
      "0b11111111 7 0b1111111\n"
     ]
    },
    {
     "data": {
      "text/plain": [
       "8"
      ]
     },
     "execution_count": 38,
     "metadata": {},
     "output_type": "execute_result"
    }
   ],
   "source": [
    "example_bits = 0b11111111\n",
    "K = list(range(0,example_bits.bit_length()))\n",
    "n = example_bits.bit_length()\n",
    "for k in K:\n",
    "    print(bin(example_bits), k, bin(example_bits ^ (1 << k)))\n",
    "n"
   ]
  },
  {
   "cell_type": "code",
   "execution_count": 39,
   "id": "f77d55ed",
   "metadata": {},
   "outputs": [
    {
     "data": {
      "text/plain": [
       "'0b1000'"
      ]
     },
     "execution_count": 39,
     "metadata": {},
     "output_type": "execute_result"
    }
   ],
   "source": [
    "bin(0b00000001 << 3) # -> 0b00001000"
   ]
  },
  {
   "cell_type": "markdown",
   "id": "3ec9185a",
   "metadata": {},
   "source": [
    "# 3DES"
   ]
  },
  {
   "cell_type": "code",
   "execution_count": 40,
   "id": "c79a7acf",
   "metadata": {},
   "outputs": [
    {
     "name": "stdout",
     "output_type": "stream",
     "text": [
      "3DES key (hex): cdd06854efec29e3d3b008fb7a0457a28f85522cb664cb51\n",
      "K1: cdd06854efec29e3\n",
      "K2: d3b008fb7a0457a2\n",
      "K3: 8f85522cb664cb51\n"
     ]
    }
   ],
   "source": [
    "from Crypto.Cipher import DES3, AES\n",
    "from Crypto.Random import get_random_bytes\n",
    "\n",
    "def generate_3des_key():\n",
    "    while True:\n",
    "        key = get_random_bytes(24)\n",
    "        try:\n",
    "            key = DES3.adjust_key_parity(key)\n",
    "        except ValueError:\n",
    "            continue\n",
    "        \n",
    "        k1, k2, k3 = key[:8], key[8:16], key[16:]\n",
    "        \n",
    "        if k1 != k2 and k2 != k3 and k1 != k3:\n",
    "            return key, (k1, k2, k3)\n",
    "\n",
    "key, (k1, k2, k3) = generate_3des_key()\n",
    "\n",
    "print(\"3DES key (hex):\", key.hex())\n",
    "print(\"K1:\", k1.hex())\n",
    "print(\"K2:\", k2.hex())\n",
    "print(\"K3:\", k3.hex())\n"
   ]
  },
  {
   "cell_type": "code",
   "execution_count": 41,
   "id": "5adef34d",
   "metadata": {},
   "outputs": [],
   "source": [
    "from base64 import b64encode, b64decode\n",
    "from Crypto.Util.Padding import pad, unpad\n",
    "\n",
    "def encypt_3DES(plaintext, key):\n",
    "    cipher = DES3.new(key, DES3.MODE_CBC)\n",
    "    ct_bytes = cipher.encrypt(pad(plaintext, DES3.block_size)) \n",
    "    initial_vector = b64encode(cipher.iv).decode('utf-8') #initialization vector -> probabilistic method\n",
    "    ct = b64encode(ct_bytes).decode('utf-8') #cipher text\n",
    "    return initial_vector, ct"
   ]
  },
  {
   "cell_type": "code",
   "execution_count": 42,
   "id": "aeb07809",
   "metadata": {},
   "outputs": [],
   "source": [
    "data = 'Lorem ipsum dolor sit amet, consectetur adipiscing elit,' \\\n",
    "'sed do eiusmod tempor incididunt ut labore et dolore magna aliqua. ' \\\n",
    "'Ut enim ad minim veniam, quis nostrud exercitation ullamco laboris nisi ' \\\n",
    "'ut aliquip ex ea commodo consequat. Duis aute irure dolor in reprehenderit in voluptate ' \\\n",
    "'velit esse cillum dolore eu fugiat nulla pariatur. Excepteur sint occaecat cupidatat non proident, ' \\\n",
    "'sunt in culpa qui officia deserunt mollit anim id est laborum.'.encode('utf_8')\n",
    "iv, ct = encypt_3DES(plaintext=data, key=key)"
   ]
  },
  {
   "cell_type": "code",
   "execution_count": 43,
   "id": "6c16d6d4",
   "metadata": {},
   "outputs": [],
   "source": [
    "def decrypt_3DES(iv, ct, key):\n",
    "    try:\n",
    "        cipher = DES3.new(key, DES3.MODE_CBC, iv= b64decode(iv))\n",
    "        #pt = unpad(cipher.decrypt(ct), DES3.block_size)\n",
    "        pt = unpad(cipher.decrypt(b64decode(ct)), DES3.block_size)\n",
    "        print(\"The message was: \", pt)\n",
    "    except (ValueError, KeyError):\n",
    "        print(\"Incorrect decryption\")"
   ]
  },
  {
   "cell_type": "code",
   "execution_count": 44,
   "id": "e935c596",
   "metadata": {},
   "outputs": [
    {
     "name": "stdout",
     "output_type": "stream",
     "text": [
      "The message was:  b'Lorem ipsum dolor sit amet, consectetur adipiscing elit,sed do eiusmod tempor incididunt ut labore et dolore magna aliqua. Ut enim ad minim veniam, quis nostrud exercitation ullamco laboris nisi ut aliquip ex ea commodo consequat. Duis aute irure dolor in reprehenderit in voluptate velit esse cillum dolore eu fugiat nulla pariatur. Excepteur sint occaecat cupidatat non proident, sunt in culpa qui officia deserunt mollit anim id est laborum.'\n"
     ]
    }
   ],
   "source": [
    "decrypt_3DES(iv, ct, key)"
   ]
  },
  {
   "cell_type": "markdown",
   "id": "429a014a",
   "metadata": {},
   "source": [
    "# AES encryption"
   ]
  },
  {
   "cell_type": "code",
   "execution_count": 45,
   "id": "745d1909",
   "metadata": {},
   "outputs": [
    {
     "name": "stdout",
     "output_type": "stream",
     "text": [
      "Ciphertext (Base64): DCMt2jAjIVRfPmxQqyWSla5amDqvseWKoYDAYQnwAbK9Nw+Qm0iW1Ofduz6S5+gvSN1mexr6Pm/W7jgEKVVUISCAGvAzH57cXK8yP5XWwcyCGUVTJ3Z7sd+OvRF5sa5M+noFbyf2gkC5sbujclGLfDYrrrNfaPg6kJ1lNES+615YMtUVvt6cNcMCoa2OTWTjgxxdltxljxJC1FvTTwEzlwOJnspvrYsZX74WOGpAfO4pSiM760Wjp7FAzCW+kirrFYMz4dOjwNkd+3PS9dJ8nMyPcyzxd4aE2VhJM5/s99aVJXf6dc+P5RqNsBEXNaYFqrJ8MEiSLQnQ5h/+wGH0wriHQPNelj58XvbezRkf0055xgVWsF39NSC0eXk9TW8N6IEXzRZz1ZEPldTU8ZytcN0DBJcG/GtQEuXUs5lgHwvQOt4ja0K6c58EbBIk9ixqEmxUYLHXjEWfKncJiyvQlsh0yjyqyhUVwjq4pRCZ1uuqv8m5FhABzhbB6tlP4qxhmSHSbAlM6erP63XgOZ65TDx6Sthk4RLUbt+kwNIfHOXA3BO8AGMbEeNAgzk2vkOf+i4l/SVs9Zk+hLZl\n"
     ]
    }
   ],
   "source": [
    "from Crypto.Cipher import AES\n",
    "from Crypto.Util import Counter\n",
    "\n",
    "nonce = get_random_bytes(8)    # 8-byte nonce (64 bits)\n",
    "key = get_random_bytes(32)     # AES-256 key\n",
    "\n",
    "ctr_encrypt = Counter.new(64, prefix=nonce)   # 64-bit counter, prefixed with nonce\n",
    "aes_cipher_encrypt = AES.new(key, AES.MODE_CTR, counter=ctr_encrypt)\n",
    "ciphertext = aes_cipher_encrypt.encrypt(data)\n",
    "\n",
    "encoded_ciphertext = b64encode(ciphertext).decode(\"utf-8\")\n",
    "print(\"Ciphertext (Base64):\", encoded_ciphertext)\n",
    "\n"
   ]
  },
  {
   "cell_type": "markdown",
   "id": "8454117d",
   "metadata": {},
   "source": [
    "## AES Decryption"
   ]
  },
  {
   "cell_type": "code",
   "execution_count": 46,
   "id": "88631ba6",
   "metadata": {},
   "outputs": [
    {
     "name": "stdout",
     "output_type": "stream",
     "text": [
      "Decrypted (readable): Lorem ipsum dolor sit amet, consectetur adipiscing elit,sed do eiusmod tempor incididunt ut labore et dolore magna aliqua. Ut enim ad minim veniam, quis nostrud exercitation ullamco laboris nisi ut aliquip ex ea commodo consequat. Duis aute irure dolor in reprehenderit in voluptate velit esse cillum dolore eu fugiat nulla pariatur. Excepteur sint occaecat cupidatat non proident, sunt in culpa qui officia deserunt mollit anim id est laborum.\n"
     ]
    }
   ],
   "source": [
    "\n",
    "ctr_dec = Counter.new(64, prefix=nonce)\n",
    "aes_decipher = AES.new(key, AES.MODE_CTR, counter=ctr_dec)\n",
    "decrypted_bytes = aes_decipher.decrypt(b64decode(encoded_ciphertext))\n",
    "\n",
    "decrypted_text = decrypted_bytes.decode('utf-8')\n",
    "print(\"Decrypted (readable):\", decrypted_text)\n"
   ]
  },
  {
   "cell_type": "markdown",
   "id": "e5805705",
   "metadata": {},
   "source": [
    "## Lesson 7 Python Qs"
   ]
  },
  {
   "cell_type": "markdown",
   "id": "d2a9c0ce",
   "metadata": {},
   "source": [
    "1. Why must you follow the algorithm steps exactly as prescribed? What happens if you skip some step or apply it in different order?\n",
    "- ????\n",
    "2. How did you securely obtain the keys for encryption? How would you exchange these keys to the receiver of you message? How long should the key be considered valid (expiration)? How can you estimate/decide when a key is no longer secure enough?\n",
    "- For DES, we check if k1 not equal to k2 and k3 \n",
    "- For AES, it is just a random 256 bit key\n",
    "- We would exchange using public key encryption like RSA\n",
    "- 1 message session??? like every reply?? verify with source\n",
    "- Compute moore's law yaaa research lg\n",
    "\n",
    "3. Why do we use tripple DES and not a double DES? Is double DES stronger than single DES? Would quadrouple DES be safer to use than tripple DES? Explain.\n",
    "- if double DES, the key length is only 80 bits effective. yes? because key is longer but idk about computer power HRS SEARCH\n",
    "\n",
    "4. Why is it advised to have a plain text longer than block size? You encrypted a lorem impsum, which is a clear text with a pattern. Why does your encrypted cipher text has no visible patterns in it? Compare what extra steps in AES are taken to ensure that the plain text pattern is concealed (vs. simple substitution cipher).\n",
    "\n",
    "BACA LG ANJGGG\n",
    "\n",
    "5. Can encryption of two different texts result in the same cipher text? How this can be done and what implications does it have on security?\n",
    "\n",
    "NO?? bcs of iv?? or because of ctr block???? GATAUU WOI\n",
    "\n",
    "\n"
   ]
  }
 ],
 "metadata": {
  "kernelspec": {
   "display_name": "Python 3",
   "language": "python",
   "name": "python3"
  },
  "language_info": {
   "codemirror_mode": {
    "name": "ipython",
    "version": 3
   },
   "file_extension": ".py",
   "mimetype": "text/x-python",
   "name": "python",
   "nbconvert_exporter": "python",
   "pygments_lexer": "ipython3",
   "version": "3.13.2"
  }
 },
 "nbformat": 4,
 "nbformat_minor": 5
}
