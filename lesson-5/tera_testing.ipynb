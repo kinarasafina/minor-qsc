{
 "cells": [
  {
   "cell_type": "code",
   "execution_count": 149,
   "id": "fbd55df9",
   "metadata": {},
   "outputs": [],
   "source": [
    "import numpy as np\n",
    "from Crypto.Util.number import getPrime, inverse\n",
    "from hashlib import sha256\n",
    "from random import randint\n",
    "from Crypto.PublicKey import RSA\n",
    "import math as m"
   ]
  },
  {
   "cell_type": "markdown",
   "id": "cb185c06",
   "metadata": {},
   "source": [
    "# Generate a keypair for both the sender and receiver"
   ]
  },
  {
   "cell_type": "code",
   "execution_count": 150,
   "id": "285be773",
   "metadata": {},
   "outputs": [],
   "source": [
    "# sender_keypair = RSA.generate(2048) #recommended 2048 key length\n",
    "# receiver_keypair = RSA.generate(2048)\n",
    "\n",
    "# pwd = b'secure_password'\n",
    "# with open(\"sender_privkey.pem\", \"wb\") as f:\n",
    "#     data = sender_keypair.export_key(passphrase=pwd,\n",
    "#                                 pkcs=8,\n",
    "#                                 protection='PBKDF2WithHMAC-SHA512AndAES256-CBC',\n",
    "#                                 prot_params={'iteration_count':131072})\n",
    "#     f.write(data)"
   ]
  },
  {
   "cell_type": "code",
   "execution_count": 151,
   "id": "6fb34276",
   "metadata": {},
   "outputs": [],
   "source": [
    "# pwd = b'secure_password_receiver'\n",
    "# with open(\"receiver_privkey.pem\", \"wb\") as f:\n",
    "#     data = receiver_keypair.export_key(passphrase=pwd,\n",
    "#                                 pkcs=8,\n",
    "#                                 protection='PBKDF2WithHMAC-SHA512AndAES256-CBC',\n",
    "#                                 prot_params={'iteration_count':131072})\n",
    "#     f.write(data)"
   ]
  },
  {
   "cell_type": "code",
   "execution_count": 152,
   "id": "31ae33d2",
   "metadata": {},
   "outputs": [],
   "source": [
    "# with open(\"receiver_pubkey.pem\", \"wb\") as f:\n",
    "#     data = receiver_keypair.public_key().export_key()\n",
    "#     f.write(data)"
   ]
  },
  {
   "cell_type": "code",
   "execution_count": 153,
   "id": "9d227448",
   "metadata": {},
   "outputs": [],
   "source": [
    "# with open(\"sender_pubkey.pem\", \"wb\") as f:\n",
    "#     data = sender_keypair.public_key().export_key()\n",
    "#     f.write(data)"
   ]
  },
  {
   "cell_type": "markdown",
   "id": "91a50719",
   "metadata": {},
   "source": [
    "# Message (m) and Encryption -> M"
   ]
  },
  {
   "cell_type": "code",
   "execution_count": 154,
   "id": "e9351b9d",
   "metadata": {},
   "outputs": [
    {
     "data": {
      "text/plain": [
       "b'secret message'"
      ]
     },
     "execution_count": 154,
     "metadata": {},
     "output_type": "execute_result"
    }
   ],
   "source": [
    "msg = 'secret message'.encode('utf-8')\n",
    "msg"
   ]
  },
  {
   "cell_type": "markdown",
   "id": "fcab1f93",
   "metadata": {},
   "source": [
    "# Key generation"
   ]
  },
  {
   "cell_type": "code",
   "execution_count": 155,
   "id": "e4123f30",
   "metadata": {},
   "outputs": [],
   "source": [
    "def generate_keypair():\n",
    "    p = getPrime(1024)\n",
    "    q = getPrime(1024)\n",
    "    n = p * q\n",
    "    phi_n = (p - 1) * (q - 1)\n",
    "\n",
    "    while True:\n",
    "        e = randint(2, phi_n - 1)\n",
    "        if m.gcd(e, phi_n) == 1:\n",
    "            break\n",
    "    \n",
    "    d = inverse(e, phi_n)\n",
    "\n",
    "    public_key = (n, e)\n",
    "    private_key = (n, d)\n",
    "\n",
    "    return public_key, private_key"
   ]
  },
  {
   "cell_type": "code",
   "execution_count": 156,
   "id": "a6db0b6a",
   "metadata": {},
   "outputs": [
    {
     "name": "stdout",
     "output_type": "stream",
     "text": [
      "((17709617542179287809936331522368912730743885388392193842264747159181409383335529408078149766331054362258465915539627484796147300245182177637815138995870263929413965582944827833925308125744725691608188651973366695668277026848185763412121676691652914916404369443526689255344479004165306344528844769641210330713665700647591886882769268266443340197143766781078729049172426102035928803193057470928243797652819274194130080882291120232746839294752256096214025093769771623226341477054931812141778878945319638844080768719068924730849800394462516300773872446719840468548659921550337919521819493730763793517178303453397152605633, 4476829754281697818824670108663071655195784413504112840597503175272937335259253997044069641668440038770832821575853569820814878808368733420463008928009761482427669294681080328154859426453521097494471969989295653953972578507823594048866764379528719234678381477007029883781398307589657987095709490282004322747083604683682110241852302818735549888630032916571764160985583730089031901268679040241258763194191329800537764085784643605164630770572738193740875611227502228538549384313992017142731746414057939571792849310322950456095437932438195557165007101228348345969494446586659259573263801130079740509436465768611164199643), (17709617542179287809936331522368912730743885388392193842264747159181409383335529408078149766331054362258465915539627484796147300245182177637815138995870263929413965582944827833925308125744725691608188651973366695668277026848185763412121676691652914916404369443526689255344479004165306344528844769641210330713665700647591886882769268266443340197143766781078729049172426102035928803193057470928243797652819274194130080882291120232746839294752256096214025093769771623226341477054931812141778878945319638844080768719068924730849800394462516300773872446719840468548659921550337919521819493730763793517178303453397152605633, 13023555085029689945920565148469401495561549811457085293180047435519231272271116922918071859648410815734087952386375119576522342065762016106757422379665239164486276754923397673482259310349615161777357252880918146434306443401428973409382713399772135477272764793225173871686010840870421152030419054599678937651222050970297125565336578099807631910555819548348429045038748932844305806633882166094516527672085549006738943919580530352586676114340025564867088106760869472070662390698221392128898702833297141850117292368242034857858638290736846627052943438896607532123917914102397651215221267444675381233829973811117079846147)) \n",
      " ((26193561403293671276353786957096692138815766356186911701052490316345282288953641276633629076410103846432416339823487255719434193364729962633656292584022600922200018143151238343160878223045198366698931352202346221345592599613237717232391421044469791886466154594276103246531226346223085234205003284166842729794806673188790417885050890539499925932207849471101987453677337377740400206185731502660520776743498158357224016376156530317660063965356148349532386478323333937544520368188093755442814346784663806909769128383084325535464853609670308911396647492001772702524706364886309551134850917468094466590457140812568665369849, 25734570411519481239177100650354113396951455275127719600357027706467648634112383037167217812507519432230125943190363110427162997181999592770095748591230578737516395796105431141863097270136244299539941956577360424542651960396501764091524239364761526001805132228072876453640776120334770268730976312993644699876843586949669577337730151460797527830639208698385668155184521187709641319695127375872974420939077406620262711840765462986335734982403383099190261532534923066136830139916959308227535145851921127855568103581936879822260075825825339375009860118038638230901773943650731832299497864151963738758719160508558884414815), (26193561403293671276353786957096692138815766356186911701052490316345282288953641276633629076410103846432416339823487255719434193364729962633656292584022600922200018143151238343160878223045198366698931352202346221345592599613237717232391421044469791886466154594276103246531226346223085234205003284166842729794806673188790417885050890539499925932207849471101987453677337377740400206185731502660520776743498158357224016376156530317660063965356148349532386478323333937544520368188093755442814346784663806909769128383084325535464853609670308911396647492001772702524706364886309551134850917468094466590457140812568665369849, 6366045166472578877746273890933046427340945172658910246134459745597124107467009824273623076057572630415718935358088103523600057808482028490415437160106547021907308234113532299586909162585035689898755462274817819841290030933420395676408213767525765074721406943596139049876545350680869238744200768226312025726580783015135248191576909759280646412366296404348444291258312451673930171667515949354182523954035731646193707082223154163688386180205398425913321980922035193596230809988722248432954602169392457534740763736444148750382929564984207304207270574794603054192361133230147234764860508943848874285314658359469184934667))\n"
     ]
    }
   ],
   "source": [
    "sender_keypair = generate_keypair()\n",
    "receiver_keypair = generate_keypair()\n",
    "print(sender_keypair, '\\n', receiver_keypair)"
   ]
  },
  {
   "cell_type": "markdown",
   "id": "1479ca6a",
   "metadata": {},
   "source": [
    "x -> encoded plaintext\n",
    "y -> encrypted plaintext\n",
    "h -> hashed x"
   ]
  },
  {
   "cell_type": "markdown",
   "id": "1ab8598c",
   "metadata": {},
   "source": [
    "# Encoding Message"
   ]
  },
  {
   "cell_type": "code",
   "execution_count": 157,
   "id": "eae791af",
   "metadata": {},
   "outputs": [
    {
     "data": {
      "text/plain": [
       "2340509926146499719798124187838309"
      ]
     },
     "execution_count": 157,
     "metadata": {},
     "output_type": "execute_result"
    }
   ],
   "source": [
    "msg = 'secret message'.encode('utf-8')\n",
    "x = int.from_bytes(msg, 'big')\n",
    "x"
   ]
  },
  {
   "cell_type": "code",
   "execution_count": 158,
   "id": "f1543b15",
   "metadata": {},
   "outputs": [
    {
     "data": {
      "text/plain": [
       "521516269522829685450100"
      ]
     },
     "execution_count": 158,
     "metadata": {},
     "output_type": "execute_result"
    }
   ],
   "source": [
    "hacker_msg = 'not secret'.encode('utf-8')\n",
    "x_hack = int.from_bytes(hacker_msg, 'big')\n",
    "x_hack"
   ]
  },
  {
   "cell_type": "markdown",
   "id": "85eb427d",
   "metadata": {},
   "source": [
    "# Encryption"
   ]
  },
  {
   "cell_type": "code",
   "execution_count": 159,
   "id": "a93fa938",
   "metadata": {},
   "outputs": [
    {
     "data": {
      "text/plain": [
       "1482887696998856890437822102013212200089120184526933585986161388186775893451128342879033601265169164268184440279299307307519839849167180423190759633129551971287594682144030687461746561028545875859953070224437537487214110266355715597863664952866579747120640936431655026426822972163465211876350643697127194300302009238674862449141514364180987692191807915558661525966537584345025508790068453126160069720830221635696418885854289482784664178847033039679380877064778206345383771602046144860674208413829447194180045448635227544925018618727362181307012657122854380749512673602169651467066286765119774734909131841967835859859"
      ]
     },
     "execution_count": 159,
     "metadata": {},
     "output_type": "execute_result"
    }
   ],
   "source": [
    "receiver_pub, receiver_priv = receiver_keypair\n",
    "n, e = receiver_pub\n",
    "y = pow(x, e, n)\n",
    "y"
   ]
  },
  {
   "cell_type": "code",
   "execution_count": 160,
   "id": "2e06bbef",
   "metadata": {},
   "outputs": [
    {
     "data": {
      "text/plain": [
       "22320297638408400468349063868248196655851436839424095865959679374727332491901018515465117486074112043370344440223890201883458368363148630482706492004600603499214112247853576136983291978274493841218370924394758029294150415767114536877630859019727627637555230875629525696669611379193775375445293264000779029088269992195849214482552766355780854757348272874642617586809100794760003842548635969245547003195482596919117444936408571938658656236512098556663706090003565550448443605852974759426278752604651377490720836121692120379440962151238823925962504853433539831012901015072405194266716754767159894291937176453106192137273"
      ]
     },
     "execution_count": 160,
     "metadata": {},
     "output_type": "execute_result"
    }
   ],
   "source": [
    "y_hack = pow(x_hack, e, n)\n",
    "y_hack"
   ]
  },
  {
   "cell_type": "markdown",
   "id": "5c9caf15",
   "metadata": {},
   "source": [
    "# Hash"
   ]
  },
  {
   "cell_type": "code",
   "execution_count": 161,
   "id": "25ea622e",
   "metadata": {},
   "outputs": [
    {
     "data": {
      "text/plain": [
       "84602538464720629197225614477881030577157746024133459066183585119910221554977"
      ]
     },
     "execution_count": 161,
     "metadata": {},
     "output_type": "execute_result"
    }
   ],
   "source": [
    "hash = sha256(msg)\n",
    "h = int.from_bytes(hash.digest(),'big')\n",
    "h"
   ]
  },
  {
   "cell_type": "markdown",
   "id": "12e30ce7",
   "metadata": {},
   "source": [
    "# Signing"
   ]
  },
  {
   "cell_type": "code",
   "execution_count": 162,
   "id": "cd779165",
   "metadata": {},
   "outputs": [
    {
     "data": {
      "text/plain": [
       "16668531137313439926312477047353754929770193976836732944417816833988465233914881256373613922413165791628959591293892997392448490121186796144255749572766530449544037830058543073936682565293361488398616202887363544241958878872309259242155181060031907732787716483922129428704053618820463806249788914968162364735668253569782838165451426667188891843207103197871258544494654401261273823251759146446659515548534419680492994114231547492375970763970461521183295739325149380419247804406636614460469512240599094808516369518386545778182997853817030462708525735049839307195284530466420456361817379694048551985512845831575692980969"
      ]
     },
     "execution_count": 162,
     "metadata": {},
     "output_type": "execute_result"
    }
   ],
   "source": [
    "sender_pub, sender_priv = sender_keypair\n",
    "n, d = sender_priv\n",
    "sign = pow(h, d, n)\n",
    "sign "
   ]
  },
  {
   "cell_type": "markdown",
   "id": "fde16986",
   "metadata": {},
   "source": [
    "# Decryption of hash (sign) with Sender pub key"
   ]
  },
  {
   "cell_type": "code",
   "execution_count": 163,
   "id": "7d9ab67c",
   "metadata": {},
   "outputs": [
    {
     "data": {
      "text/plain": [
       "84602538464720629197225614477881030577157746024133459066183585119910221554977"
      ]
     },
     "execution_count": 163,
     "metadata": {},
     "output_type": "execute_result"
    }
   ],
   "source": [
    "n, e = sender_pub\n",
    "decrypt_to_hash = pow(sign, e, n)\n",
    "decrypt_to_hash"
   ]
  },
  {
   "cell_type": "markdown",
   "id": "6341780b",
   "metadata": {},
   "source": [
    "# Decryption of message"
   ]
  },
  {
   "cell_type": "code",
   "execution_count": 164,
   "id": "17d230f2",
   "metadata": {},
   "outputs": [
    {
     "data": {
      "text/plain": [
       "2340509926146499719798124187838309"
      ]
     },
     "execution_count": 164,
     "metadata": {},
     "output_type": "execute_result"
    }
   ],
   "source": [
    "n, d = receiver_priv\n",
    "decrypt_to_msg = pow(y, d, n)\n",
    "decrypt_to_msg"
   ]
  },
  {
   "cell_type": "markdown",
   "id": "7ff71b13",
   "metadata": {},
   "source": [
    "# Hash verification "
   ]
  },
  {
   "cell_type": "code",
   "execution_count": 165,
   "id": "6e2c6807",
   "metadata": {},
   "outputs": [
    {
     "name": "stdout",
     "output_type": "stream",
     "text": [
      "True\n"
     ]
    }
   ],
   "source": [
    "msg_bytes = decrypt_to_msg.to_bytes((decrypt_to_msg.bit_length() + 7) // 8, 'big')\n",
    "final_h = sha256(msg_bytes)\n",
    "print(final_h.digest() == hash.digest())"
   ]
  },
  {
   "cell_type": "markdown",
   "id": "0b4870e1",
   "metadata": {},
   "source": [
    "# Get plaintext"
   ]
  },
  {
   "cell_type": "code",
   "execution_count": 166,
   "id": "ad273fc4",
   "metadata": {},
   "outputs": [
    {
     "data": {
      "text/plain": [
       "'secret message'"
      ]
     },
     "execution_count": 166,
     "metadata": {},
     "output_type": "execute_result"
    }
   ],
   "source": [
    "decrypt_to_msg.to_bytes((decrypt_to_msg.bit_length() + 7) // 8, 'big').decode('utf-8')"
   ]
  },
  {
   "cell_type": "code",
   "execution_count": 167,
   "id": "ecb86d77",
   "metadata": {},
   "outputs": [
    {
     "name": "stdout",
     "output_type": "stream",
     "text": [
      "((16824228911198804917529959313726142755421720919910559681717026935267525095392078205514205068010297303794295531851551122064760818082346820613456720705686804304221311914071650955554085922576112365169649962720712832740601644083994059523291427221568470712599745306271922593896798242047779261997618962612515665941527324464175571767939999321518577427633436676212155827345023575558294885166333047311151553170406092612842363097777102500539992522878769528520016414612509952003275882377316038133290229943017813051604522955191196146311352595339528326132124087830400578532885907195051626241506320038361685476812300225673747512251, 4166934320860582160459182766372453896645313523659528186757332182745478268884213647474774689163361401316126145852479062971741431453898949631671303910626347043097800983159366770201821567082348065811065016378314242792233531131981646141714741282928682421359259065094938599428707701105954654935297708343474859959345949096823420548230408852144497747386134074612773771709933660876948468060304785028644613565933751266471218623331309139788071153667529446019879880480690102887419367023049014647935822445346625397888705980247876701257299951800516980725261662606778608414315514114664481684187011705165126266592624594430165787081), (16824228911198804917529959313726142755421720919910559681717026935267525095392078205514205068010297303794295531851551122064760818082346820613456720705686804304221311914071650955554085922576112365169649962720712832740601644083994059523291427221568470712599745306271922593896798242047779261997618962612515665941527324464175571767939999321518577427633436676212155827345023575558294885166333047311151553170406092612842363097777102500539992522878769528520016414612509952003275882377316038133290229943017813051604522955191196146311352595339528326132124087830400578532885907195051626241506320038361685476812300225673747512251, 13944940984935815468818556783161754972660718032985537449008644754915252232410837732903984118826257620171015264987932701747101704771535640991927415127834398233143728903418263849083835911830614018617223805926692162835377963429396283578990141228001996273196504845232122929967868371885752393360534594843223791433644958431396060052731219840099733426703755822646198473297742553352469404177057608816603566185960253708051782086055665396378273403554420572857426517391689296813001837784119339258622248864212582061399908366416138966842724971536406487743829280904260025872639151716568134609114169174850733581489625290615784985545)) \n",
      " ((20829607298458667132153416662798297902850818737771069705941483710236144765234538617000678091733564088638291726876886022459609536498522966240478109647138868167540959433817835815701037528814538686876070432862459447765321722071271898459581986526309566235721728454926497164647796830031102494108002488901879980118242159627071829954015771585970646083132962325113809950769639324018308910994524893391479526039270560399002248086038305231255209811699240996992434130930206601235764353387836759265480500043873393949604521184005357147616610110077414041274243508549644515204289224013158545969008792631493863688024522827415961845229, 7968455089407794347935382607660866632692537494591002555678528574045262279731251000869532821632241011518036889599742530415242224368850032845546680166703769807901082994445374843043485317455395476677412565775519826825677557441438552501512084962702914153107511166041445897457407224682447145623805944544767786148808382628923653885849831137929903713121908728688318833114840042403437765678101116599311114856725147887401455045312539595207895033473065128391191692578357264383718581301184948407766213276341082969721854372769390022092904976186852471990182658857880457524211221784636795445049822500956610258664305386432843413707), (20829607298458667132153416662798297902850818737771069705941483710236144765234538617000678091733564088638291726876886022459609536498522966240478109647138868167540959433817835815701037528814538686876070432862459447765321722071271898459581986526309566235721728454926497164647796830031102494108002488901879980118242159627071829954015771585970646083132962325113809950769639324018308910994524893391479526039270560399002248086038305231255209811699240996992434130930206601235764353387836759265480500043873393949604521184005357147616610110077414041274243508549644515204289224013158545969008792631493863688024522827415961845229, 9448692671274858212956927670644662515844205917815035863751906197403126025967447324905884787044094031326379837681511448067368124350846428498891457504145883864427752720519981523230878555386675422201601088258800408726644314459545820155673078003324196549111524531660454433200120527521003174665339286860714571319740718024185242841408730701321193764268318252484919785022812274633104030893925375818054689568186707277722009553848676709490015332558490262249715668882357629222784247285508106392717571718751218993960802515982910526788479781817423874352166742034718202647501144014990778231687667337521578291356923246794339200619))\n"
     ]
    }
   ],
   "source": [
    "def generate_keypair():\n",
    "    p = getPrime(1024)\n",
    "    q = getPrime(1024)\n",
    "    n = p * q\n",
    "    phi_n = (p - 1) * (q - 1)\n",
    "\n",
    "    while True:\n",
    "        e = randint(2, phi_n - 1)\n",
    "        if m.gcd(e, phi_n) == 1:\n",
    "            break\n",
    "    \n",
    "    d = inverse(e, phi_n)\n",
    "\n",
    "    public_key = (n, e)\n",
    "    private_key = (n, d)\n",
    "\n",
    "    return public_key, private_key\n",
    "\n",
    "# Generating keypairs\n",
    "sender_keypair = generate_keypair() #generate sender keypair\n",
    "receiver_keypair = generate_keypair() #generate receiver keypair\n",
    "print(sender_keypair, '\\n', receiver_keypair)\n",
    "\n",
    "#Define message x\n",
    "msg = 'secret message'.encode('utf-8') #secret message\n",
    "x = int.from_bytes(msg, 'big') #turn bytes to integer\n",
    "\n",
    "# Encrypt message x with receiver public key -> ciphertext y\n",
    "receiver_pub, receiver_priv = receiver_keypair\n",
    "n, e = receiver_pub\n",
    "y = pow(x, e, n) \n",
    "\n",
    "# Compute hash\n",
    "hash = sha256(msg)\n",
    "h = int.from_bytes(hash.digest(),'big')\n",
    "\n",
    "#Signing \n",
    "sender_pub, sender_priv = sender_keypair\n",
    "n, d = sender_priv\n",
    "sign = pow(h, d, n) #signing hash with sender private key"
   ]
  },
  {
   "cell_type": "code",
   "execution_count": 168,
   "id": "8cf18c7a",
   "metadata": {},
   "outputs": [
    {
     "name": "stdout",
     "output_type": "stream",
     "text": [
      "Signature valid? True\n"
     ]
    },
    {
     "data": {
      "text/plain": [
       "'secret message'"
      ]
     },
     "execution_count": 168,
     "metadata": {},
     "output_type": "execute_result"
    }
   ],
   "source": [
    "n, e = sender_pub\n",
    "decrypt_to_hash = pow(sign, e, n)\n",
    "\n",
    "n, d = receiver_priv\n",
    "decrypt_to_msg = pow(y, d, n)\n",
    "\n",
    "msg_bytes = decrypt_to_msg.to_bytes((decrypt_to_msg.bit_length() + 7) // 8, 'big')\n",
    "final_h = sha256(msg_bytes)\n",
    "final_h_int = int.from_bytes(final_h.digest(), 'big')  \n",
    "\n",
    "valid_signature = decrypt_to_hash == final_h_int\n",
    "print(\"Signature valid?\", valid_signature)\n",
    "\n",
    "decrypt_to_msg.to_bytes((decrypt_to_msg.bit_length() + 7) // 8, 'big').decode('utf-8')"
   ]
  },
  {
   "cell_type": "code",
   "execution_count": 169,
   "id": "c79a7acf",
   "metadata": {},
   "outputs": [
    {
     "name": "stdout",
     "output_type": "stream",
     "text": [
      "3DES key (hex): 8c731629c2b9df266d67026845679173d50e3bbf58df51a2\n",
      "K1: 8c731629c2b9df26\n",
      "K2: 6d67026845679173\n",
      "K3: d50e3bbf58df51a2\n"
     ]
    }
   ],
   "source": [
    "from Crypto.Cipher import DES3, AES\n",
    "from Crypto.Random import get_random_bytes\n",
    "\n",
    "def generate_3des_key():\n",
    "    while True:\n",
    "        key = get_random_bytes(24)\n",
    "        try:\n",
    "            key = DES3.adjust_key_parity(key)\n",
    "        except ValueError:\n",
    "            continue\n",
    "        \n",
    "        k1, k2, k3 = key[:8], key[8:16], key[16:]\n",
    "        \n",
    "        if k1 != k2 and k2 != k3 and k1 != k3:\n",
    "            return key, (k1, k2, k3)\n",
    "\n",
    "key, (k1, k2, k3) = generate_3des_key()\n",
    "\n",
    "print(\"3DES key (hex):\", key.hex())\n",
    "print(\"K1:\", k1.hex())\n",
    "print(\"K2:\", k2.hex())\n",
    "print(\"K3:\", k3.hex())\n"
   ]
  },
  {
   "cell_type": "code",
   "execution_count": 170,
   "id": "5adef34d",
   "metadata": {},
   "outputs": [],
   "source": [
    "from base64 import b64encode, b64decode\n",
    "from Crypto.Util.Padding import pad, unpad\n",
    "\n",
    "def encypt_3DES(plaintext, key):\n",
    "    cipher = DES3.new(key, DES3.MODE_CBC)\n",
    "    ct_bytes = cipher.encrypt(pad(plaintext, DES3.block_size)) \n",
    "    initial_vector = b64encode(cipher.iv).decode('utf-8') #initialization vector -> probabilistic method\n",
    "    ct = b64encode(ct_bytes).decode('utf-8') #cipher text\n",
    "    return initial_vector, ct"
   ]
  },
  {
   "cell_type": "code",
   "execution_count": 171,
   "id": "aeb07809",
   "metadata": {},
   "outputs": [],
   "source": [
    "data = 'Lorem ipsum dolor sit amet, consectetur adipiscing elit,' \\\n",
    "'sed do eiusmod tempor incididunt ut labore et dolore magna aliqua. ' \\\n",
    "'Ut enim ad minim veniam, quis nostrud exercitation ullamco laboris nisi ' \\\n",
    "'ut aliquip ex ea commodo consequat. Duis aute irure dolor in reprehenderit in voluptate ' \\\n",
    "'velit esse cillum dolore eu fugiat nulla pariatur. Excepteur sint occaecat cupidatat non proident, ' \\\n",
    "'sunt in culpa qui officia deserunt mollit anim id est laborum.'.encode('utf_8')\n",
    "iv, ct = encypt_3DES(plaintext=data, key=key)"
   ]
  },
  {
   "cell_type": "code",
   "execution_count": 172,
   "id": "6c16d6d4",
   "metadata": {},
   "outputs": [],
   "source": [
    "def decrypt_3DES(iv, ct, key):\n",
    "    try:\n",
    "        cipher = DES3.new(key, DES3.MODE_CBC, iv= b64decode(iv))\n",
    "        #pt = unpad(cipher.decrypt(ct), DES3.block_size)\n",
    "        pt = unpad(cipher.decrypt(b64decode(ct)), DES3.block_size)\n",
    "        print(\"The message was: \", pt)\n",
    "    except (ValueError, KeyError):\n",
    "        print(\"Incorrect decryption\")"
   ]
  },
  {
   "cell_type": "code",
   "execution_count": 173,
   "id": "e935c596",
   "metadata": {},
   "outputs": [
    {
     "name": "stdout",
     "output_type": "stream",
     "text": [
      "The message was:  b'Lorem ipsum dolor sit amet, consectetur adipiscing elit,sed do eiusmod tempor incididunt ut labore et dolore magna aliqua. Ut enim ad minim veniam, quis nostrud exercitation ullamco laboris nisi ut aliquip ex ea commodo consequat. Duis aute irure dolor in reprehenderit in voluptate velit esse cillum dolore eu fugiat nulla pariatur. Excepteur sint occaecat cupidatat non proident, sunt in culpa qui officia deserunt mollit anim id est laborum.'\n"
     ]
    }
   ],
   "source": [
    "decrypt_3DES(iv, ct, key)"
   ]
  },
  {
   "cell_type": "code",
   "execution_count": null,
   "id": "745d1909",
   "metadata": {},
   "outputs": [],
   "source": []
  },
  {
   "cell_type": "code",
   "execution_count": null,
   "id": "88631ba6",
   "metadata": {},
   "outputs": [],
   "source": []
  }
 ],
 "metadata": {
  "kernelspec": {
   "display_name": "Python 3",
   "language": "python",
   "name": "python3"
  },
  "language_info": {
   "codemirror_mode": {
    "name": "ipython",
    "version": 3
   },
   "file_extension": ".py",
   "mimetype": "text/x-python",
   "name": "python",
   "nbconvert_exporter": "python",
   "pygments_lexer": "ipython3",
   "version": "3.13.2"
  }
 },
 "nbformat": 4,
 "nbformat_minor": 5
}
