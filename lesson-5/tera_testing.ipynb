{
 "cells": [
  {
   "cell_type": "code",
   "execution_count": 409,
   "id": "fbd55df9",
   "metadata": {},
   "outputs": [],
   "source": [
    "import numpy as np\n",
    "from Crypto.Util.number import getPrime, inverse\n",
    "from hashlib import sha256\n",
    "from random import randint\n",
    "from Crypto.PublicKey import RSA\n",
    "import math as m"
   ]
  },
  {
   "cell_type": "markdown",
   "id": "cb185c06",
   "metadata": {},
   "source": [
    "# Generate a keypair for both the sender and receiver"
   ]
  },
  {
   "cell_type": "code",
   "execution_count": 410,
   "id": "285be773",
   "metadata": {},
   "outputs": [],
   "source": [
    "# sender_keypair = RSA.generate(2048) #recommended 2048 key length\n",
    "# receiver_keypair = RSA.generate(2048)\n",
    "\n",
    "# pwd = b'secure_password'\n",
    "# with open(\"sender_privkey.pem\", \"wb\") as f:\n",
    "#     data = sender_keypair.export_key(passphrase=pwd,\n",
    "#                                 pkcs=8,\n",
    "#                                 protection='PBKDF2WithHMAC-SHA512AndAES256-CBC',\n",
    "#                                 prot_params={'iteration_count':131072})\n",
    "#     f.write(data)"
   ]
  },
  {
   "cell_type": "code",
   "execution_count": 411,
   "id": "6fb34276",
   "metadata": {},
   "outputs": [],
   "source": [
    "# pwd = b'secure_password_receiver'\n",
    "# with open(\"receiver_privkey.pem\", \"wb\") as f:\n",
    "#     data = receiver_keypair.export_key(passphrase=pwd,\n",
    "#                                 pkcs=8,\n",
    "#                                 protection='PBKDF2WithHMAC-SHA512AndAES256-CBC',\n",
    "#                                 prot_params={'iteration_count':131072})\n",
    "#     f.write(data)"
   ]
  },
  {
   "cell_type": "code",
   "execution_count": 412,
   "id": "31ae33d2",
   "metadata": {},
   "outputs": [],
   "source": [
    "# with open(\"receiver_pubkey.pem\", \"wb\") as f:\n",
    "#     data = receiver_keypair.public_key().export_key()\n",
    "#     f.write(data)"
   ]
  },
  {
   "cell_type": "code",
   "execution_count": 413,
   "id": "9d227448",
   "metadata": {},
   "outputs": [],
   "source": [
    "# with open(\"sender_pubkey.pem\", \"wb\") as f:\n",
    "#     data = sender_keypair.public_key().export_key()\n",
    "#     f.write(data)"
   ]
  },
  {
   "cell_type": "markdown",
   "id": "91a50719",
   "metadata": {},
   "source": [
    "# Message (m) and Encryption -> M"
   ]
  },
  {
   "cell_type": "code",
   "execution_count": 414,
   "id": "e9351b9d",
   "metadata": {},
   "outputs": [
    {
     "data": {
      "text/plain": [
       "b'secret message'"
      ]
     },
     "execution_count": 414,
     "metadata": {},
     "output_type": "execute_result"
    }
   ],
   "source": [
    "msg = 'secret message'.encode('utf-8')\n",
    "msg"
   ]
  },
  {
   "cell_type": "markdown",
   "id": "fcab1f93",
   "metadata": {},
   "source": [
    "# Key generation"
   ]
  },
  {
   "cell_type": "code",
   "execution_count": 415,
   "id": "e4123f30",
   "metadata": {},
   "outputs": [],
   "source": [
    "def generate_keypair():\n",
    "    p = getPrime(1024)\n",
    "    q = getPrime(1024)\n",
    "    n = p * q\n",
    "    phi_n = (p - 1) * (q - 1)\n",
    "\n",
    "    while True:\n",
    "        e = randint(2, phi_n - 1)\n",
    "        if m.gcd(e, phi_n) == 1:\n",
    "            break\n",
    "    \n",
    "    d = inverse(e, phi_n)\n",
    "\n",
    "    public_key = (n, e)\n",
    "    private_key = (n, d)\n",
    "\n",
    "    return public_key, private_key"
   ]
  },
  {
   "cell_type": "code",
   "execution_count": 416,
   "id": "a6db0b6a",
   "metadata": {},
   "outputs": [
    {
     "name": "stdout",
     "output_type": "stream",
     "text": [
      "((20242752370607486079255208826904928047539266627479840103227645476543537159340430211487013570950153776171133327237436754592576420858312736311682916941899324208935787235913483156733665677465221907383627149834646292897572287762639631637848288594239794744751065151439635607746331841895527107807653357072069244532364390428179413396032356338732271663471202100979168691658035324451271842202461601252809601067045448786456677202853124531143555297304191672438383933007458866277428317113006999190738949803501351538848569215722306056273362746434146355059419180472318590268173230087171093620561787516950912542882789557635739418601, 12747146497206709279324551768769539497443196130057084713555621038809701306880685392337862232741581052308916323995948524392126214823974072970204512069349374050094885993959646505454911949803391903775265599313363496427212682878651370500374771785963214546011492061593911446334682058418391538974189793288416320214838943696755765698901994338454292326542542057049154023712757942584439252147855243354023889502245257459127608580800455823715047656256022008878525414616558292101579665114438480285835078253192759764984209751900990623729658878909199191266544506181668010780551753580297092800127003699516042883306300434178181459485), (20242752370607486079255208826904928047539266627479840103227645476543537159340430211487013570950153776171133327237436754592576420858312736311682916941899324208935787235913483156733665677465221907383627149834646292897572287762639631637848288594239794744751065151439635607746331841895527107807653357072069244532364390428179413396032356338732271663471202100979168691658035324451271842202461601252809601067045448786456677202853124531143555297304191672438383933007458866277428317113006999190738949803501351538848569215722306056273362746434146355059419180472318590268173230087171093620561787516950912542882789557635739418601, 10228494811561881540291889231275670533054752925155423371296283322605236597193125010688172629718764048511734907924742141258466977130486540960893465465941180063948452424227280317020054946858906839899053020932994706676932434157201357238686668456247838062860932214462380040064407516040065175479572113183232174533812957017117546868361993049147949858875316921933869676690233668326210144427865250684551542068204310481562008324698089821500969742274420044204733157591965593967503438611328069599388169036264393647946214288217173494996064806336495858501803270231271632316824983315099708735981663716738911925490467092778836931825)) \n",
      " ((13818099472078415799002420247875680207760646843176996482396495779607897187134650257554575987327804765321811911729931921863066958229893326777352696210502478919443369716184018873515834809271485567097861816343550783507113139066039261729541828984851009166694575689283790746061882244759062540174689086058734512450939301170595424964324496680196301566004791031760029772967114388261432172449521793375892928647663238282689633232017449504385192591832438566835230949149277176552500191662230760995651214149720503890505926468606724591917086823265425239830759952992993302460524277883631651000645002022238175243452982357431398941611, 2588408963993958513911807168491840097675708968677556562044290223386431548245664945035786370558200549188437280776613953787882534827870887261562725304674274956155758556713584728000999873719371575227923660428707461177201504637842122983209103539759570438827208922640413353398431015106713465302069182291939922387027220956679990260878879524018023628389578914799858365817508857995314268745867589698154491505365685641279450558282599873863479632711745192375502467078756891659236630922037718824644081097554547192164659748310279332712844145755167018506244102600862572641718210153268565665470681204362746293470905366612579399961), (13818099472078415799002420247875680207760646843176996482396495779607897187134650257554575987327804765321811911729931921863066958229893326777352696210502478919443369716184018873515834809271485567097861816343550783507113139066039261729541828984851009166694575689283790746061882244759062540174689086058734512450939301170595424964324496680196301566004791031760029772967114388261432172449521793375892928647663238282689633232017449504385192591832438566835230949149277176552500191662230760995651214149720503890505926468606724591917086823265425239830759952992993302460524277883631651000645002022238175243452982357431398941611, 3810835995962567707458927611827655729563010873252104238384506371576435954994916356187263271497099122964842444038146291072566434748746638865302000387621848546385395602432798391715658040191366293017522463791793342156140501431872812381687435694187630217665242486647626341621382135779825445041380818249565343999450712757371874131295451168057986483438470784283618010818704101812751751091750046825131072116662581430542198425541391020454525036990540479080853703952293773066625852131872326430557820617658174718495025778827981279756791875969322870868019304159896717570515630895676482613911269370955643166767067323055411697081))\n"
     ]
    }
   ],
   "source": [
    "sender_keypair = generate_keypair()\n",
    "receiver_keypair = generate_keypair()\n",
    "print(sender_keypair, '\\n', receiver_keypair)"
   ]
  },
  {
   "cell_type": "markdown",
   "id": "1479ca6a",
   "metadata": {},
   "source": [
    "x -> encoded plaintext\n",
    "y -> encrypted plaintext\n",
    "h -> hashed x"
   ]
  },
  {
   "cell_type": "markdown",
   "id": "1ab8598c",
   "metadata": {},
   "source": [
    "# Encoding Message"
   ]
  },
  {
   "cell_type": "code",
   "execution_count": 417,
   "id": "eae791af",
   "metadata": {},
   "outputs": [
    {
     "data": {
      "text/plain": [
       "2340509926146499719798124187838309"
      ]
     },
     "execution_count": 417,
     "metadata": {},
     "output_type": "execute_result"
    }
   ],
   "source": [
    "msg = 'secret message'.encode('utf-8')\n",
    "x = int.from_bytes(msg, 'big')\n",
    "x"
   ]
  },
  {
   "cell_type": "code",
   "execution_count": 418,
   "id": "f1543b15",
   "metadata": {},
   "outputs": [
    {
     "data": {
      "text/plain": [
       "521516269522829685450100"
      ]
     },
     "execution_count": 418,
     "metadata": {},
     "output_type": "execute_result"
    }
   ],
   "source": [
    "hacker_msg = 'not secret'.encode('utf-8')\n",
    "x_hack = int.from_bytes(hacker_msg, 'big')\n",
    "x_hack"
   ]
  },
  {
   "cell_type": "markdown",
   "id": "85eb427d",
   "metadata": {},
   "source": [
    "# Encryption"
   ]
  },
  {
   "cell_type": "code",
   "execution_count": 419,
   "id": "a93fa938",
   "metadata": {},
   "outputs": [
    {
     "data": {
      "text/plain": [
       "1344937084062364742044498905070746273990905257942519876113161176846076834030503593228202087568242382346779539481463695632736459511583100638998613517055623789810521019854790793121893638422845522832941576183330264680850856855834643621127250640042128767194696155628665600383927374177694736541116120105009794170711775961606526785868563940566382863824610048728834667773691583671864842061002148500824538449782205623506390766646558813560500468866737939670436661291396352172936366728203546965379650751657784368120940325455998845444064847931558322997078115505422701679925039783647569902759562083401597618828315974312049182053"
      ]
     },
     "execution_count": 419,
     "metadata": {},
     "output_type": "execute_result"
    }
   ],
   "source": [
    "receiver_pub, receiver_priv = receiver_keypair\n",
    "n, e = receiver_pub\n",
    "y = pow(x, e, n)\n",
    "y"
   ]
  },
  {
   "cell_type": "code",
   "execution_count": 420,
   "id": "2e06bbef",
   "metadata": {},
   "outputs": [
    {
     "data": {
      "text/plain": [
       "10280242655631921322636331378713458307174644404043936242273503196740347736682871481184532671092046739732703801978974981106450962011553366724196224875544772371735503509551752507987606608826294944702152207005841553933740258966990949265449852190502230665455641592530317354344268355293583472580591982791138536162468892938150733717975001632335165081154912203705277028926994345065594974778602690792529870819144592482418349020960675612951528630438376961833165190814570620194489819247294540006442402186869541618524814841995481599352678215642421325783824156569031860891134160180993827155627114923706162155530895954539758102602"
      ]
     },
     "execution_count": 420,
     "metadata": {},
     "output_type": "execute_result"
    }
   ],
   "source": [
    "y_hack = pow(x_hack, e, n)\n",
    "y_hack"
   ]
  },
  {
   "cell_type": "markdown",
   "id": "5c9caf15",
   "metadata": {},
   "source": [
    "# Hash"
   ]
  },
  {
   "cell_type": "code",
   "execution_count": 421,
   "id": "25ea622e",
   "metadata": {},
   "outputs": [
    {
     "data": {
      "text/plain": [
       "84602538464720629197225614477881030577157746024133459066183585119910221554977"
      ]
     },
     "execution_count": 421,
     "metadata": {},
     "output_type": "execute_result"
    }
   ],
   "source": [
    "hash = sha256(msg)\n",
    "h = int.from_bytes(hash.digest(),'big')\n",
    "h"
   ]
  },
  {
   "cell_type": "markdown",
   "id": "12e30ce7",
   "metadata": {},
   "source": [
    "# Signing"
   ]
  },
  {
   "cell_type": "code",
   "execution_count": 422,
   "id": "cd779165",
   "metadata": {},
   "outputs": [
    {
     "data": {
      "text/plain": [
       "6202448396713572265053540685182382831442032014623950356851809933794532011604795478477483855758228266779052151503133231583584613674120458992696323794117195127067811206913047183203800421627797346447242851760040264924662441911119022079659544301263789407503101088669789689726218047313955463962242070178631777441873212027815877622580978214582919953939588380541520345414522872237772685131862645686612154939313529572285634886037990641499831806088976920709825390049667870327293364991708449730509393291505795423935028850060109639368948547912865550326618544340116878462898465538190836235094282579777293704393810448515847413852"
      ]
     },
     "execution_count": 422,
     "metadata": {},
     "output_type": "execute_result"
    }
   ],
   "source": [
    "sender_pub, sender_priv = sender_keypair\n",
    "n, d = sender_priv\n",
    "sign = pow(h, d, n)\n",
    "sign "
   ]
  },
  {
   "cell_type": "markdown",
   "id": "fde16986",
   "metadata": {},
   "source": [
    "# Decryption of hash (sign) with Sender pub key"
   ]
  },
  {
   "cell_type": "code",
   "execution_count": 423,
   "id": "7d9ab67c",
   "metadata": {},
   "outputs": [
    {
     "data": {
      "text/plain": [
       "84602538464720629197225614477881030577157746024133459066183585119910221554977"
      ]
     },
     "execution_count": 423,
     "metadata": {},
     "output_type": "execute_result"
    }
   ],
   "source": [
    "n, e = sender_pub\n",
    "decrypt_to_hash = pow(sign, e, n)\n",
    "decrypt_to_hash"
   ]
  },
  {
   "cell_type": "markdown",
   "id": "6341780b",
   "metadata": {},
   "source": [
    "# Decryption of message"
   ]
  },
  {
   "cell_type": "code",
   "execution_count": 424,
   "id": "17d230f2",
   "metadata": {},
   "outputs": [
    {
     "data": {
      "text/plain": [
       "2340509926146499719798124187838309"
      ]
     },
     "execution_count": 424,
     "metadata": {},
     "output_type": "execute_result"
    }
   ],
   "source": [
    "n, d = receiver_priv\n",
    "decrypt_to_msg = pow(y, d, n)\n",
    "decrypt_to_msg"
   ]
  },
  {
   "cell_type": "markdown",
   "id": "7ff71b13",
   "metadata": {},
   "source": [
    "# Hash verification "
   ]
  },
  {
   "cell_type": "code",
   "execution_count": 425,
   "id": "6e2c6807",
   "metadata": {},
   "outputs": [
    {
     "name": "stdout",
     "output_type": "stream",
     "text": [
      "True\n"
     ]
    }
   ],
   "source": [
    "msg_bytes = decrypt_to_msg.to_bytes((decrypt_to_msg.bit_length() + 7) // 8, 'big')\n",
    "final_h = sha256(msg_bytes)\n",
    "print(int.from_bytes(final_h.digest()) == decrypt_to_hash)\n",
    "#print(final_h.digest() == decrypt_to_hash)"
   ]
  },
  {
   "cell_type": "markdown",
   "id": "0b4870e1",
   "metadata": {},
   "source": [
    "# Get plaintext"
   ]
  },
  {
   "cell_type": "code",
   "execution_count": 426,
   "id": "ad273fc4",
   "metadata": {},
   "outputs": [
    {
     "data": {
      "text/plain": [
       "'secret message'"
      ]
     },
     "execution_count": 426,
     "metadata": {},
     "output_type": "execute_result"
    }
   ],
   "source": [
    "decrypt_to_msg.to_bytes((decrypt_to_msg.bit_length() + 7) // 8, 'big').decode('utf-8')"
   ]
  },
  {
   "cell_type": "code",
   "execution_count": 427,
   "id": "ecb86d77",
   "metadata": {},
   "outputs": [
    {
     "name": "stdout",
     "output_type": "stream",
     "text": [
      "((14431875022797307767922534821503499950556141244112238095216936994660347087947217006014806040980922775659675483518791600747282189199091826683686472032684413517793729705500853337517677956014064620403142778664018750697507727174484253512069899089851753402802182939448680717189420101453749429476068149163234238758938068632835537719505219529308431136761555373799676622376919579933605686753856031835747957260121981465556738864639752437188068956914255006406017202834578373849775974665456968784326237004013796284328947024859549345432233558171473591267997262728760236941727885969019615015605149959493306397142463856031073991323, 9946309898923249842194993779200531369916154422512389677521163489929467404116958738766948688898058198623750619828808486782330932634248736407874515881695983737036815004899463089755726485734321587186548099384146379800971487168864103018083536444551487928062330111613801876830913736120594000026851730298124260226981016828199846094677880869180639029994195524677477421815365913498086064046858021469709405240180945506778497643683209988517491541233764658664520203957091702513738417421710344497212970806640876046765967209056093537627689340930862092806254280285686709652839545018750705860718892900387005860059430869003557107703), (14431875022797307767922534821503499950556141244112238095216936994660347087947217006014806040980922775659675483518791600747282189199091826683686472032684413517793729705500853337517677956014064620403142778664018750697507727174484253512069899089851753402802182939448680717189420101453749429476068149163234238758938068632835537719505219529308431136761555373799676622376919579933605686753856031835747957260121981465556738864639752437188068956914255006406017202834578373849775974665456968784326237004013796284328947024859549345432233558171473591267997262728760236941727885969019615015605149959493306397142463856031073991323, 9863706090098063222260903772090654715556779279787147262949986739163929351543251067256685832864629833851202068813921617160865158346407687582827614065380018812904465604229676830419535726471492849945635468473631591931514158878576645703962815641415144030146306005449144021659140175976869815296529472546844063084654538595636011041265090106527562781751687701377037686812240099296842260225803446919869784436442605417126655261139879296880137043196656474675716776594426566594915095012085019970564627602207066990255945031201172084552791550823551495798604631419610794566119099267269259780982769283469641182615749951917458861511)) \n",
      " ((16946950738955260023418703270681401763922151004841124833705221458277362854806442187831133829392089000694305793666551405302967057050442025507903710107058150776232136502504541311133215035354419218752526625462889949376029433587974081732333049483922640659506077718773281429950126958705699899770300472466470684601152621181425672514209840284428964660908090007193069387498399620992689042226126005653500202661061996991849427316547354052745841096698220277100742210661636576560540920958450229825119937311198972115844576787871379644429586272122869333703428072239237125640368218073022487494388324975960729213286049145126566598693, 3367961392153709797272914461621732487925195088280318851553025368361742966036777377084594848349273212911559928010423723055160817061377373180095719160986028824730959046448976816761557792190979966722726572330670818369785197050228233001594843663463046522665696438846064745296597979613247326653975247877089480543903941395161326682247839848823085041948490755086914072727246314171890241045881818147068669468810642222861175385070745964405812245931936640522085115957035978102778422463918668718358502295007973285968222131291914635494092640240870643430515753255782557419552102372742136369368493871304443086626656946812673244371), (16946950738955260023418703270681401763922151004841124833705221458277362854806442187831133829392089000694305793666551405302967057050442025507903710107058150776232136502504541311133215035354419218752526625462889949376029433587974081732333049483922640659506077718773281429950126958705699899770300472466470684601152621181425672514209840284428964660908090007193069387498399620992689042226126005653500202661061996991849427316547354052745841096698220277100742210661636576560540920958450229825119937311198972115844576787871379644429586272122869333703428072239237125640368218073022487494388324975960729213286049145126566598693, 2297540031218804778682141768085861719966322606088556221417056169945013937375404345881976978361100336056679523822112354524903550213934448006428266401373683558844118379256577401013954254156499677165668348290254402154753491586621781102344474020846489706421542543631636632097037511254831878048680749520701573602524858776942492591779997390309597116857309235117340279951456681361349726065583035545895953705739809345758994940453390259933690378983401366477038416056276659599841667045764128430946854904234520620486384665583492592751137292849070733327725062799429255609955679680730772829715610885513382157503744997190433250139))\n"
     ]
    }
   ],
   "source": [
    "def generate_keypair():\n",
    "    p = getPrime(1024)\n",
    "    q = getPrime(1024)\n",
    "    n = p * q\n",
    "    phi_n = (p - 1) * (q - 1)\n",
    "\n",
    "    while True:\n",
    "        e = randint(2, phi_n - 1)\n",
    "        if m.gcd(e, phi_n) == 1:\n",
    "            break\n",
    "    \n",
    "    d = inverse(e, phi_n)\n",
    "\n",
    "    public_key = (n, e)\n",
    "    private_key = (n, d)\n",
    "\n",
    "    return public_key, private_key\n",
    "\n",
    "# Generating keypairs\n",
    "sender_keypair = generate_keypair() #generate sender keypair\n",
    "receiver_keypair = generate_keypair() #generate receiver keypair\n",
    "print(sender_keypair, '\\n', receiver_keypair)\n",
    "\n",
    "#Define message x\n",
    "msg = 'secret message'.encode('utf-8') #secret message\n",
    "x = int.from_bytes(msg, 'big') #turn bytes to integer\n",
    "\n",
    "# Encrypt message x with receiver public key -> ciphertext y\n",
    "receiver_pub, receiver_priv = receiver_keypair\n",
    "n, e = receiver_pub\n",
    "y = pow(x, e, n) \n",
    "\n",
    "# Compute hash\n",
    "hash = sha256(msg)\n",
    "h = int.from_bytes(hash.digest(),'big')\n",
    "\n",
    "#Signing \n",
    "sender_pub, sender_priv = sender_keypair\n",
    "n, d = sender_priv\n",
    "sign = pow(h, d, n) #signing hash with sender private key"
   ]
  },
  {
   "cell_type": "code",
   "execution_count": 428,
   "id": "8cf18c7a",
   "metadata": {},
   "outputs": [
    {
     "name": "stdout",
     "output_type": "stream",
     "text": [
      "Signature valid? True\n"
     ]
    },
    {
     "data": {
      "text/plain": [
       "'secret message'"
      ]
     },
     "execution_count": 428,
     "metadata": {},
     "output_type": "execute_result"
    }
   ],
   "source": [
    "n, e = sender_pub\n",
    "decrypt_to_hash = pow(sign, e, n)\n",
    "\n",
    "n, d = receiver_priv\n",
    "decrypt_to_msg = pow(y, d, n)\n",
    "\n",
    "msg_bytes = decrypt_to_msg.to_bytes((decrypt_to_msg.bit_length() + 7) // 8, 'big')\n",
    "final_h = sha256(msg_bytes)\n",
    "final_h_int = int.from_bytes(final_h.digest(), 'big')  \n",
    "\n",
    "valid_signature = decrypt_to_hash == final_h_int\n",
    "print(\"Signature valid?\", valid_signature)\n",
    "\n",
    "decrypt_to_msg.to_bytes((decrypt_to_msg.bit_length() + 7) // 8, 'big').decode('utf-8')"
   ]
  },
  {
   "cell_type": "markdown",
   "id": "3ec9185a",
   "metadata": {},
   "source": [
    "# 3DES"
   ]
  },
  {
   "cell_type": "code",
   "execution_count": 429,
   "id": "c79a7acf",
   "metadata": {},
   "outputs": [
    {
     "name": "stdout",
     "output_type": "stream",
     "text": [
      "3DES key (hex): 2602f8a86bf83dfb5731324c9732a28a5875b36237a4f808\n",
      "K1: 2602f8a86bf83dfb\n",
      "K2: 5731324c9732a28a\n",
      "K3: 5875b36237a4f808\n"
     ]
    }
   ],
   "source": [
    "from Crypto.Cipher import DES3, AES\n",
    "from Crypto.Random import get_random_bytes\n",
    "\n",
    "def generate_3des_key():\n",
    "    while True:\n",
    "        key = get_random_bytes(24)\n",
    "        try:\n",
    "            key = DES3.adjust_key_parity(key)\n",
    "        except ValueError:\n",
    "            continue\n",
    "        \n",
    "        k1, k2, k3 = key[:8], key[8:16], key[16:]\n",
    "        \n",
    "        if k1 != k2 and k2 != k3 and k1 != k3:\n",
    "            return key, (k1, k2, k3)\n",
    "\n",
    "key, (k1, k2, k3) = generate_3des_key()\n",
    "\n",
    "print(\"3DES key (hex):\", key.hex())\n",
    "print(\"K1:\", k1.hex())\n",
    "print(\"K2:\", k2.hex())\n",
    "print(\"K3:\", k3.hex())\n"
   ]
  },
  {
   "cell_type": "code",
   "execution_count": 430,
   "id": "5adef34d",
   "metadata": {},
   "outputs": [],
   "source": [
    "from base64 import b64encode, b64decode\n",
    "from Crypto.Util.Padding import pad, unpad\n",
    "\n",
    "def encypt_3DES(plaintext, key):\n",
    "    cipher = DES3.new(key, DES3.MODE_CBC)\n",
    "    ct_bytes = cipher.encrypt(pad(plaintext, DES3.block_size)) \n",
    "    initial_vector = b64encode(cipher.iv).decode('utf-8') #initialization vector -> probabilistic method\n",
    "    ct = b64encode(ct_bytes).decode('utf-8') #cipher text\n",
    "    return initial_vector, ct"
   ]
  },
  {
   "cell_type": "code",
   "execution_count": 431,
   "id": "aeb07809",
   "metadata": {},
   "outputs": [],
   "source": [
    "data = 'Lorem ipsum dolor sit amet, consectetur adipiscing elit,' \\\n",
    "'sed do eiusmod tempor incididunt ut labore et dolore magna aliqua. ' \\\n",
    "'Ut enim ad minim veniam, quis nostrud exercitation ullamco laboris nisi ' \\\n",
    "'ut aliquip ex ea commodo consequat. Duis aute irure dolor in reprehenderit in voluptate ' \\\n",
    "'velit esse cillum dolore eu fugiat nulla pariatur. Excepteur sint occaecat cupidatat non proident, ' \\\n",
    "'sunt in culpa qui officia deserunt mollit anim id est laborum.'.encode('utf_8')\n",
    "iv, ct = encypt_3DES(plaintext=data, key=key)"
   ]
  },
  {
   "cell_type": "code",
   "execution_count": 432,
   "id": "6c16d6d4",
   "metadata": {},
   "outputs": [],
   "source": [
    "def decrypt_3DES(iv, ct, key):\n",
    "    try:\n",
    "        cipher = DES3.new(key, DES3.MODE_CBC, iv= b64decode(iv))\n",
    "        #pt = unpad(cipher.decrypt(ct), DES3.block_size)\n",
    "        pt = unpad(cipher.decrypt(b64decode(ct)), DES3.block_size)\n",
    "        print(\"The message was: \", pt)\n",
    "    except (ValueError, KeyError):\n",
    "        print(\"Incorrect decryption\")"
   ]
  },
  {
   "cell_type": "code",
   "execution_count": 433,
   "id": "e935c596",
   "metadata": {},
   "outputs": [
    {
     "name": "stdout",
     "output_type": "stream",
     "text": [
      "The message was:  b'Lorem ipsum dolor sit amet, consectetur adipiscing elit,sed do eiusmod tempor incididunt ut labore et dolore magna aliqua. Ut enim ad minim veniam, quis nostrud exercitation ullamco laboris nisi ut aliquip ex ea commodo consequat. Duis aute irure dolor in reprehenderit in voluptate velit esse cillum dolore eu fugiat nulla pariatur. Excepteur sint occaecat cupidatat non proident, sunt in culpa qui officia deserunt mollit anim id est laborum.'\n"
     ]
    }
   ],
   "source": [
    "decrypt_3DES(iv, ct, key)"
   ]
  },
  {
   "cell_type": "markdown",
   "id": "429a014a",
   "metadata": {},
   "source": [
    "# AES encryption"
   ]
  },
  {
   "cell_type": "code",
   "execution_count": 434,
   "id": "745d1909",
   "metadata": {},
   "outputs": [
    {
     "name": "stdout",
     "output_type": "stream",
     "text": [
      "Ciphertext (Base64): bge4CqcmH7eTk8o2EW60IiMn2v8vT7ca8PMrYdnAURE4ne9ETCyYz93D8FSGaVyHB/OXOKARQRXKrnzhzSw4g2hR6WwsdFeYRdL6SdzEaH6t2qi5Qgi+OSJL1J4kBt3XRdov+WYAvnYJrcLhFPhMFZ32pMFwg1Z5WV9U5r0aX8OAzkD85skUUKzAtDu5JZ4AI6EOZJPnqpIvA/n2xQUs51ED611EXsi3vaeqqwJhSWmNSSN80j2OkQaMvKgvmRElfOv1Y6bbg7lF/7uuqGV4NsSgOl2GkETNxDmN9SVyHng6htbpG9SoEYlipARxV4IfsObxMypQHGrJIGMnJRCLyEvDeQBhPoi+8FaEvdeN+cDRappgVFJX+Wxlu2auuqFSvUggKxdDhi+FEymWfjzfJWHFpuFdqrLDR1mOoK8SWVO8wATGWQ5rtitpvgk43Q8GzVkct4azYWXF7m/USYLXaomBrwelX0NeaD4ptNrBFhhXj2l44eOyYRUb110FbJPdySZAmeJTniJWSwxgdgIrUN+cPMAQKnSsdm5RvcVAj5Y0/C3NLVIj63gCtq5rT9+/losfpcM7JPFhYmDY\n"
     ]
    }
   ],
   "source": [
    "from Crypto.Cipher import AES\n",
    "from Crypto.Util import Counter\n",
    "\n",
    "nonce = get_random_bytes(8)    # 8-byte nonce (64 bits)\n",
    "key = get_random_bytes(32)     # AES-256 key\n",
    "\n",
    "ctr_encrypt = Counter.new(64, prefix=nonce)   # 64-bit counter, prefixed with nonce\n",
    "aes_cipher_encrypt = AES.new(key, AES.MODE_CTR, counter=ctr_encrypt)\n",
    "ciphertext = aes_cipher_encrypt.encrypt(data)\n",
    "\n",
    "encoded_ciphertext = b64encode(ciphertext).decode(\"utf-8\")\n",
    "print(\"Ciphertext (Base64):\", encoded_ciphertext)\n",
    "\n"
   ]
  },
  {
   "cell_type": "markdown",
   "id": "8454117d",
   "metadata": {},
   "source": [
    "## AES Decryption"
   ]
  },
  {
   "cell_type": "code",
   "execution_count": 435,
   "id": "88631ba6",
   "metadata": {},
   "outputs": [
    {
     "name": "stdout",
     "output_type": "stream",
     "text": [
      "Decrypted (readable): Lorem ipsum dolor sit amet, consectetur adipiscing elit,sed do eiusmod tempor incididunt ut labore et dolore magna aliqua. Ut enim ad minim veniam, quis nostrud exercitation ullamco laboris nisi ut aliquip ex ea commodo consequat. Duis aute irure dolor in reprehenderit in voluptate velit esse cillum dolore eu fugiat nulla pariatur. Excepteur sint occaecat cupidatat non proident, sunt in culpa qui officia deserunt mollit anim id est laborum.\n"
     ]
    }
   ],
   "source": [
    "\n",
    "ctr_dec = Counter.new(64, prefix=nonce)\n",
    "aes_decipher = AES.new(key, AES.MODE_CTR, counter=ctr_dec)\n",
    "decrypted_bytes = aes_decipher.decrypt(b64decode(encoded_ciphertext))\n",
    "\n",
    "decrypted_text = decrypted_bytes.decode('utf-8')\n",
    "print(\"Decrypted (readable):\", decrypted_text)\n"
   ]
  },
  {
   "cell_type": "markdown",
   "id": "e5805705",
   "metadata": {},
   "source": [
    "## Lesson 7 Python Qs"
   ]
  },
  {
   "cell_type": "markdown",
   "id": "d2a9c0ce",
   "metadata": {},
   "source": [
    "1. Why must you follow the algorithm steps exactly as prescribed? What happens if you skip some step or apply it in different order?\n",
    "- ????\n",
    "2. How did you securely obtain the keys for encryption? How would you exchange these keys to the receiver of you message? How long should the key be considered valid (expiration)? How can you estimate/decide when a key is no longer secure enough?\n",
    "- For DES, we check if k1 not equal to k2 and k3 \n",
    "- For AES, it is just a random 256 bit key\n",
    "- We would exchange using public key encryption like RSA\n",
    "- 1 message session??? like every reply?? verify with source\n",
    "- Compute moore's law yaaa research lg\n",
    "\n",
    "3. Why do we use tripple DES and not a double DES? Is double DES stronger than single DES? Would quadrouple DES be safer to use than tripple DES? Explain.\n",
    "- if double DES, the key length is only 80 bits effective. yes? because key is longer but idk about computer power HRS SEARCH\n",
    "\n",
    "4. Why is it advised to have a plain text longer than block size? You encrypted a lorem impsum, which is a clear text with a pattern. Why does your encrypted cipher text has no visible patterns in it? Compare what extra steps in AES are taken to ensure that the plain text pattern is concealed (vs. simple substitution cipher).\n",
    "\n",
    "BACA LG ANJGGG\n",
    "\n",
    "5. Can encryption of two different texts result in the same cipher text? How this can be done and what implications does it have on security?\n",
    "\n",
    "NO?? bcs of iv?? or because of ctr block???? GATAUU WOI\n",
    "\n",
    "\n"
   ]
  }
 ],
 "metadata": {
  "kernelspec": {
   "display_name": "Python 3",
   "language": "python",
   "name": "python3"
  },
  "language_info": {
   "codemirror_mode": {
    "name": "ipython",
    "version": 3
   },
   "file_extension": ".py",
   "mimetype": "text/x-python",
   "name": "python",
   "nbconvert_exporter": "python",
   "pygments_lexer": "ipython3",
   "version": "3.13.2"
  }
 },
 "nbformat": 4,
 "nbformat_minor": 5
}
