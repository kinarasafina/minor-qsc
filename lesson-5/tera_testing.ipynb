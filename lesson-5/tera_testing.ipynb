{
 "cells": [
  {
   "cell_type": "code",
   "execution_count": 246,
   "id": "fbd55df9",
   "metadata": {},
   "outputs": [],
   "source": [
    "import numpy as np\n",
    "from Crypto.Util.number import getPrime, inverse\n",
    "from hashlib import sha256\n",
    "from random import randint\n",
    "from Crypto.PublicKey import RSA\n",
    "import math as m"
   ]
  },
  {
   "cell_type": "markdown",
   "id": "cb185c06",
   "metadata": {},
   "source": [
    "# Generate a keypair for both the sender and receiver"
   ]
  },
  {
   "cell_type": "code",
   "execution_count": 247,
   "id": "285be773",
   "metadata": {},
   "outputs": [],
   "source": [
    "# sender_keypair = RSA.generate(2048) #recommended 2048 key length\n",
    "# receiver_keypair = RSA.generate(2048)\n",
    "\n",
    "# pwd = b'secure_password'\n",
    "# with open(\"sender_privkey.pem\", \"wb\") as f:\n",
    "#     data = sender_keypair.export_key(passphrase=pwd,\n",
    "#                                 pkcs=8,\n",
    "#                                 protection='PBKDF2WithHMAC-SHA512AndAES256-CBC',\n",
    "#                                 prot_params={'iteration_count':131072})\n",
    "#     f.write(data)"
   ]
  },
  {
   "cell_type": "code",
   "execution_count": 248,
   "id": "6fb34276",
   "metadata": {},
   "outputs": [],
   "source": [
    "# pwd = b'secure_password_receiver'\n",
    "# with open(\"receiver_privkey.pem\", \"wb\") as f:\n",
    "#     data = receiver_keypair.export_key(passphrase=pwd,\n",
    "#                                 pkcs=8,\n",
    "#                                 protection='PBKDF2WithHMAC-SHA512AndAES256-CBC',\n",
    "#                                 prot_params={'iteration_count':131072})\n",
    "#     f.write(data)"
   ]
  },
  {
   "cell_type": "code",
   "execution_count": 249,
   "id": "31ae33d2",
   "metadata": {},
   "outputs": [],
   "source": [
    "# with open(\"receiver_pubkey.pem\", \"wb\") as f:\n",
    "#     data = receiver_keypair.public_key().export_key()\n",
    "#     f.write(data)"
   ]
  },
  {
   "cell_type": "code",
   "execution_count": 250,
   "id": "9d227448",
   "metadata": {},
   "outputs": [],
   "source": [
    "# with open(\"sender_pubkey.pem\", \"wb\") as f:\n",
    "#     data = sender_keypair.public_key().export_key()\n",
    "#     f.write(data)"
   ]
  },
  {
   "cell_type": "markdown",
   "id": "91a50719",
   "metadata": {},
   "source": [
    "# Message (m) and Encryption -> M"
   ]
  },
  {
   "cell_type": "code",
   "execution_count": 251,
   "id": "e9351b9d",
   "metadata": {},
   "outputs": [
    {
     "data": {
      "text/plain": [
       "b'secret message'"
      ]
     },
     "execution_count": 251,
     "metadata": {},
     "output_type": "execute_result"
    }
   ],
   "source": [
    "msg = 'secret message'.encode('utf-8')\n",
    "msg"
   ]
  },
  {
   "cell_type": "markdown",
   "id": "fcab1f93",
   "metadata": {},
   "source": [
    "# Key generation"
   ]
  },
  {
   "cell_type": "code",
   "execution_count": 252,
   "id": "e4123f30",
   "metadata": {},
   "outputs": [],
   "source": [
    "def generate_keypair():\n",
    "    p = getPrime(1024)\n",
    "    q = getPrime(1024)\n",
    "    n = p * q\n",
    "    phi_n = (p - 1) * (q - 1)\n",
    "\n",
    "    while True:\n",
    "        e = randint(2, phi_n - 1)\n",
    "        if m.gcd(e, phi_n) == 1:\n",
    "            break\n",
    "    \n",
    "    d = inverse(e, phi_n)\n",
    "\n",
    "    public_key = (n, e)\n",
    "    private_key = (n, d)\n",
    "\n",
    "    return public_key, private_key"
   ]
  },
  {
   "cell_type": "code",
   "execution_count": 253,
   "id": "a6db0b6a",
   "metadata": {},
   "outputs": [
    {
     "name": "stdout",
     "output_type": "stream",
     "text": [
      "((31095723290840840374048580348366846963100248920115384244364807885837456321768444392091534373326861214561127543061280121255126431120784979912949903773959233358792739512152324235006731030119229928360252736987219511810111885432656920045133407608156128926113500285146458722570436633568190432899044521662709083068413975491349923993867003709642515077929403961955818336422030707195811394976449403022497192274476173831527617584859820792018317615785031026199894303301688203999471817920243689894563145588779661491788391444448184846020766797696142681438885914808606737748424701279258966151306152199184816641327081188135280577393, 3600241420679714126188645504835319519084273597601222931976716203319753239104115142777629476220021286197199765830320910334896249094541314454529456299060026313499518532846330165580386183384826275709580940974598525522590811725850994351596813927742484321336107205817367728982371917809931421754289460144830185310848917902506083802173878721088822230077406385804410172618456694470878858156159536006051825938539860761869989559003459820697939170329487028091449571005118438554056402559312329183812285613246702717744284999290737106510610080903521268071595826879719163274659283161713515149353134887990803049400904987808703147503), (31095723290840840374048580348366846963100248920115384244364807885837456321768444392091534373326861214561127543061280121255126431120784979912949903773959233358792739512152324235006731030119229928360252736987219511810111885432656920045133407608156128926113500285146458722570436633568190432899044521662709083068413975491349923993867003709642515077929403961955818336422030707195811394976449403022497192274476173831527617584859820792018317615785031026199894303301688203999471817920243689894563145588779661491788391444448184846020766797696142681438885914808606737748424701279258966151306152199184816641327081188135280577393, 16249284238408569875413580957168414222543917618489769359168501339921873309243006328708108129325398620421449929100504531371308573643068480422903229717576626116334965900630865879880277536675489325458788352002664170983654405659215657770402176060651893981031183061855658713420542733800360231524132930798024893934222003316047705357759634189668453952146387792593696083590035602061672022073857446886587081278039470806051378690409636160555575819452859611715942066029357812051521489559304503606363182530442908164592697127911652765700209437987822214614259483262182265021367906388028981770528584088544665858403815305938387581863)) \n",
      " ((21435179273421809312505602661703139414204246383046644618294002499309172281400858166004181873388994619448151148610047758008950439027207570826463241163882627186502420637738371704483742977407878547697806191232931367959135437103464913543041417604274475183788083092860485217991128014990265952603181065515206334378752150468960716393521007435411011206841439882385998675069537014622449451483921801403130852157676906381296134848152189903141711822817079325495850706265667193894376757359190920549013820400807295968975570210481858215732495835997227018330313943629112144087178791836495192636362912183074917147762923197448500426629, 708184824539643477280495717897412060721171106201302434999898614768761320094469175862586769919494988088612769428774967567692037920582340085697742660235016676058995045031534842097514329373352115572682659776980374577770075161374465411561257333162458401040428439663896388338790142480362833281776911232817383458596726572103434659974779379865866407861325362672010387020548989434451975797405301205579202334065028806061767978110219445391542392272803051074985551017199223330206696135463510077854702380195408354524293156509050212029708061254635971071318677775122628104635566609293057180944149069627968388050082699614178117531), (21435179273421809312505602661703139414204246383046644618294002499309172281400858166004181873388994619448151148610047758008950439027207570826463241163882627186502420637738371704483742977407878547697806191232931367959135437103464913543041417604274475183788083092860485217991128014990265952603181065515206334378752150468960716393521007435411011206841439882385998675069537014622449451483921801403130852157676906381296134848152189903141711822817079325495850706265667193894376757359190920549013820400807295968975570210481858215732495835997227018330313943629112144087178791836495192636362912183074917147762923197448500426629, 10224508624922087685140514288295607786565221291603110099942804084376158463852590755968778022563144638170680094522739181271388514849013718225616234697170629644656676991851395618212572148322488311732160735885750932136360634127104809695762298459334961934384853050432674228662743424729140733532773018925336845884042859430390379243139751718087115790247863398332421789965604844367381429919774409138178939396144332771439280955951254067712198991096036183778394979224036822429441086169692561032495592532084222933230541495551885447768889325832482015813819407604468606810027576243519710207009096847222026369901444411205233628691))\n"
     ]
    }
   ],
   "source": [
    "sender_keypair = generate_keypair()\n",
    "receiver_keypair = generate_keypair()\n",
    "print(sender_keypair, '\\n', receiver_keypair)"
   ]
  },
  {
   "cell_type": "markdown",
   "id": "1479ca6a",
   "metadata": {},
   "source": [
    "x -> encoded plaintext\n",
    "y -> encrypted plaintext\n",
    "h -> hashed x"
   ]
  },
  {
   "cell_type": "markdown",
   "id": "1ab8598c",
   "metadata": {},
   "source": [
    "# Encoding Message"
   ]
  },
  {
   "cell_type": "code",
   "execution_count": 254,
   "id": "eae791af",
   "metadata": {},
   "outputs": [
    {
     "data": {
      "text/plain": [
       "2340509926146499719798124187838309"
      ]
     },
     "execution_count": 254,
     "metadata": {},
     "output_type": "execute_result"
    }
   ],
   "source": [
    "msg = 'secret message'.encode('utf-8')\n",
    "x = int.from_bytes(msg, 'big')\n",
    "x"
   ]
  },
  {
   "cell_type": "code",
   "execution_count": 255,
   "id": "f1543b15",
   "metadata": {},
   "outputs": [
    {
     "data": {
      "text/plain": [
       "521516269522829685450100"
      ]
     },
     "execution_count": 255,
     "metadata": {},
     "output_type": "execute_result"
    }
   ],
   "source": [
    "hacker_msg = 'not secret'.encode('utf-8')\n",
    "x_hack = int.from_bytes(hacker_msg, 'big')\n",
    "x_hack"
   ]
  },
  {
   "cell_type": "markdown",
   "id": "85eb427d",
   "metadata": {},
   "source": [
    "# Encryption"
   ]
  },
  {
   "cell_type": "code",
   "execution_count": 256,
   "id": "a93fa938",
   "metadata": {},
   "outputs": [
    {
     "data": {
      "text/plain": [
       "5088058972943892628749614998296233532632680103800239141074178988613446380298559066302521006841755600585429898455582671829233194660814057226865639397453203414208337565428027359648216756254337926579158863598355063358287008751677513673846753144807167770467288845560628613537618707686182966987276009824819403508877343466505894427409730571082637773299703398809847558411217916218089021012224153469418859461492741782806800626101397798967401048384909882187688177506493277083560215258337569553673010558818197675008246172961929536965573518515684131178006335249602079103165456663175597244843302834741584990956624988274363285686"
      ]
     },
     "execution_count": 256,
     "metadata": {},
     "output_type": "execute_result"
    }
   ],
   "source": [
    "receiver_pub, receiver_priv = receiver_keypair\n",
    "n, e = receiver_pub\n",
    "y = pow(x, e, n)\n",
    "y"
   ]
  },
  {
   "cell_type": "code",
   "execution_count": 257,
   "id": "2e06bbef",
   "metadata": {},
   "outputs": [
    {
     "data": {
      "text/plain": [
       "21357766653201511729131705772081165907486154528470305333208380483191592583052673971570818664388160141120670580704916662969957534800368729197776897840701740800317744482304622958125095208887074393353367874446444423395852571355982382775589224345976936719066703664430223387788359571810052106881177165537067666670724524945731118640693471998025703008206035915316754666083740548195482916406909544802177973516501712270662693384912834549898597115359157733540943125776336310708279140289006057523555174837096746409647122664165044548383329819601247003256218311803444920091007834153005063125025828012304870189155454759593934561812"
      ]
     },
     "execution_count": 257,
     "metadata": {},
     "output_type": "execute_result"
    }
   ],
   "source": [
    "y_hack = pow(x_hack, e, n)\n",
    "y_hack"
   ]
  },
  {
   "cell_type": "markdown",
   "id": "5c9caf15",
   "metadata": {},
   "source": [
    "# Hash"
   ]
  },
  {
   "cell_type": "code",
   "execution_count": 258,
   "id": "25ea622e",
   "metadata": {},
   "outputs": [
    {
     "data": {
      "text/plain": [
       "84602538464720629197225614477881030577157746024133459066183585119910221554977"
      ]
     },
     "execution_count": 258,
     "metadata": {},
     "output_type": "execute_result"
    }
   ],
   "source": [
    "hash = sha256(msg)\n",
    "h = int.from_bytes(hash.digest(),'big')\n",
    "h"
   ]
  },
  {
   "cell_type": "markdown",
   "id": "12e30ce7",
   "metadata": {},
   "source": [
    "# Signing"
   ]
  },
  {
   "cell_type": "code",
   "execution_count": 259,
   "id": "cd779165",
   "metadata": {},
   "outputs": [
    {
     "data": {
      "text/plain": [
       "5881510139291921089108565814727078934368849797613795399315423341039620776655234377737071046236398955309311730186584780635492362342052531210106961359184748226484851393635084462114111085080496545785794350512956833478054779944515285319545989573185319664696088144885322361173039794928462943851685843014248824182423131993042085879069557195978673457298543864297106646188659958093728988136730533825222234167330472844766822458815312607522240284674333326008180437198568369461421824443869245733419864349090311462415197106808526154387514942808766797316506660967853573548442974405401130455399925900067008474285397325736407068221"
      ]
     },
     "execution_count": 259,
     "metadata": {},
     "output_type": "execute_result"
    }
   ],
   "source": [
    "sender_pub, sender_priv = sender_keypair\n",
    "n, d = sender_priv\n",
    "sign = pow(h, d, n)\n",
    "sign "
   ]
  },
  {
   "cell_type": "markdown",
   "id": "fde16986",
   "metadata": {},
   "source": [
    "# Decryption of hash (sign) with Sender pub key"
   ]
  },
  {
   "cell_type": "code",
   "execution_count": 260,
   "id": "7d9ab67c",
   "metadata": {},
   "outputs": [
    {
     "data": {
      "text/plain": [
       "84602538464720629197225614477881030577157746024133459066183585119910221554977"
      ]
     },
     "execution_count": 260,
     "metadata": {},
     "output_type": "execute_result"
    }
   ],
   "source": [
    "n, e = sender_pub\n",
    "decrypt_to_hash = pow(sign, e, n)\n",
    "decrypt_to_hash"
   ]
  },
  {
   "cell_type": "markdown",
   "id": "6341780b",
   "metadata": {},
   "source": [
    "# Decryption of message"
   ]
  },
  {
   "cell_type": "code",
   "execution_count": 261,
   "id": "17d230f2",
   "metadata": {},
   "outputs": [
    {
     "data": {
      "text/plain": [
       "2340509926146499719798124187838309"
      ]
     },
     "execution_count": 261,
     "metadata": {},
     "output_type": "execute_result"
    }
   ],
   "source": [
    "n, d = receiver_priv\n",
    "decrypt_to_msg = pow(y, d, n)\n",
    "decrypt_to_msg"
   ]
  },
  {
   "cell_type": "markdown",
   "id": "7ff71b13",
   "metadata": {},
   "source": [
    "# Hash verification "
   ]
  },
  {
   "cell_type": "code",
   "execution_count": 262,
   "id": "6e2c6807",
   "metadata": {},
   "outputs": [
    {
     "name": "stdout",
     "output_type": "stream",
     "text": [
      "True\n"
     ]
    }
   ],
   "source": [
    "msg_bytes = decrypt_to_msg.to_bytes((decrypt_to_msg.bit_length() + 7) // 8, 'big')\n",
    "final_h = sha256(msg_bytes)\n",
    "print(int.from_bytes(final_h.digest()) == decrypt_to_hash)\n",
    "#print(final_h.digest() == decrypt_to_hash)"
   ]
  },
  {
   "cell_type": "markdown",
   "id": "0b4870e1",
   "metadata": {},
   "source": [
    "# Get plaintext"
   ]
  },
  {
   "cell_type": "code",
   "execution_count": 263,
   "id": "ad273fc4",
   "metadata": {},
   "outputs": [
    {
     "data": {
      "text/plain": [
       "'secret message'"
      ]
     },
     "execution_count": 263,
     "metadata": {},
     "output_type": "execute_result"
    }
   ],
   "source": [
    "decrypt_to_msg.to_bytes((decrypt_to_msg.bit_length() + 7) // 8, 'big').decode('utf-8')"
   ]
  },
  {
   "cell_type": "code",
   "execution_count": 264,
   "id": "ecb86d77",
   "metadata": {},
   "outputs": [
    {
     "name": "stdout",
     "output_type": "stream",
     "text": [
      "((28486450626734503217448576473681531240199817672921838533960382402634245117395135628982511120335168143867109975210286658291193144759369736753757899388474857448392360150037153669886384521740728163890995454298968497788846648393263330684540645871251944562733969953569095171314621318881866274553413988380946646860670611490065833271017993746875251576960135896726581131782567424465104321952869901243273159005050967187580487565065209836921481778714326578051702661623284654704332571119293898446056135205154238830220747748110699804992915202038932979992998568231727847679880624892467678766516430253760363714099001461285481479107, 9400770064662337294875771962617734984539105785285962524066133504546058988877656351618108850589616123134651181652091708124907887782761514737530785369655969483883726618657340777820506594144784009991919544197241130296989768844236977861139546526642241861863101627466620678418859703868069671579160347326302086896623468383111135028726614137614532338925385488418487274477680687625881486015729185821382964203534772700627431816402961937502704647696672941345458362173032050201096713098592884891156787642769651524040719230443922321068331309627199214769138707216779853319865652993126083382026524232789087835178243250703435722383), (28486450626734503217448576473681531240199817672921838533960382402634245117395135628982511120335168143867109975210286658291193144759369736753757899388474857448392360150037153669886384521740728163890995454298968497788846648393263330684540645871251944562733969953569095171314621318881866274553413988380946646860670611490065833271017993746875251576960135896726581131782567424465104321952869901243273159005050967187580487565065209836921481778714326578051702661623284654704332571119293898446056135205154238830220747748110699804992915202038932979992998568231727847679880624892467678766516430253760363714099001461285481479107, 20543891470384133266803734928366143544452684461877275889168173260698893758574222359936391185893619432551777913382906777706756409623890711187654850775156482220478823165940191579428368430902821808097349627280244531187407126197759244727465083678424298916439876703106895243648446594134468863207565205373659264006491894668770015931088245385944640766708689844097406334195550770545192608787404565076811252312500177656221530003562471687873641479322060613448723861731440063125095533768689472466447624831293594153465318299705436299476842901076045638996521816393411511751904093877674012075570856999238770343427361058048912452847)) \n",
      " ((27218540320235856898522338295104499588047592257589641873879748348830313180936589626365657979369556148674127201608306574848441686509974153520446568994067222611406714481328516202520060806953334733631466053926940458582756137235521328754424723610605037375050312062038698540103275070632505982729977142593641304947273176590140363563944230893325693766704013519749700555650692830523592319579068584569982710052141699456265986823758605383657266312976752935341739991572571032131397073419891157814074018060258279576821660972522073756269477077590724121295604287141638402323237128855397483587549691192188551709354642257745532198869, 17647713923353516066720338328657242196629451422765147664981632500144930795312096464762585928664723055400676766587306266057431370269053591875151116404981723312196797659249235327788438143621211582026555005001494405138665832663091324251344097121327266595398379390957832307693457580693893448745030697713183055101452934768509563188039710503807577125522795854659711071640678356932422010264812195379174703838173870618678274385303107575731209091829766317382898839237330044372954562077336353540142979377079521985719659406360052518526599227170395432161570182507189273853636323967454978462009663580610683450833679908998890308637), (27218540320235856898522338295104499588047592257589641873879748348830313180936589626365657979369556148674127201608306574848441686509974153520446568994067222611406714481328516202520060806953334733631466053926940458582756137235521328754424723610605037375050312062038698540103275070632505982729977142593641304947273176590140363563944230893325693766704013519749700555650692830523592319579068584569982710052141699456265986823758605383657266312976752935341739991572571032131397073419891157814074018060258279576821660972522073756269477077590724121295604287141638402323237128855397483587549691192188551709354642257745532198869, 25035033730994658425770734459172934424566677784321192615976247936813779104609979908044510122858396947312735078443626826253383910647992004209860957704532085791495086030226526560294395575225270075708946422373753299024057363002192562767126297636605952081211290589947104708810900024554862304449062228606483394264372240557425604550062551425281184917731014262220667664882932125437917821018751046200996564791477173660195992920098468018454814870701329128333071465389782696261079368515510298881200718780024479099703995885093006691943206244487794156679659464491297298790854886226577900647227997183398930637632182357690163849269))\n"
     ]
    }
   ],
   "source": [
    "def generate_keypair():\n",
    "    p = getPrime(1024)\n",
    "    q = getPrime(1024)\n",
    "    n = p * q\n",
    "    phi_n = (p - 1) * (q - 1)\n",
    "\n",
    "    while True:\n",
    "        e = randint(2, phi_n - 1)\n",
    "        if m.gcd(e, phi_n) == 1:\n",
    "            break\n",
    "    \n",
    "    d = inverse(e, phi_n)\n",
    "\n",
    "    public_key = (n, e)\n",
    "    private_key = (n, d)\n",
    "\n",
    "    return public_key, private_key\n",
    "\n",
    "# Generating keypairs\n",
    "sender_keypair = generate_keypair() #generate sender keypair\n",
    "receiver_keypair = generate_keypair() #generate receiver keypair\n",
    "print(sender_keypair, '\\n', receiver_keypair)\n",
    "\n",
    "#Define message x\n",
    "msg = 'secret message'.encode('utf-8') #secret message\n",
    "x = int.from_bytes(msg, 'big') #turn bytes to integer\n",
    "\n",
    "# Encrypt message x with receiver public key -> ciphertext y\n",
    "receiver_pub, receiver_priv = receiver_keypair\n",
    "n, e = receiver_pub\n",
    "y = pow(x, e, n) \n",
    "\n",
    "# Compute hash\n",
    "hash = sha256(msg)\n",
    "h = int.from_bytes(hash.digest(),'big')\n",
    "\n",
    "#Signing \n",
    "sender_pub, sender_priv = sender_keypair\n",
    "n, d = sender_priv\n",
    "sign = pow(h, d, n) #signing hash with sender private key"
   ]
  },
  {
   "cell_type": "code",
   "execution_count": 265,
   "id": "8cf18c7a",
   "metadata": {},
   "outputs": [
    {
     "name": "stdout",
     "output_type": "stream",
     "text": [
      "Signature valid? True\n"
     ]
    },
    {
     "data": {
      "text/plain": [
       "'secret message'"
      ]
     },
     "execution_count": 265,
     "metadata": {},
     "output_type": "execute_result"
    }
   ],
   "source": [
    "n, e = sender_pub\n",
    "decrypt_to_hash = pow(sign, e, n)\n",
    "\n",
    "n, d = receiver_priv\n",
    "decrypt_to_msg = pow(y, d, n)\n",
    "\n",
    "msg_bytes = decrypt_to_msg.to_bytes((decrypt_to_msg.bit_length() + 7) // 8, 'big')\n",
    "final_h = sha256(msg_bytes)\n",
    "final_h_int = int.from_bytes(final_h.digest(), 'big')  \n",
    "\n",
    "valid_signature = decrypt_to_hash == final_h_int\n",
    "print(\"Signature valid?\", valid_signature)\n",
    "\n",
    "decrypt_to_msg.to_bytes((decrypt_to_msg.bit_length() + 7) // 8, 'big').decode('utf-8')"
   ]
  },
  {
   "cell_type": "code",
   "execution_count": 266,
   "id": "c79a7acf",
   "metadata": {},
   "outputs": [
    {
     "name": "stdout",
     "output_type": "stream",
     "text": [
      "3DES key (hex): b97557d0abc483109d7c9de6e9a2ad0d627acbc879fbefc2\n",
      "K1: b97557d0abc48310\n",
      "K2: 9d7c9de6e9a2ad0d\n",
      "K3: 627acbc879fbefc2\n"
     ]
    }
   ],
   "source": [
    "from Crypto.Cipher import DES3, AES\n",
    "from Crypto.Random import get_random_bytes\n",
    "\n",
    "def generate_3des_key():\n",
    "    while True:\n",
    "        key = get_random_bytes(24)\n",
    "        try:\n",
    "            key = DES3.adjust_key_parity(key)\n",
    "        except ValueError:\n",
    "            continue\n",
    "        \n",
    "        k1, k2, k3 = key[:8], key[8:16], key[16:]\n",
    "        \n",
    "        if k1 != k2 and k2 != k3 and k1 != k3:\n",
    "            return key, (k1, k2, k3)\n",
    "\n",
    "key, (k1, k2, k3) = generate_3des_key()\n",
    "\n",
    "print(\"3DES key (hex):\", key.hex())\n",
    "print(\"K1:\", k1.hex())\n",
    "print(\"K2:\", k2.hex())\n",
    "print(\"K3:\", k3.hex())\n"
   ]
  },
  {
   "cell_type": "code",
   "execution_count": 267,
   "id": "5adef34d",
   "metadata": {},
   "outputs": [],
   "source": [
    "from base64 import b64encode, b64decode\n",
    "from Crypto.Util.Padding import pad, unpad\n",
    "\n",
    "def encypt_3DES(plaintext, key):\n",
    "    cipher = DES3.new(key, DES3.MODE_CBC)\n",
    "    ct_bytes = cipher.encrypt(pad(plaintext, DES3.block_size)) \n",
    "    initial_vector = b64encode(cipher.iv).decode('utf-8') #initialization vector -> probabilistic method\n",
    "    ct = b64encode(ct_bytes).decode('utf-8') #cipher text\n",
    "    return initial_vector, ct"
   ]
  },
  {
   "cell_type": "code",
   "execution_count": 268,
   "id": "aeb07809",
   "metadata": {},
   "outputs": [],
   "source": [
    "data = 'Lorem ipsum dolor sit amet, consectetur adipiscing elit,' \\\n",
    "'sed do eiusmod tempor incididunt ut labore et dolore magna aliqua. ' \\\n",
    "'Ut enim ad minim veniam, quis nostrud exercitation ullamco laboris nisi ' \\\n",
    "'ut aliquip ex ea commodo consequat. Duis aute irure dolor in reprehenderit in voluptate ' \\\n",
    "'velit esse cillum dolore eu fugiat nulla pariatur. Excepteur sint occaecat cupidatat non proident, ' \\\n",
    "'sunt in culpa qui officia deserunt mollit anim id est laborum.'.encode('utf_8')\n",
    "iv, ct = encypt_3DES(plaintext=data, key=key)"
   ]
  },
  {
   "cell_type": "code",
   "execution_count": 269,
   "id": "6c16d6d4",
   "metadata": {},
   "outputs": [],
   "source": [
    "def decrypt_3DES(iv, ct, key):\n",
    "    try:\n",
    "        cipher = DES3.new(key, DES3.MODE_CBC, iv= b64decode(iv))\n",
    "        #pt = unpad(cipher.decrypt(ct), DES3.block_size)\n",
    "        pt = unpad(cipher.decrypt(b64decode(ct)), DES3.block_size)\n",
    "        print(\"The message was: \", pt)\n",
    "    except (ValueError, KeyError):\n",
    "        print(\"Incorrect decryption\")"
   ]
  },
  {
   "cell_type": "code",
   "execution_count": 270,
   "id": "e935c596",
   "metadata": {},
   "outputs": [
    {
     "name": "stdout",
     "output_type": "stream",
     "text": [
      "The message was:  b'Lorem ipsum dolor sit amet, consectetur adipiscing elit,sed do eiusmod tempor incididunt ut labore et dolore magna aliqua. Ut enim ad minim veniam, quis nostrud exercitation ullamco laboris nisi ut aliquip ex ea commodo consequat. Duis aute irure dolor in reprehenderit in voluptate velit esse cillum dolore eu fugiat nulla pariatur. Excepteur sint occaecat cupidatat non proident, sunt in culpa qui officia deserunt mollit anim id est laborum.'\n"
     ]
    }
   ],
   "source": [
    "decrypt_3DES(iv, ct, key)"
   ]
  },
  {
   "cell_type": "code",
   "execution_count": null,
   "id": "745d1909",
   "metadata": {},
   "outputs": [],
   "source": []
  },
  {
   "cell_type": "code",
   "execution_count": null,
   "id": "88631ba6",
   "metadata": {},
   "outputs": [],
   "source": []
  }
 ],
 "metadata": {
  "kernelspec": {
   "display_name": "Python 3",
   "language": "python",
   "name": "python3"
  },
  "language_info": {
   "codemirror_mode": {
    "name": "ipython",
    "version": 3
   },
   "file_extension": ".py",
   "mimetype": "text/x-python",
   "name": "python",
   "nbconvert_exporter": "python",
   "pygments_lexer": "ipython3",
   "version": "3.13.2"
  }
 },
 "nbformat": 4,
 "nbformat_minor": 5
}
