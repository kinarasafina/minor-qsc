{
 "cells": [
  {
   "cell_type": "code",
   "execution_count": 340,
   "id": "5614830c",
   "metadata": {},
   "outputs": [],
   "source": [
    "import numpy as np\n",
    "from Crypto.Util.number import getPrime, inverse\n",
    "from hashlib import sha256\n",
    "from random import randint\n",
    "from Crypto.PublicKey import RSA\n",
    "import math"
   ]
  },
  {
   "cell_type": "markdown",
   "id": "aae60377",
   "metadata": {},
   "source": [
    "# Key Generation\n",
    "1. Choose two large primes $p$ and $q$\n",
    "2. Compute the modulus $n = p \\cdot q$\n",
    "3. Compute the number of integers that are coprime to $n$ using Euler's phi (totient) function: $\\phi(n) = (p-1)(q-1)$\n",
    "4. Select public exponent $e \\in \\{1,2,...,\\phi(n) -1\\}$ such that\n",
    "$$gcd(e,\\phi(n)) = 1$$\n",
    "5. Compute private key $d$ such that\n",
    "$$d \\cdot e \\equiv \\mod \\phi(n)$$"
   ]
  },
  {
   "cell_type": "code",
   "execution_count": 341,
   "id": "0e38aef4",
   "metadata": {},
   "outputs": [],
   "source": [
    "def generate_keypair(bits: int = 2048): \n",
    "    \"\"\"\n",
    "    Generate an RSA key pair consisting of a public key and a private key.\n",
    "    \"\"\"\n",
    "    p = getPrime(bits // 2)\n",
    "    q = getPrime(bits // 2)\n",
    "    while p == q: #ensures p != q\n",
    "        p = getPrime(bits // 2)\n",
    "    n = p * q #calculate modulus\n",
    "    phi_n = (p - 1) * (q - 1) #Euler's phi function\n",
    "\n",
    "    e = 65537 #standard value for public exponent e\n",
    "    if math.gcd(e, phi_n) != 1: \n",
    "        return generate_keypair(bits)\n",
    "\n",
    "    d = inverse(e, phi_n) #private exponent d\n",
    "\n",
    "    public_key = (n, e)\n",
    "    private_key = (n, d)\n",
    "\n",
    "    return public_key, private_key"
   ]
  },
  {
   "cell_type": "markdown",
   "id": "a7d96725",
   "metadata": {},
   "source": [
    "# Key terms\n",
    "1. msg := plaintext message encoded with utf-8\n",
    "2. x := msg converted to bytes\n",
    "3. y := encrypted message x"
   ]
  },
  {
   "cell_type": "markdown",
   "id": "5c0738d6",
   "metadata": {},
   "source": [
    "# Encryption \n",
    "$$y = e_{k_{receiver,pub}}(x) \\equiv x^{e} \\mod n$$"
   ]
  },
  {
   "cell_type": "code",
   "execution_count": 342,
   "id": "82416193",
   "metadata": {},
   "outputs": [],
   "source": [
    "def encrypt_message(message: bytes, public_key) -> int: \n",
    "    \"\"\"\n",
    "    Encrypt encoded message x using receiver's public key.\n",
    "\n",
    "    Output: ciphertext y (int) \n",
    "    \"\"\"\n",
    "    n, e = public_key\n",
    "    x = int.from_bytes(message, 'big')\n",
    "    y = pow(x, e, n)\n",
    "    \n",
    "    return y"
   ]
  },
  {
   "cell_type": "markdown",
   "id": "110d602a",
   "metadata": {},
   "source": [
    "# Signature"
   ]
  },
  {
   "cell_type": "code",
   "execution_count": 343,
   "id": "da72a4a0",
   "metadata": {},
   "outputs": [],
   "source": [
    "def signature(message: bytes, private_key) -> int: \n",
    "    \"\"\"\n",
    "    Sign the hash digest of the encrypted message with the sender's private key\n",
    "    \"\"\"\n",
    "    n, d = private_key\n",
    "    h = sha256(message).digest() #get hash digest\n",
    "    h_int = int.from_bytes(h, 'big')\n",
    "    sign = pow(h_int, d, n)\n",
    "\n",
    "    return sign"
   ]
  },
  {
   "cell_type": "markdown",
   "id": "9b59aa97",
   "metadata": {},
   "source": [
    "### Here the sender sends both the signature $sign$ and the ciphertext $y$"
   ]
  },
  {
   "cell_type": "markdown",
   "id": "f9e8d386",
   "metadata": {},
   "source": [
    "# Decryption\n",
    "$$x = d_{k_{receiver,priv}}(y) \\equiv y^{d} \\mod n$$"
   ]
  },
  {
   "cell_type": "code",
   "execution_count": 344,
   "id": "41947808",
   "metadata": {},
   "outputs": [],
   "source": [
    "def decrypt_message(ciphertext_y: int, private_key) -> str: \n",
    "    \"\"\"\n",
    "    Decrypt ciphertext y with receiver's private key\n",
    "\n",
    "    Output: plaintext bytes and plaintext\n",
    "    \"\"\"\n",
    "    n, d = private_key\n",
    "    x = pow(ciphertext_y,d, n)\n",
    "    plaintext_bytes = x.to_bytes((x.bit_length() + 7) // 8, 'big')\n",
    "    plaintext = int.from_bytes(plaintext_bytes)\n",
    "\n",
    "    return plaintext_bytes, plaintext"
   ]
  },
  {
   "cell_type": "markdown",
   "id": "ed069780",
   "metadata": {},
   "source": [
    "# Verification"
   ]
  },
  {
   "cell_type": "code",
   "execution_count": 345,
   "id": "ffdd17c9",
   "metadata": {},
   "outputs": [],
   "source": [
    "def verification(signature: int, public_key, message: bytes) -> bool:\n",
    "    \"\"\"\n",
    "    Verifies the authenticity of the sender of the message. \n",
    "    Uses the sender's public key.\n",
    "    \n",
    "    Output: True or False (boolean)\n",
    "    \"\"\"\n",
    "    n, e = public_key\n",
    "    decrypt_to_hash = pow(signature, e, n)\n",
    "    h = sha256(message).digest()\n",
    "    h_int = int.from_bytes(h, 'big')\n",
    "    \n",
    "    return h_int == decrypt_to_hash"
   ]
  },
  {
   "cell_type": "markdown",
   "id": "02eed147",
   "metadata": {},
   "source": [
    "# Simulation Functions"
   ]
  },
  {
   "cell_type": "code",
   "execution_count": 346,
   "id": "9c455a31",
   "metadata": {},
   "outputs": [],
   "source": [
    "def simulation_sender(message, receiver_pubkey: tuple, \n",
    "                      sender_privkey: tuple, sender_pubkey: tuple):\n",
    "    #get ciphertext\n",
    "    y = encrypt_message(message, receiver_pubkey)\n",
    "\n",
    "    #get signature\n",
    "    sign = signature(message, sender_privkey)\n",
    "\n",
    "    #sender sends ciphertext (y) and signature (sign)\n",
    "    return y, sign, sender_pubkey\n",
    "\n",
    "def simulation_receiver(sent_items, receiver_privkey: tuple):\n",
    "    ciphertext, sign, sender_pubkey = sent_items\n",
    "\n",
    "    #decryption\n",
    "    plaintext_bytes, plaintext = decrypt_message(ciphertext, receiver_privkey)\n",
    "\n",
    "    #verification\n",
    "    verify = verification(sign, sender_pubkey, plaintext_bytes)\n",
    "\n",
    "    return plaintext, verify\n",
    "\n",
    "def simulation_eavesdropper(intercept_items, tampering_type=\"flip_bits\", substitute_message=None, receiver_pubkey=None):\n",
    "    \"\"\"\n",
    "    Example eavesdropper that tampers with ciphertext\n",
    "\n",
    "    Types of tampering:\n",
    "        - \"flip_bits_all\": flip all bits of ciphertext bytes \n",
    "        - \"flip_bits_random\" : flips bits in a random position\n",
    "        - \"substitution\": Replace ciphertext with encryption of a different message\n",
    "\n",
    "    \"\"\"\n",
    "    ciphertext, signature, sender_pubkey = intercept_items\n",
    "\n",
    "    if tampering_type == 'flip_bits_all':\n",
    "        tampered_ciphertext = ciphertext ^ 1 #XOR 1 to flip bits\n",
    "    \n",
    "    if tampering_type == 'flip_bits_random':\n",
    "        n = ciphertext.bit_length() #bit length\n",
    "        if n == 0: #edge case: if ciphertext = 0, flip to 1\n",
    "            tampered_ciphertext = 1\n",
    "        else:\n",
    "            k = randint(0, n - 1) #random position to flip bit\n",
    "            #(n - 1) because the tampered integer will become larger at exactly n\n",
    "            \n",
    "            tampered_ciphertext = ciphertext ^ (1 << k) \n",
    "            #XOR ciphertext to flip the bits at position k (from the right)\n",
    "\n",
    "    if tampering_type == 'substitution': #attacker chooses message\n",
    "        if receiver_pubkey == None:\n",
    "            raise ValueError(\"Receiver public key needed for substitution\") \n",
    "        tampered_ciphertext = encrypt_message(substitute_message, receiver_pubkey)\n",
    "        \n",
    "    return (tampered_ciphertext, signature, sender_pubkey)\n"
   ]
  },
  {
   "cell_type": "markdown",
   "id": "33c167a0",
   "metadata": {},
   "source": [
    "# Demo"
   ]
  },
  {
   "cell_type": "code",
   "execution_count": 347,
   "id": "775677bb",
   "metadata": {},
   "outputs": [
    {
     "name": "stdout",
     "output_type": "stream",
     "text": [
      "Randomly chosen plaintext: 51084947579396079360995391408893224672\n",
      "\n",
      "No eavesdropper ->\n",
      "Recovered plaintext: 51084947579396079360995391408893224672\n",
      "Sender verified?: True\n",
      "\n",
      "Entire message bits flipped->\n",
      "Recovered plaintext: 6850849766422799884117332439000647167608920513816996848708043004567650676434766831234847422709906968258808174811611916514268636718553869813199023155139695803925745622168777342717656017843660870598003097994241650043116515457989315090723909195208412119974148892819303138638994464570945039487172225852768441749529669808809237175769829482474909823639376601449480024141525540002358799104696471998906013252421514141202622865640397425472206466293258295414007230986251842267793327720491862945463989091783177689108403698368877786495679204992016234155193208535870218063643385312710844625864831464579173564773537057555089591301\n",
      "Sender verified?: False\n",
      "\n",
      "One bit randomly flipped->\n",
      "Recovered plaintext: 8753636867456411144667225620694838613702169604203551105787531103654062502184073225385209409150463409728889311655409462035789191816727582475822932535447473837681669802650962458917487445414356500873065591555975285321481488528336670995760556188349436794944455478154076973062468441964209136214051544081265589012718297696975925369745386172065944413636553235368271194451025975856945153884484309931629722047358093212690721383353868965141286107908132554757146692777543370195750642338829382655514536267191545648033016710958484981632798047391171099977878995823762982893557302370405914761004906143084721690628121780684753880168\n",
      "Sender verified?: False\n",
      "\n",
      "Entire message replaced->\n",
      "Recovered plaintext: 292427446612626826155616657100168597541\n",
      "Sender verified?: False\n",
      "\n"
     ]
    }
   ],
   "source": [
    "def demo():\n",
    "    #Generate random message\n",
    "    message = randint(1, 2**128).to_bytes(16,\"big\")\n",
    "    print(f'Randomly chosen plaintext: {int.from_bytes(message)}\\n')\n",
    "\n",
    "    #Generating keys\n",
    "    sender_public, sender_private = generate_keypair()\n",
    "    receiver_public, receiver_private = generate_keypair()\n",
    "\n",
    "    #Simulate communication with NO EAVESDROPPER\n",
    "    sent_items = simulation_sender(message, \n",
    "                                   receiver_public, \n",
    "                                   sender_private, \n",
    "                                   sender_public) \n",
    "    encrypted_message, signature, sender_public = sent_items\n",
    "        #Sender sends encrypted message, signature and sender public key\n",
    "\n",
    "    recovered_plaintext, verify_status = simulation_receiver(sent_items, receiver_private)\n",
    "    print(f'No eavesdropper ->\\nRecovered plaintext: {recovered_plaintext}\\nSender verified?: {verify_status}\\n')\n",
    "\n",
    "    #Simulate bit flipping\n",
    "    intercepted_items = sent_items\n",
    "    tampered_items = simulation_eavesdropper(intercepted_items,tampering_type='flip_bits_all')\n",
    "    recovered_plaintext, verify_status = simulation_receiver(tampered_items, receiver_private)\n",
    "    print(f'Entire message bits flipped->\\nRecovered plaintext: {recovered_plaintext}\\nSender verified?: {verify_status}\\n')\n",
    "\n",
    "    #Simulate one random bit flipping\n",
    "    intercepted_items = sent_items\n",
    "    tampered_items = simulation_eavesdropper(intercepted_items,tampering_type='flip_bits_random')\n",
    "    recovered_plaintext, verify_status = simulation_receiver(tampered_items, receiver_private)\n",
    "    print(f'One bit randomly flipped->\\nRecovered plaintext: {recovered_plaintext}\\nSender verified?: {verify_status}\\n')\n",
    "\n",
    "    #Simulate entire message replaced\n",
    "    replacement_message = randint(1, 2**128).to_bytes(16,\"big\")\n",
    "    tampered_items = simulation_eavesdropper(intercepted_items,tampering_type='substitution', \n",
    "                                             substitute_message=replacement_message, receiver_pubkey=receiver_public)\n",
    "    recovered_plaintext, verify_status = simulation_receiver(tampered_items, receiver_private)\n",
    "    print(f'Entire message replaced->\\nRecovered plaintext: {recovered_plaintext}\\nSender verified?: {verify_status}\\n')\n",
    "\n",
    "demo()"
   ]
  },
  {
   "cell_type": "code",
   "execution_count": null,
   "id": "cbd9cdfa",
   "metadata": {},
   "outputs": [],
   "source": []
  }
 ],
 "metadata": {
  "kernelspec": {
   "display_name": "Python 3",
   "language": "python",
   "name": "python3"
  },
  "language_info": {
   "codemirror_mode": {
    "name": "ipython",
    "version": 3
   },
   "file_extension": ".py",
   "mimetype": "text/x-python",
   "name": "python",
   "nbconvert_exporter": "python",
   "pygments_lexer": "ipython3",
   "version": "3.13.2"
  }
 },
 "nbformat": 4,
 "nbformat_minor": 5
}
