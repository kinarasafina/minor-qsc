{
 "cells": [
  {
   "cell_type": "code",
   "execution_count": 524,
   "id": "5614830c",
   "metadata": {},
   "outputs": [],
   "source": [
    "import numpy as np\n",
    "from Crypto.Util.number import getPrime, inverse\n",
    "from hashlib import sha256\n",
    "from random import randint\n",
    "import math"
   ]
  },
  {
   "cell_type": "markdown",
   "id": "aae60377",
   "metadata": {},
   "source": [
    "# Key Generation\n",
    "1. Choose two large primes $p$ and $q$\n",
    "2. Compute the modulus $n = p \\cdot q$\n",
    "3. Compute the number of integers that are coprime to $n$ using Euler's phi (totient) function: $\\phi(n) = (p-1)(q-1)$\n",
    "4. Select public exponent $e \\in \\{1,2,...,\\phi(n) -1\\}$ such that\n",
    "$$gcd(e,\\phi(n)) = 1$$\n",
    "5. Compute private key $d$ such that\n",
    "$$d \\cdot e \\equiv \\mod \\phi(n)$$"
   ]
  },
  {
   "cell_type": "code",
   "execution_count": 525,
   "id": "0e38aef4",
   "metadata": {},
   "outputs": [],
   "source": [
    "def generate_keypair(bits: int = 2048): \n",
    "    \"\"\"\n",
    "    Generate an RSA key pair consisting of a public key and a private key.\n",
    "    \"\"\"\n",
    "    p = getPrime(bits // 2)\n",
    "    q = getPrime(bits // 2)\n",
    "    while p == q: #ensures p != q\n",
    "        p = getPrime(bits // 2)\n",
    "    n = p * q #calculate modulus\n",
    "    phi_n = (p - 1) * (q - 1) #Euler's phi function\n",
    "\n",
    "    e = 65537 #standard value for public exponent e\n",
    "    if math.gcd(e, phi_n) != 1: \n",
    "        return generate_keypair(bits)\n",
    "\n",
    "    d = inverse(e, phi_n) #private exponent d\n",
    "\n",
    "    public_key = (n, e)\n",
    "    private_key = (n, d)\n",
    "\n",
    "    return public_key, private_key"
   ]
  },
  {
   "cell_type": "markdown",
   "id": "5c0738d6",
   "metadata": {},
   "source": [
    "# Encryption \n",
    "$$y = e_{k_{receiver,pub}}(x) \\equiv x^{e} \\mod n$$"
   ]
  },
  {
   "cell_type": "code",
   "execution_count": 526,
   "id": "82416193",
   "metadata": {},
   "outputs": [],
   "source": [
    "def encrypt_message(message: bytes, public_key) -> int: \n",
    "    \"\"\"\n",
    "    Encrypt encoded message x using receiver's public key.\n",
    "\n",
    "    Output: ciphertext y (int) \n",
    "    \"\"\"\n",
    "    n, e = public_key\n",
    "    x = int.from_bytes(message, 'big')\n",
    "    y = pow(x, e, n)\n",
    "    \n",
    "    return y"
   ]
  },
  {
   "cell_type": "markdown",
   "id": "110d602a",
   "metadata": {},
   "source": [
    "# Signature"
   ]
  },
  {
   "cell_type": "code",
   "execution_count": 527,
   "id": "da72a4a0",
   "metadata": {},
   "outputs": [],
   "source": [
    "def signature(message: bytes, private_key) -> int: \n",
    "    \"\"\"\n",
    "    Sign the hash digest of the encrypted message with the sender's private key\n",
    "    \"\"\"\n",
    "    n, d = private_key\n",
    "    h = sha256(message)\n",
    "    h_digest = h.digest() #get hash digest\n",
    "    h_int = int.from_bytes(h_digest, 'big')\n",
    "    sign = pow(h_int, d, n)\n",
    "\n",
    "    return h, h_digest, sign"
   ]
  },
  {
   "cell_type": "markdown",
   "id": "9b59aa97",
   "metadata": {},
   "source": [
    "### Here the sender sends both the signature $sign$ and the ciphertext $y$"
   ]
  },
  {
   "cell_type": "markdown",
   "id": "f9e8d386",
   "metadata": {},
   "source": [
    "# Decryption\n",
    "$$x = d_{k_{receiver,priv}}(y) \\equiv y^{d} \\mod n$$"
   ]
  },
  {
   "cell_type": "code",
   "execution_count": 528,
   "id": "41947808",
   "metadata": {},
   "outputs": [],
   "source": [
    "def decrypt_message(ciphertext_y: int, private_key) -> str: \n",
    "    \"\"\"\n",
    "    Decrypt ciphertext y with receiver's private key\n",
    "\n",
    "    Output: plaintext bytes and plaintext\n",
    "    \"\"\"\n",
    "    n, d = private_key\n",
    "    x = pow(ciphertext_y,d, n)\n",
    "    plaintext_bytes = x.to_bytes((x.bit_length() + 7) // 8, 'big')\n",
    "    plaintext = int.from_bytes(plaintext_bytes)\n",
    "\n",
    "    return plaintext_bytes, plaintext"
   ]
  },
  {
   "cell_type": "markdown",
   "id": "ed069780",
   "metadata": {},
   "source": [
    "# Verification"
   ]
  },
  {
   "cell_type": "code",
   "execution_count": 529,
   "id": "ffdd17c9",
   "metadata": {},
   "outputs": [],
   "source": [
    "def verification(signature: int, public_key, message: bytes) -> bool:\n",
    "    \"\"\"\n",
    "    Verifies the authenticity of the sender of the message. \n",
    "    Uses the sender's public key.\n",
    "    \n",
    "    Output: True or False (boolean)\n",
    "    \"\"\"\n",
    "    n, e = public_key\n",
    "    decrypt_to_hash = pow(signature, e, n)\n",
    "    h = sha256(message).digest()\n",
    "    h_int = int.from_bytes(h, 'big')\n",
    "    \n",
    "    return h_int == decrypt_to_hash"
   ]
  },
  {
   "cell_type": "markdown",
   "id": "02eed147",
   "metadata": {},
   "source": [
    "# Simulation Functions"
   ]
  },
  {
   "cell_type": "code",
   "execution_count": 530,
   "id": "9c455a31",
   "metadata": {},
   "outputs": [],
   "source": [
    "def simulation_sender(message, receiver_pubkey: tuple, \n",
    "                      sender_privkey: tuple, sender_pubkey: tuple):\n",
    "    #get ciphertext\n",
    "    y = encrypt_message(message, receiver_pubkey)\n",
    "\n",
    "    #get signature\n",
    "    hash, hash_digest, sign = signature(message, sender_privkey)\n",
    "\n",
    "    #sender sends ciphertext (y) and signature (sign)\n",
    "    return y, sign, sender_pubkey\n",
    "\n",
    "def simulation_receiver(sent_items, receiver_privkey: tuple):\n",
    "    ciphertext, sign, sender_pubkey = sent_items\n",
    "\n",
    "    #decryption\n",
    "    plaintext_bytes, plaintext = decrypt_message(ciphertext, receiver_privkey)\n",
    "\n",
    "    #verification\n",
    "    verify = verification(sign, sender_pubkey, plaintext_bytes)\n",
    "\n",
    "    return plaintext, verify\n",
    "\n",
    "def simulation_eavesdropper(intercept_items, tampering_type=\"flip_bits\", \n",
    "                            substitute_message=None, receiver_pubkey=None):\n",
    "    \"\"\"\n",
    "    Example eavesdropper that tampers with ciphertext\n",
    "\n",
    "    Types of tampering:\n",
    "        - \"flip_bits_all\": flip all bits of ciphertext bytes \n",
    "        - \"flip_bits_random\" : flips bits in a random position\n",
    "        - \"substitution\": Replace ciphertext with encryption of a different message\n",
    "\n",
    "    \"\"\"\n",
    "    ciphertext, signature, sender_pubkey = intercept_items\n",
    "\n",
    "    if tampering_type == 'flip_bits_all':\n",
    "        tampered_ciphertext = ciphertext ^ 1 #XOR 1 to flip bits\n",
    "    \n",
    "    if tampering_type == 'flip_bits_random':\n",
    "        n = ciphertext.bit_length() #bit length\n",
    "        if n == 0: #edge case: if ciphertext = 0, flip to 1\n",
    "            tampered_ciphertext = 1\n",
    "        else:\n",
    "            k = randint(0, n - 1) #random position to flip bit\n",
    "            #(n - 1) because the tampered integer will become larger at exactly n\n",
    "            \n",
    "            tampered_ciphertext = ciphertext ^ (1 << k) \n",
    "            #XOR ciphertext to flip the bits at position k (from the right)\n",
    "\n",
    "    if tampering_type == 'substitution': #attacker chooses message\n",
    "        if receiver_pubkey == None:\n",
    "            raise ValueError(\"Receiver public key needed for substitution\") \n",
    "        tampered_ciphertext = encrypt_message(substitute_message, receiver_pubkey)\n",
    "        \n",
    "    return (tampered_ciphertext, signature, sender_pubkey)\n"
   ]
  },
  {
   "cell_type": "markdown",
   "id": "33c167a0",
   "metadata": {},
   "source": [
    "# Demo"
   ]
  },
  {
   "cell_type": "code",
   "execution_count": null,
   "id": "775677bb",
   "metadata": {},
   "outputs": [],
   "source": [
    "def demo():\n",
    "    #Generate random message\n",
    "    x = randint(1, 2**128)\n",
    "    message = x.to_bytes((x.bit_length() + 7) // 8,\"big\")\n",
    "    print(f'Randomly chosen plaintext: {int.from_bytes(message)}\\n')\n",
    "\n",
    "    #Generating keys\n",
    "    sender_public, sender_private = generate_keypair()\n",
    "    receiver_public, receiver_private = generate_keypair()\n",
    "\n",
    "    #Simulate communication with NO EAVESDROPPER\n",
    "    sent_items = simulation_sender(message, \n",
    "                                   receiver_public, \n",
    "                                   sender_private, \n",
    "                                   sender_public) \n",
    "    encrypted_message, signature, sender_public = sent_items\n",
    "        #Sender sends encrypted message, signature and sender public key\n",
    "    recovered_plaintext, verify_status = simulation_receiver(sent_items, \n",
    "                                                             receiver_private)\n",
    "    print(f'No eavesdropper ->'\n",
    "          f'Recovered plaintext: {recovered_plaintext}\\n'\n",
    "          f'Sender verified?: {verify_status}\\n')\n",
    "\n",
    "    #Simulate bit flipping\n",
    "    intercepted_items = sent_items\n",
    "    tampered_items = simulation_eavesdropper(intercepted_items,\n",
    "                                             tampering_type='flip_bits_all')\n",
    "    recovered_plaintext, verify_status = simulation_receiver(tampered_items, receiver_private)\n",
    "    print(f'Entire message bits flipped ->\\n'\n",
    "          f'Recovered plaintext: {recovered_plaintext}\\n'\n",
    "          f'Sender verified?: {verify_status}\\n')\n",
    "\n",
    "    #Simulate one random bit flipping\n",
    "    intercepted_items = sent_items\n",
    "    tampered_items = simulation_eavesdropper(intercepted_items,tampering_type='flip_bits_random')\n",
    "    recovered_plaintext, verify_status = simulation_receiver(tampered_items, receiver_private)\n",
    "    print(f'One bit randomly flipped ->\\n' \n",
    "          f'Recovered plaintext: {recovered_plaintext}\\n' \n",
    "          f'Sender verified?: {verify_status}\\n')\n",
    "\n",
    "    #Simulate entire message replaced\n",
    "    replacement_message = 'No message for you'.encode('utf-8')\n",
    "    tampered_items = simulation_eavesdropper(intercepted_items,\n",
    "                                             tampering_type='substitution', \n",
    "                                             substitute_message=replacement_message, \n",
    "                                             receiver_pubkey=receiver_public)\n",
    "    recovered_plaintext, verify_status = simulation_receiver(tampered_items, receiver_private)\n",
    "    plaintext_decode = recovered_plaintext.to_bytes((recovered_plaintext.bit_length() + 7)//8).decode('utf-8')\n",
    "    print(f'Entire message replaced ->\\n' \n",
    "          f'Recovered plaintext: {plaintext_decode}\\n'\n",
    "          f'Sender verified?: {verify_status}\\n')"
   ]
  },
  {
   "cell_type": "code",
   "execution_count": 532,
   "id": "a0e834d3",
   "metadata": {},
   "outputs": [
    {
     "name": "stdout",
     "output_type": "stream",
     "text": [
      "Randomly chosen plaintext: 179891552242382912097672576776452314443\n",
      "\n",
      "No eavesdropper ->Recovered plaintext: 179891552242382912097672576776452314443\n",
      "Sender verified?: True\n",
      "\n",
      "Entire message bits flipped ->\n",
      "Recovered plaintext: 6867388813019741941125266512530528352697493602850512868615035222224403121438318722392063695957447779696967161771548938773981510431914389026698292594543093863371681858856311316827476025535963942431811347776720727713312954546459542022495558610660185490411450596480650392859211304192126308691153309062379640127194687781570999916388105374765246059604466361662396637712413696792883220120154707903848059680468574381935721750982215140610903357428576656191702992191107311168132079465273779486297382789822742669795275827671296629599883464108469577579001300465237864604434899005243020531633022815888181198109078362606318787984\n",
      "Sender verified?: False\n",
      "\n",
      "One bit randomly flipped ->\n",
      "Recovered plaintext: 12548808278255069354024742788616079346751267746877194050214447821581178305586515781837075302773290603603881912122532500197384483045705110617046119632974104249831512186415759913105491864669921741918969948335677548970945449288398473583250065085397301320938123718029550215823903148367966314924958475026933144996618950650354798669900537006063339021228587329701549142547634267612802699746412674617255809815603208912186245343266096694443097320834292758504164421049455920539525067287629117851714862987541457277786064635595508504291524811544492077162124486847926204219830035467850506498771189306480042790808587236901020150065\n",
      "Sender verified?: False\n",
      "\n",
      "Entire message replaced ->\n",
      "Recovered plaintext: No message for you\n",
      "Sender verified?: False\n",
      "\n"
     ]
    }
   ],
   "source": [
    "demo()"
   ]
  }
 ],
 "metadata": {
  "kernelspec": {
   "display_name": "Python 3",
   "language": "python",
   "name": "python3"
  },
  "language_info": {
   "codemirror_mode": {
    "name": "ipython",
    "version": 3
   },
   "file_extension": ".py",
   "mimetype": "text/x-python",
   "name": "python",
   "nbconvert_exporter": "python",
   "pygments_lexer": "ipython3",
   "version": "3.13.2"
  }
 },
 "nbformat": 4,
 "nbformat_minor": 5
}
